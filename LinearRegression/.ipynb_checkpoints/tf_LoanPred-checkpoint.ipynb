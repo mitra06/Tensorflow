{
 "cells": [
  {
   "cell_type": "code",
   "execution_count": 12,
   "metadata": {
    "collapsed": true
   },
   "outputs": [],
   "source": [
    "import pandas as pd\n",
    "import numpy as np\n",
    "\n",
    "train=pd.read_csv('E:/myAnacondaProj/train.csv')"
   ]
  },
  {
   "cell_type": "code",
   "execution_count": 13,
   "metadata": {
    "collapsed": true
   },
   "outputs": [],
   "source": [
    "train['Gender'] = train['Gender'].fillna( train['Gender'].dropna().mode().values[0] )\n",
    "train['Married'] = train['Married'].fillna( train['Married'].dropna().mode().values[0] )\n",
    "train['Dependents'] = train['Dependents'].fillna( train['Dependents'].dropna().mode().values[0] )\n",
    "train['Self_Employed'] = train['Self_Employed'].fillna( train['Self_Employed'].dropna().mode().values[0] )\n",
    "train['LoanAmount'] = train['LoanAmount'].fillna( train['LoanAmount'].dropna().mean() )\n",
    "train['Loan_Amount_Term'] = train['Loan_Amount_Term'].fillna( train['Loan_Amount_Term'].dropna().mode().values[0] )\n",
    "train['Credit_History'] = train['Credit_History'].fillna( train['Credit_History'].dropna().mode().values[0] )\n",
    "\n",
    "train['Gender'] = train['Gender'].map({'Female': 0, 'Male': 1})\n",
    "train['Married'] = train['Married'].map({'Yes': 1, 'No': 0})\n",
    "train['Dependents'] = train['Dependents'].str.replace('+', '')\n",
    "train['Dependents'] = train['Dependents'].map({'0': 0, '1': 1, '2' : 2, '3' : 3})\n",
    "train['Education'] = train['Education'].map({'Graduate': 1, 'Not Graduate': 0})\n",
    "train['Self_Employed'] = train['Self_Employed'].map({'No': 0, 'Yes': 1})\n",
    "train['Property_Area'] = train['Property_Area'].map({'Rural': 0, 'Semiurban': 1, 'Urban' : 2})\n",
    "train['Loan_Status'] = train['Loan_Status'].map({'Y': 1, 'N': 0})"
   ]
  },
  {
   "cell_type": "code",
   "execution_count": 14,
   "metadata": {},
   "outputs": [
    {
     "data": {
      "text/html": [
       "<div>\n",
       "<style>\n",
       "    .dataframe thead tr:only-child th {\n",
       "        text-align: right;\n",
       "    }\n",
       "\n",
       "    .dataframe thead th {\n",
       "        text-align: left;\n",
       "    }\n",
       "\n",
       "    .dataframe tbody tr th {\n",
       "        vertical-align: top;\n",
       "    }\n",
       "</style>\n",
       "<table border=\"1\" class=\"dataframe\">\n",
       "  <thead>\n",
       "    <tr style=\"text-align: right;\">\n",
       "      <th></th>\n",
       "      <th>Gender</th>\n",
       "      <th>Married</th>\n",
       "      <th>Dependents</th>\n",
       "      <th>Education</th>\n",
       "      <th>Self_Employed</th>\n",
       "      <th>ApplicantIncome</th>\n",
       "      <th>CoapplicantIncome</th>\n",
       "      <th>LoanAmount</th>\n",
       "      <th>Loan_Amount_Term</th>\n",
       "      <th>Credit_History</th>\n",
       "      <th>Property_Area</th>\n",
       "      <th>Loan_Status</th>\n",
       "    </tr>\n",
       "  </thead>\n",
       "  <tbody>\n",
       "    <tr>\n",
       "      <th>count</th>\n",
       "      <td>614.000000</td>\n",
       "      <td>614.000000</td>\n",
       "      <td>614.000000</td>\n",
       "      <td>614.000000</td>\n",
       "      <td>614.000000</td>\n",
       "      <td>614.000000</td>\n",
       "      <td>614.000000</td>\n",
       "      <td>614.000000</td>\n",
       "      <td>614.000000</td>\n",
       "      <td>614.000000</td>\n",
       "      <td>614.000000</td>\n",
       "      <td>614.000000</td>\n",
       "    </tr>\n",
       "    <tr>\n",
       "      <th>mean</th>\n",
       "      <td>0.817590</td>\n",
       "      <td>0.653094</td>\n",
       "      <td>0.744300</td>\n",
       "      <td>0.781759</td>\n",
       "      <td>0.133550</td>\n",
       "      <td>5403.459283</td>\n",
       "      <td>1621.245798</td>\n",
       "      <td>146.412162</td>\n",
       "      <td>342.410423</td>\n",
       "      <td>0.855049</td>\n",
       "      <td>1.037459</td>\n",
       "      <td>0.687296</td>\n",
       "    </tr>\n",
       "    <tr>\n",
       "      <th>std</th>\n",
       "      <td>0.386497</td>\n",
       "      <td>0.476373</td>\n",
       "      <td>1.009623</td>\n",
       "      <td>0.413389</td>\n",
       "      <td>0.340446</td>\n",
       "      <td>6109.041673</td>\n",
       "      <td>2926.248369</td>\n",
       "      <td>84.037468</td>\n",
       "      <td>64.428629</td>\n",
       "      <td>0.352339</td>\n",
       "      <td>0.787482</td>\n",
       "      <td>0.463973</td>\n",
       "    </tr>\n",
       "    <tr>\n",
       "      <th>min</th>\n",
       "      <td>0.000000</td>\n",
       "      <td>0.000000</td>\n",
       "      <td>0.000000</td>\n",
       "      <td>0.000000</td>\n",
       "      <td>0.000000</td>\n",
       "      <td>150.000000</td>\n",
       "      <td>0.000000</td>\n",
       "      <td>9.000000</td>\n",
       "      <td>12.000000</td>\n",
       "      <td>0.000000</td>\n",
       "      <td>0.000000</td>\n",
       "      <td>0.000000</td>\n",
       "    </tr>\n",
       "    <tr>\n",
       "      <th>25%</th>\n",
       "      <td>1.000000</td>\n",
       "      <td>0.000000</td>\n",
       "      <td>0.000000</td>\n",
       "      <td>1.000000</td>\n",
       "      <td>0.000000</td>\n",
       "      <td>2877.500000</td>\n",
       "      <td>0.000000</td>\n",
       "      <td>100.250000</td>\n",
       "      <td>360.000000</td>\n",
       "      <td>1.000000</td>\n",
       "      <td>0.000000</td>\n",
       "      <td>0.000000</td>\n",
       "    </tr>\n",
       "    <tr>\n",
       "      <th>50%</th>\n",
       "      <td>1.000000</td>\n",
       "      <td>1.000000</td>\n",
       "      <td>0.000000</td>\n",
       "      <td>1.000000</td>\n",
       "      <td>0.000000</td>\n",
       "      <td>3812.500000</td>\n",
       "      <td>1188.500000</td>\n",
       "      <td>129.000000</td>\n",
       "      <td>360.000000</td>\n",
       "      <td>1.000000</td>\n",
       "      <td>1.000000</td>\n",
       "      <td>1.000000</td>\n",
       "    </tr>\n",
       "    <tr>\n",
       "      <th>75%</th>\n",
       "      <td>1.000000</td>\n",
       "      <td>1.000000</td>\n",
       "      <td>1.000000</td>\n",
       "      <td>1.000000</td>\n",
       "      <td>0.000000</td>\n",
       "      <td>5795.000000</td>\n",
       "      <td>2297.250000</td>\n",
       "      <td>164.750000</td>\n",
       "      <td>360.000000</td>\n",
       "      <td>1.000000</td>\n",
       "      <td>2.000000</td>\n",
       "      <td>1.000000</td>\n",
       "    </tr>\n",
       "    <tr>\n",
       "      <th>max</th>\n",
       "      <td>1.000000</td>\n",
       "      <td>1.000000</td>\n",
       "      <td>3.000000</td>\n",
       "      <td>1.000000</td>\n",
       "      <td>1.000000</td>\n",
       "      <td>81000.000000</td>\n",
       "      <td>41667.000000</td>\n",
       "      <td>700.000000</td>\n",
       "      <td>480.000000</td>\n",
       "      <td>1.000000</td>\n",
       "      <td>2.000000</td>\n",
       "      <td>1.000000</td>\n",
       "    </tr>\n",
       "  </tbody>\n",
       "</table>\n",
       "</div>"
      ],
      "text/plain": [
       "           Gender     Married  Dependents   Education  Self_Employed  \\\n",
       "count  614.000000  614.000000  614.000000  614.000000     614.000000   \n",
       "mean     0.817590    0.653094    0.744300    0.781759       0.133550   \n",
       "std      0.386497    0.476373    1.009623    0.413389       0.340446   \n",
       "min      0.000000    0.000000    0.000000    0.000000       0.000000   \n",
       "25%      1.000000    0.000000    0.000000    1.000000       0.000000   \n",
       "50%      1.000000    1.000000    0.000000    1.000000       0.000000   \n",
       "75%      1.000000    1.000000    1.000000    1.000000       0.000000   \n",
       "max      1.000000    1.000000    3.000000    1.000000       1.000000   \n",
       "\n",
       "       ApplicantIncome  CoapplicantIncome  LoanAmount  Loan_Amount_Term  \\\n",
       "count       614.000000         614.000000  614.000000        614.000000   \n",
       "mean       5403.459283        1621.245798  146.412162        342.410423   \n",
       "std        6109.041673        2926.248369   84.037468         64.428629   \n",
       "min         150.000000           0.000000    9.000000         12.000000   \n",
       "25%        2877.500000           0.000000  100.250000        360.000000   \n",
       "50%        3812.500000        1188.500000  129.000000        360.000000   \n",
       "75%        5795.000000        2297.250000  164.750000        360.000000   \n",
       "max       81000.000000       41667.000000  700.000000        480.000000   \n",
       "\n",
       "       Credit_History  Property_Area  Loan_Status  \n",
       "count      614.000000     614.000000   614.000000  \n",
       "mean         0.855049       1.037459     0.687296  \n",
       "std          0.352339       0.787482     0.463973  \n",
       "min          0.000000       0.000000     0.000000  \n",
       "25%          1.000000       0.000000     0.000000  \n",
       "50%          1.000000       1.000000     1.000000  \n",
       "75%          1.000000       2.000000     1.000000  \n",
       "max          1.000000       2.000000     1.000000  "
      ]
     },
     "execution_count": 14,
     "metadata": {},
     "output_type": "execute_result"
    }
   ],
   "source": [
    "train.describe()"
   ]
  },
  {
   "cell_type": "code",
   "execution_count": 15,
   "metadata": {},
   "outputs": [
    {
     "name": "stdout",
     "output_type": "stream",
     "text": [
      "Table Missing Values\n"
     ]
    },
    {
     "data": {
      "text/plain": [
       "Loan_ID              0\n",
       "Gender               0\n",
       "Married              0\n",
       "Dependents           0\n",
       "Education            0\n",
       "Self_Employed        0\n",
       "ApplicantIncome      0\n",
       "CoapplicantIncome    0\n",
       "LoanAmount           0\n",
       "Loan_Amount_Term     0\n",
       "Credit_History       0\n",
       "Property_Area        0\n",
       "Loan_Status          0\n",
       "dtype: int64"
      ]
     },
     "execution_count": 15,
     "metadata": {},
     "output_type": "execute_result"
    }
   ],
   "source": [
    "print(\"Table Missing Values\")\n",
    "train.apply(lambda x: sum(x.isnull()),axis=0)"
   ]
  },
  {
   "cell_type": "code",
   "execution_count": 16,
   "metadata": {
    "collapsed": true
   },
   "outputs": [],
   "source": [
    "temp = pd.DataFrame()\n",
    "temp = train\n",
    "del temp['Loan_ID']"
   ]
  },
  {
   "cell_type": "code",
   "execution_count": 17,
   "metadata": {
    "collapsed": true
   },
   "outputs": [],
   "source": [
    "data = temp.drop(['Gender','Education','Dependents','Self_Employed','Married','Loan_Amount_Term'],axis=1)"
   ]
  },
  {
   "cell_type": "code",
   "execution_count": 18,
   "metadata": {},
   "outputs": [
    {
     "data": {
      "text/plain": [
       "Index(['ApplicantIncome', 'CoapplicantIncome', 'LoanAmount', 'Credit_History',\n",
       "       'Property_Area', 'Loan_Status'],\n",
       "      dtype='object')"
      ]
     },
     "execution_count": 18,
     "metadata": {},
     "output_type": "execute_result"
    }
   ],
   "source": [
    "data.columns"
   ]
  },
  {
   "cell_type": "code",
   "execution_count": 19,
   "metadata": {
    "collapsed": true
   },
   "outputs": [],
   "source": [
    "data['LoanStatus'] = data['Loan_Status']"
   ]
  },
  {
   "cell_type": "code",
   "execution_count": 20,
   "metadata": {
    "collapsed": true
   },
   "outputs": [],
   "source": [
    "del data['Loan_Status']"
   ]
  },
  {
   "cell_type": "code",
   "execution_count": 21,
   "metadata": {
    "collapsed": true
   },
   "outputs": [],
   "source": [
    "data.iloc[:,0:-1] = data.iloc[:,0:-1].astype(np.float32)"
   ]
  },
  {
   "cell_type": "code",
   "execution_count": 23,
   "metadata": {},
   "outputs": [
    {
     "data": {
      "text/html": [
       "<div>\n",
       "<style>\n",
       "    .dataframe thead tr:only-child th {\n",
       "        text-align: right;\n",
       "    }\n",
       "\n",
       "    .dataframe thead th {\n",
       "        text-align: left;\n",
       "    }\n",
       "\n",
       "    .dataframe tbody tr th {\n",
       "        vertical-align: top;\n",
       "    }\n",
       "</style>\n",
       "<table border=\"1\" class=\"dataframe\">\n",
       "  <thead>\n",
       "    <tr style=\"text-align: right;\">\n",
       "      <th></th>\n",
       "      <th>ApplicantIncome</th>\n",
       "      <th>CoapplicantIncome</th>\n",
       "      <th>LoanAmount</th>\n",
       "      <th>Credit_History</th>\n",
       "      <th>Property_Area</th>\n",
       "      <th>LoanStatus</th>\n",
       "    </tr>\n",
       "  </thead>\n",
       "  <tbody>\n",
       "    <tr>\n",
       "      <th>0</th>\n",
       "      <td>0.072991</td>\n",
       "      <td>-0.554487</td>\n",
       "      <td>-8.050106e-08</td>\n",
       "      <td>0.411733</td>\n",
       "      <td>1.223298</td>\n",
       "      <td>1</td>\n",
       "    </tr>\n",
       "    <tr>\n",
       "      <th>1</th>\n",
       "      <td>-0.134412</td>\n",
       "      <td>-0.038732</td>\n",
       "      <td>-2.192733e-01</td>\n",
       "      <td>0.411733</td>\n",
       "      <td>-1.318513</td>\n",
       "      <td>0</td>\n",
       "    </tr>\n",
       "    <tr>\n",
       "      <th>2</th>\n",
       "      <td>-0.393747</td>\n",
       "      <td>-0.554487</td>\n",
       "      <td>-9.576410e-01</td>\n",
       "      <td>0.411733</td>\n",
       "      <td>1.223298</td>\n",
       "      <td>1</td>\n",
       "    </tr>\n",
       "    <tr>\n",
       "      <th>3</th>\n",
       "      <td>-0.462062</td>\n",
       "      <td>0.251980</td>\n",
       "      <td>-3.145466e-01</td>\n",
       "      <td>0.411733</td>\n",
       "      <td>1.223298</td>\n",
       "      <td>1</td>\n",
       "    </tr>\n",
       "    <tr>\n",
       "      <th>4</th>\n",
       "      <td>0.097728</td>\n",
       "      <td>-0.554487</td>\n",
       "      <td>-6.445428e-02</td>\n",
       "      <td>0.411733</td>\n",
       "      <td>1.223298</td>\n",
       "      <td>1</td>\n",
       "    </tr>\n",
       "  </tbody>\n",
       "</table>\n",
       "</div>"
      ],
      "text/plain": [
       "   ApplicantIncome  CoapplicantIncome    LoanAmount  Credit_History  \\\n",
       "0         0.072991          -0.554487 -8.050106e-08        0.411733   \n",
       "1        -0.134412          -0.038732 -2.192733e-01        0.411733   \n",
       "2        -0.393747          -0.554487 -9.576410e-01        0.411733   \n",
       "3        -0.462062           0.251980 -3.145466e-01        0.411733   \n",
       "4         0.097728          -0.554487 -6.445428e-02        0.411733   \n",
       "\n",
       "   Property_Area  LoanStatus  \n",
       "0       1.223298           1  \n",
       "1      -1.318513           0  \n",
       "2       1.223298           1  \n",
       "3       1.223298           1  \n",
       "4       1.223298           1  "
      ]
     },
     "execution_count": 23,
     "metadata": {},
     "output_type": "execute_result"
    }
   ],
   "source": [
    "from sklearn.preprocessing import StandardScaler\n",
    "slc= StandardScaler()\n",
    "\n",
    "data.iloc[:,0:-1] = slc.fit_transform(data.iloc[:,0:-1])\n",
    "data.head()"
   ]
  },
  {
   "cell_type": "code",
   "execution_count": 24,
   "metadata": {},
   "outputs": [
    {
     "data": {
      "text/plain": [
       "6"
      ]
     },
     "execution_count": 24,
     "metadata": {},
     "output_type": "execute_result"
    }
   ],
   "source": [
    "data.columns.size"
   ]
  },
  {
   "cell_type": "code",
   "execution_count": 25,
   "metadata": {
    "collapsed": true
   },
   "outputs": [],
   "source": [
    "from sklearn.model_selection import train_test_split\n",
    "X_train, X_test, y_train, y_test = train_test_split(data.iloc[:,0:-1], data['LoanStatus'], test_size=0.33, random_state=1)"
   ]
  },
  {
   "cell_type": "code",
   "execution_count": 26,
   "metadata": {
    "collapsed": true
   },
   "outputs": [],
   "source": [
    "import tensorflow as tf"
   ]
  },
  {
   "cell_type": "code",
   "execution_count": 27,
   "metadata": {
    "collapsed": true
   },
   "outputs": [],
   "source": [
    "from tensorflow.contrib.tensor_forest import tensor_forest"
   ]
  },
  {
   "cell_type": "code",
   "execution_count": 31,
   "metadata": {
    "collapsed": true
   },
   "outputs": [],
   "source": [
    "columns = data.columns[0:-1]\n",
    "feature_columns = [tf.contrib.layers.real_valued_column(k) for k in columns]"
   ]
  },
  {
   "cell_type": "code",
   "execution_count": 32,
   "metadata": {
    "collapsed": true
   },
   "outputs": [],
   "source": [
    "def input_fn(df,labels):\n",
    "    feature_cols = {k:tf.constant(df[k].values,shape = [df[k].size,1]) for k in columns}\n",
    "    label = tf.constant(labels.values, shape = [labels.size,1])\n",
    "    return feature_cols,label"
   ]
  },
  {
   "cell_type": "code",
   "execution_count": 35,
   "metadata": {},
   "outputs": [
    {
     "name": "stdout",
     "output_type": "stream",
     "text": [
      "INFO:tensorflow:Using default config.\n",
      "INFO:tensorflow:Using config: {'_keep_checkpoint_every_n_hours': 10000, '_is_chief': True, '_tf_config': gpu_options {\n",
      "  per_process_gpu_memory_fraction: 1\n",
      "}\n",
      ", '_save_checkpoints_secs': 600, '_num_worker_replicas': 0, '_save_summary_steps': 100, '_save_checkpoints_steps': None, '_model_dir': None, '_cluster_spec': <tensorflow.python.training.server_lib.ClusterSpec object at 0x000001436B55EF60>, '_evaluation_master': '', '_task_type': None, '_task_id': 0, '_tf_random_seed': None, '_master': '', '_environment': 'local', '_num_ps_replicas': 0, '_keep_checkpoint_max': 5}\n",
      "WARNING:tensorflow:Using temporary folder as model directory: C:\\Users\\ansh1\\AppData\\Local\\Temp\\tmpjegdrkgc\n"
     ]
    }
   ],
   "source": [
    "classifier = tf.contrib.learn.DNNClassifier(feature_columns=feature_columns,\n",
    "                                            hidden_units=[20,20],n_classes = 2)"
   ]
  },
  {
   "cell_type": "code",
   "execution_count": 36,
   "metadata": {},
   "outputs": [
    {
     "name": "stdout",
     "output_type": "stream",
     "text": [
      "WARNING:tensorflow:From E:\\Anaconda3\\envs\\mytensorflowgpu\\lib\\site-packages\\tensorflow\\contrib\\learn\\python\\learn\\estimators\\head.py:615: scalar_summary (from tensorflow.python.ops.logging_ops) is deprecated and will be removed after 2016-11-30.\n",
      "Instructions for updating:\n",
      "Please switch to tf.summary.scalar. Note that tf.summary.scalar uses the node name instead of the tag. This means that TensorFlow will automatically de-duplicate summary names based on the scope they are created in. Also, passing a tensor or list of tags to a scalar summary op is no longer supported.\n",
      "INFO:tensorflow:Create CheckpointSaverHook.\n",
      "INFO:tensorflow:Saving checkpoints for 1 into C:\\Users\\ansh1\\AppData\\Local\\Temp\\tmpjegdrkgc\\model.ckpt.\n",
      "INFO:tensorflow:loss = 0.757873, step = 1\n",
      "INFO:tensorflow:global_step/sec: 506.264\n",
      "INFO:tensorflow:loss = 0.44284, step = 101 (0.200 sec)\n",
      "INFO:tensorflow:global_step/sec: 583.232\n",
      "INFO:tensorflow:loss = 0.430866, step = 201 (0.170 sec)\n",
      "INFO:tensorflow:global_step/sec: 619.478\n",
      "INFO:tensorflow:loss = 0.423345, step = 301 (0.161 sec)\n",
      "INFO:tensorflow:global_step/sec: 608.101\n",
      "INFO:tensorflow:loss = 0.417532, step = 401 (0.164 sec)\n",
      "INFO:tensorflow:global_step/sec: 604.482\n",
      "INFO:tensorflow:loss = 0.412799, step = 501 (0.165 sec)\n",
      "INFO:tensorflow:global_step/sec: 604.449\n",
      "INFO:tensorflow:loss = 0.40793, step = 601 (0.165 sec)\n",
      "INFO:tensorflow:global_step/sec: 593.654\n",
      "INFO:tensorflow:loss = 0.403764, step = 701 (0.168 sec)\n",
      "INFO:tensorflow:global_step/sec: 608.138\n",
      "INFO:tensorflow:loss = 0.400251, step = 801 (0.164 sec)\n",
      "INFO:tensorflow:global_step/sec: 590.144\n",
      "INFO:tensorflow:loss = 0.396002, step = 901 (0.169 sec)\n",
      "INFO:tensorflow:global_step/sec: 600.807\n",
      "INFO:tensorflow:loss = 0.392189, step = 1001 (0.166 sec)\n",
      "INFO:tensorflow:global_step/sec: 583.24\n",
      "INFO:tensorflow:loss = 0.388509, step = 1101 (0.171 sec)\n",
      "INFO:tensorflow:global_step/sec: 608.135\n",
      "INFO:tensorflow:loss = 0.384715, step = 1201 (0.164 sec)\n",
      "INFO:tensorflow:global_step/sec: 563.468\n",
      "INFO:tensorflow:loss = 0.380887, step = 1301 (0.177 sec)\n",
      "INFO:tensorflow:global_step/sec: 600.771\n",
      "INFO:tensorflow:loss = 0.376903, step = 1401 (0.166 sec)\n",
      "INFO:tensorflow:global_step/sec: 593.691\n",
      "INFO:tensorflow:loss = 0.372993, step = 1501 (0.169 sec)\n",
      "INFO:tensorflow:global_step/sec: 593.658\n",
      "INFO:tensorflow:loss = 0.36875, step = 1601 (0.167 sec)\n",
      "INFO:tensorflow:global_step/sec: 579.851\n",
      "INFO:tensorflow:loss = 0.364357, step = 1701 (0.173 sec)\n",
      "INFO:tensorflow:global_step/sec: 593.611\n",
      "INFO:tensorflow:loss = 0.360556, step = 1801 (0.167 sec)\n",
      "INFO:tensorflow:global_step/sec: 590.186\n",
      "INFO:tensorflow:loss = 0.356408, step = 1901 (0.169 sec)\n",
      "INFO:tensorflow:global_step/sec: 593.655\n",
      "INFO:tensorflow:loss = 0.352021, step = 2001 (0.168 sec)\n",
      "INFO:tensorflow:global_step/sec: 593.654\n",
      "INFO:tensorflow:loss = 0.348216, step = 2101 (0.168 sec)\n",
      "INFO:tensorflow:global_step/sec: 566.673\n",
      "INFO:tensorflow:loss = 0.344331, step = 2201 (0.176 sec)\n",
      "INFO:tensorflow:global_step/sec: 579.851\n",
      "INFO:tensorflow:loss = 0.34106, step = 2301 (0.172 sec)\n",
      "INFO:tensorflow:global_step/sec: 583.236\n",
      "INFO:tensorflow:loss = 0.338111, step = 2401 (0.174 sec)\n",
      "INFO:tensorflow:global_step/sec: 484.128\n",
      "INFO:tensorflow:loss = 0.335126, step = 2501 (0.205 sec)\n",
      "INFO:tensorflow:global_step/sec: 593.69\n",
      "INFO:tensorflow:loss = 0.332394, step = 2601 (0.167 sec)\n",
      "INFO:tensorflow:global_step/sec: 586.668\n",
      "INFO:tensorflow:loss = 0.329679, step = 2701 (0.170 sec)\n",
      "INFO:tensorflow:global_step/sec: 597.21\n",
      "INFO:tensorflow:loss = 0.327163, step = 2801 (0.167 sec)\n",
      "INFO:tensorflow:global_step/sec: 503.707\n",
      "INFO:tensorflow:loss = 0.324681, step = 2901 (0.199 sec)\n",
      "INFO:tensorflow:global_step/sec: 560.307\n",
      "INFO:tensorflow:loss = 0.32228, step = 3001 (0.178 sec)\n",
      "INFO:tensorflow:global_step/sec: 600.809\n",
      "INFO:tensorflow:loss = 0.31955, step = 3101 (0.166 sec)\n",
      "INFO:tensorflow:global_step/sec: 631.227\n",
      "INFO:tensorflow:loss = 0.317072, step = 3201 (0.158 sec)\n",
      "INFO:tensorflow:global_step/sec: 608.12\n",
      "INFO:tensorflow:loss = 0.314306, step = 3301 (0.164 sec)\n",
      "INFO:tensorflow:global_step/sec: 615.658\n",
      "INFO:tensorflow:loss = 0.311644, step = 3401 (0.162 sec)\n",
      "INFO:tensorflow:global_step/sec: 600.809\n",
      "INFO:tensorflow:loss = 0.308591, step = 3501 (0.166 sec)\n",
      "INFO:tensorflow:global_step/sec: 611.868\n",
      "INFO:tensorflow:loss = 0.303187, step = 3601 (0.163 sec)\n",
      "INFO:tensorflow:global_step/sec: 593.654\n",
      "INFO:tensorflow:loss = 0.298393, step = 3701 (0.168 sec)\n",
      "INFO:tensorflow:global_step/sec: 597.21\n",
      "INFO:tensorflow:loss = 0.293588, step = 3801 (0.167 sec)\n",
      "INFO:tensorflow:global_step/sec: 608.109\n",
      "INFO:tensorflow:loss = 0.28955, step = 3901 (0.164 sec)\n",
      "INFO:tensorflow:global_step/sec: 586.697\n",
      "INFO:tensorflow:loss = 0.285428, step = 4001 (0.170 sec)\n",
      "INFO:tensorflow:global_step/sec: 593.656\n",
      "INFO:tensorflow:loss = 0.28253, step = 4101 (0.168 sec)\n",
      "INFO:tensorflow:global_step/sec: 579.846\n",
      "INFO:tensorflow:loss = 0.27847, step = 4201 (0.172 sec)\n",
      "INFO:tensorflow:global_step/sec: 586.65\n",
      "INFO:tensorflow:loss = 0.275742, step = 4301 (0.171 sec)\n",
      "INFO:tensorflow:global_step/sec: 548.011\n",
      "INFO:tensorflow:loss = 0.272594, step = 4401 (0.181 sec)\n",
      "INFO:tensorflow:global_step/sec: 576.475\n",
      "INFO:tensorflow:loss = 0.269639, step = 4501 (0.174 sec)\n",
      "INFO:tensorflow:global_step/sec: 597.235\n",
      "INFO:tensorflow:loss = 0.266435, step = 4601 (0.167 sec)\n",
      "INFO:tensorflow:global_step/sec: 590.144\n",
      "INFO:tensorflow:loss = 0.263698, step = 4701 (0.168 sec)\n",
      "INFO:tensorflow:global_step/sec: 579.818\n",
      "INFO:tensorflow:loss = 0.261239, step = 4801 (0.172 sec)\n",
      "INFO:tensorflow:global_step/sec: 586.703\n",
      "INFO:tensorflow:loss = 0.258529, step = 4901 (0.170 sec)\n",
      "INFO:tensorflow:global_step/sec: 583.242\n",
      "INFO:tensorflow:loss = 0.256852, step = 5001 (0.171 sec)\n",
      "INFO:tensorflow:global_step/sec: 590.143\n",
      "INFO:tensorflow:loss = 0.254653, step = 5101 (0.169 sec)\n",
      "INFO:tensorflow:global_step/sec: 590.142\n",
      "INFO:tensorflow:loss = 0.253294, step = 5201 (0.169 sec)\n",
      "INFO:tensorflow:global_step/sec: 583.242\n",
      "INFO:tensorflow:loss = 0.251037, step = 5301 (0.172 sec)\n",
      "INFO:tensorflow:global_step/sec: 586.644\n",
      "INFO:tensorflow:loss = 0.249261, step = 5401 (0.169 sec)\n",
      "INFO:tensorflow:global_step/sec: 608.164\n",
      "INFO:tensorflow:loss = 0.246654, step = 5501 (0.164 sec)\n",
      "INFO:tensorflow:global_step/sec: 604.449\n",
      "INFO:tensorflow:loss = 0.245741, step = 5601 (0.166 sec)\n",
      "INFO:tensorflow:global_step/sec: 600.808\n",
      "INFO:tensorflow:loss = 0.244379, step = 5701 (0.165 sec)\n",
      "INFO:tensorflow:global_step/sec: 496.19\n",
      "INFO:tensorflow:loss = 0.242061, step = 5801 (0.206 sec)\n",
      "INFO:tensorflow:global_step/sec: 498.672\n",
      "INFO:tensorflow:loss = 0.241033, step = 5901 (0.199 sec)\n",
      "INFO:tensorflow:global_step/sec: 542.032\n",
      "INFO:tensorflow:loss = 0.239184, step = 6001 (0.184 sec)\n",
      "INFO:tensorflow:global_step/sec: 498.671\n",
      "INFO:tensorflow:loss = 0.237898, step = 6101 (0.202 sec)\n",
      "INFO:tensorflow:global_step/sec: 569.888\n",
      "INFO:tensorflow:loss = 0.236709, step = 6201 (0.173 sec)\n",
      "INFO:tensorflow:global_step/sec: 619.493\n",
      "INFO:tensorflow:loss = 0.235137, step = 6301 (0.160 sec)\n",
      "INFO:tensorflow:global_step/sec: 573.184\n",
      "INFO:tensorflow:loss = 0.233897, step = 6401 (0.174 sec)\n",
      "INFO:tensorflow:global_step/sec: 542.033\n",
      "INFO:tensorflow:loss = 0.23291, step = 6501 (0.185 sec)\n",
      "INFO:tensorflow:global_step/sec: 527.692\n",
      "INFO:tensorflow:loss = 0.231694, step = 6601 (0.189 sec)\n",
      "INFO:tensorflow:global_step/sec: 560.303\n",
      "INFO:tensorflow:loss = 0.229843, step = 6701 (0.179 sec)\n",
      "INFO:tensorflow:global_step/sec: 522.172\n",
      "INFO:tensorflow:loss = 0.22843, step = 6801 (0.192 sec)\n",
      "INFO:tensorflow:global_step/sec: 569.907\n",
      "INFO:tensorflow:loss = 0.227252, step = 6901 (0.174 sec)\n",
      "INFO:tensorflow:global_step/sec: 539.106\n",
      "INFO:tensorflow:loss = 0.225456, step = 7001 (0.187 sec)\n",
      "INFO:tensorflow:global_step/sec: 506.265\n",
      "INFO:tensorflow:loss = 0.224247, step = 7101 (0.198 sec)\n",
      "INFO:tensorflow:global_step/sec: 583.219\n",
      "INFO:tensorflow:loss = 0.222869, step = 7201 (0.169 sec)\n",
      "INFO:tensorflow:global_step/sec: 576.52\n",
      "INFO:tensorflow:loss = 0.22165, step = 7301 (0.174 sec)\n",
      "INFO:tensorflow:global_step/sec: 491.3\n",
      "INFO:tensorflow:loss = 0.220268, step = 7401 (0.207 sec)\n",
      "INFO:tensorflow:global_step/sec: 557.175\n",
      "INFO:tensorflow:loss = 0.219289, step = 7501 (0.176 sec)\n",
      "INFO:tensorflow:global_step/sec: 604.451\n",
      "INFO:tensorflow:loss = 0.217643, step = 7601 (0.165 sec)\n",
      "INFO:tensorflow:global_step/sec: 619.464\n"
     ]
    },
    {
     "name": "stdout",
     "output_type": "stream",
     "text": [
      "INFO:tensorflow:loss = 0.216953, step = 7701 (0.161 sec)\n",
      "INFO:tensorflow:global_step/sec: 579.852\n",
      "INFO:tensorflow:loss = 0.215662, step = 7801 (0.171 sec)\n",
      "INFO:tensorflow:global_step/sec: 527.688\n",
      "INFO:tensorflow:loss = 0.214258, step = 7901 (0.191 sec)\n",
      "INFO:tensorflow:global_step/sec: 536.211\n",
      "INFO:tensorflow:loss = 0.212972, step = 8001 (0.186 sec)\n",
      "INFO:tensorflow:global_step/sec: 536.204\n",
      "INFO:tensorflow:loss = 0.211355, step = 8101 (0.187 sec)\n",
      "INFO:tensorflow:global_step/sec: 586.673\n",
      "INFO:tensorflow:loss = 0.210599, step = 8201 (0.170 sec)\n",
      "INFO:tensorflow:global_step/sec: 627.209\n",
      "INFO:tensorflow:loss = 0.209202, step = 8301 (0.158 sec)\n",
      "INFO:tensorflow:global_step/sec: 619.514\n",
      "INFO:tensorflow:loss = 0.208156, step = 8401 (0.161 sec)\n",
      "INFO:tensorflow:global_step/sec: 619.46\n",
      "INFO:tensorflow:loss = 0.207707, step = 8501 (0.161 sec)\n",
      "INFO:tensorflow:global_step/sec: 631.237\n",
      "INFO:tensorflow:loss = 0.206674, step = 8601 (0.159 sec)\n",
      "INFO:tensorflow:global_step/sec: 563.467\n",
      "INFO:tensorflow:loss = 0.205789, step = 8701 (0.177 sec)\n",
      "INFO:tensorflow:global_step/sec: 544.997\n",
      "INFO:tensorflow:loss = 0.204916, step = 8801 (0.183 sec)\n",
      "INFO:tensorflow:global_step/sec: 615.643\n",
      "INFO:tensorflow:loss = 0.203448, step = 8901 (0.162 sec)\n",
      "INFO:tensorflow:global_step/sec: 608.132\n",
      "INFO:tensorflow:loss = 0.202874, step = 9001 (0.163 sec)\n",
      "INFO:tensorflow:global_step/sec: 516.756\n",
      "INFO:tensorflow:loss = 0.201653, step = 9101 (0.195 sec)\n",
      "INFO:tensorflow:global_step/sec: 545\n",
      "INFO:tensorflow:loss = 0.200608, step = 9201 (0.182 sec)\n",
      "INFO:tensorflow:global_step/sec: 639.32\n",
      "INFO:tensorflow:loss = 0.200642, step = 9301 (0.157 sec)\n",
      "INFO:tensorflow:global_step/sec: 590.144\n",
      "INFO:tensorflow:loss = 0.199074, step = 9401 (0.169 sec)\n",
      "INFO:tensorflow:global_step/sec: 516.756\n",
      "INFO:tensorflow:loss = 0.198093, step = 9501 (0.193 sec)\n",
      "INFO:tensorflow:global_step/sec: 579.85\n",
      "INFO:tensorflow:loss = 0.197971, step = 9601 (0.172 sec)\n",
      "INFO:tensorflow:global_step/sec: 615.642\n",
      "INFO:tensorflow:loss = 0.197123, step = 9701 (0.163 sec)\n",
      "INFO:tensorflow:global_step/sec: 604.454\n",
      "INFO:tensorflow:loss = 0.195443, step = 9801 (0.164 sec)\n",
      "INFO:tensorflow:global_step/sec: 619.465\n",
      "INFO:tensorflow:loss = 0.194852, step = 9901 (0.161 sec)\n",
      "INFO:tensorflow:Saving checkpoints for 10000 into C:\\Users\\ansh1\\AppData\\Local\\Temp\\tmpjegdrkgc\\model.ckpt.\n",
      "INFO:tensorflow:Loss for final step: 0.193599.\n"
     ]
    },
    {
     "data": {
      "text/plain": [
       "DNNClassifier(params={'embedding_lr_multipliers': None, 'dropout': None, 'feature_columns': (_RealValuedColumn(column_name='ApplicantIncome', dimension=1, default_value=None, dtype=tf.float32, normalizer=None), _RealValuedColumn(column_name='CoapplicantIncome', dimension=1, default_value=None, dtype=tf.float32, normalizer=None), _RealValuedColumn(column_name='LoanAmount', dimension=1, default_value=None, dtype=tf.float32, normalizer=None), _RealValuedColumn(column_name='Credit_History', dimension=1, default_value=None, dtype=tf.float32, normalizer=None), _RealValuedColumn(column_name='Property_Area', dimension=1, default_value=None, dtype=tf.float32, normalizer=None)), 'head': <tensorflow.contrib.learn.python.learn.estimators.head._BinaryLogisticHead object at 0x000001436B55EFD0>, 'input_layer_min_slice_size': None, 'gradient_clip_norm': None, 'hidden_units': [20, 20], 'optimizer': None, 'activation_fn': <function relu at 0x0000014368A62A60>})"
      ]
     },
     "execution_count": 36,
     "metadata": {},
     "output_type": "execute_result"
    }
   ],
   "source": [
    "classifier.fit(input_fn=lambda: input_fn(X_train,y_train),steps =10000)"
   ]
  },
  {
   "cell_type": "code",
   "execution_count": 37,
   "metadata": {},
   "outputs": [
    {
     "name": "stdout",
     "output_type": "stream",
     "text": [
      "WARNING:tensorflow:From E:\\Anaconda3\\envs\\mytensorflowgpu\\lib\\site-packages\\tensorflow\\contrib\\learn\\python\\learn\\estimators\\head.py:615: scalar_summary (from tensorflow.python.ops.logging_ops) is deprecated and will be removed after 2016-11-30.\n",
      "Instructions for updating:\n",
      "Please switch to tf.summary.scalar. Note that tf.summary.scalar uses the node name instead of the tag. This means that TensorFlow will automatically de-duplicate summary names based on the scope they are created in. Also, passing a tensor or list of tags to a scalar summary op is no longer supported.\n",
      "INFO:tensorflow:Starting evaluation at 2017-08-27-06:56:50\n",
      "INFO:tensorflow:Restoring parameters from C:\\Users\\ansh1\\AppData\\Local\\Temp\\tmpjegdrkgc\\model.ckpt-10000\n",
      "INFO:tensorflow:Evaluation [1/1]\n",
      "INFO:tensorflow:Finished evaluation at 2017-08-27-06:56:50\n",
      "INFO:tensorflow:Saving dict for global step 10000: accuracy = 0.724138, accuracy/baseline_label_mean = 0.650246, accuracy/threshold_0.500000_mean = 0.724138, auc = 0.710201, global_step = 10000, labels/actual_label_mean = 0.650246, labels/prediction_mean = 0.688489, loss = 1.34052, precision/positive_threshold_0.500000_mean = 0.75, recall/positive_threshold_0.500000_mean = 0.863636\n",
      "WARNING:tensorflow:Skipping summary for global_step, must be a float or np.float32.\n"
     ]
    }
   ],
   "source": [
    "ev = classifier.evaluate(input_fn=lambda: input_fn(X_test,y_test),steps=1)"
   ]
  },
  {
   "cell_type": "code",
   "execution_count": 38,
   "metadata": {},
   "outputs": [
    {
     "data": {
      "text/plain": [
       "{'accuracy': 0.7241379,\n",
       " 'accuracy/baseline_label_mean': 0.65024632,\n",
       " 'accuracy/threshold_0.500000_mean': 0.7241379,\n",
       " 'auc': 0.71020055,\n",
       " 'global_step': 10000,\n",
       " 'labels/actual_label_mean': 0.65024632,\n",
       " 'labels/prediction_mean': 0.68848914,\n",
       " 'loss': 1.3405218,\n",
       " 'precision/positive_threshold_0.500000_mean': 0.75,\n",
       " 'recall/positive_threshold_0.500000_mean': 0.86363637}"
      ]
     },
     "execution_count": 38,
     "metadata": {},
     "output_type": "execute_result"
    }
   ],
   "source": [
    "ev"
   ]
  },
  {
   "cell_type": "code",
   "execution_count": 79,
   "metadata": {
    "collapsed": true
   },
   "outputs": [],
   "source": [
    "test=pd.read_csv('E:/myAnacondaProj/test.csv')"
   ]
  },
  {
   "cell_type": "code",
   "execution_count": 80,
   "metadata": {
    "collapsed": true
   },
   "outputs": [],
   "source": [
    "test['Gender'] = test['Gender'].fillna( test['Gender'].dropna().mode().values[0] )\n",
    "test['Married'] = test['Married'].fillna( test['Married'].dropna().mode().values[0] )\n",
    "test['Dependents'] = test['Dependents'].fillna( test['Dependents'].dropna().mode().values[0] )\n",
    "test['Self_Employed'] = test['Self_Employed'].fillna( test['Self_Employed'].dropna().mode().values[0] )\n",
    "test['LoanAmount'] = test['LoanAmount'].fillna( test['LoanAmount'].dropna().mean() )\n",
    "test['Loan_Amount_Term'] = test['Loan_Amount_Term'].fillna( test['Loan_Amount_Term'].dropna().mode().values[0] )\n",
    "test['Credit_History'] = test['Credit_History'].fillna( test['Credit_History'].dropna().mode().values[0] )\n",
    "\n",
    "test['Gender'] = test['Gender'].map({'Female': 0, 'Male': 1})\n",
    "test['Married'] = test['Married'].map({'Yes': 1, 'No': 0})\n",
    "test['Dependents'] = test['Dependents'].str.replace('+', '')\n",
    "test['Dependents'] = test['Dependents'].map({'0': 0, '1': 1, '2' : 2, '3' : 3})\n",
    "test['Education'] = test['Education'].map({'Graduate': 1, 'Not Graduate': 0})\n",
    "test['Self_Employed'] = test['Self_Employed'].map({'No': 0, 'Yes': 1})\n",
    "test['Property_Area'] = test['Property_Area'].map({'Rural': 0, 'Semiurban': 1, 'Urban' : 2})"
   ]
  },
  {
   "cell_type": "code",
   "execution_count": 81,
   "metadata": {
    "collapsed": true
   },
   "outputs": [],
   "source": [
    "testtemp = pd.DataFrame()\n",
    "testtemp = test.copy()\n",
    "del testtemp['Loan_ID']"
   ]
  },
  {
   "cell_type": "code",
   "execution_count": 82,
   "metadata": {},
   "outputs": [
    {
     "data": {
      "text/html": [
       "<div>\n",
       "<style>\n",
       "    .dataframe thead tr:only-child th {\n",
       "        text-align: right;\n",
       "    }\n",
       "\n",
       "    .dataframe thead th {\n",
       "        text-align: left;\n",
       "    }\n",
       "\n",
       "    .dataframe tbody tr th {\n",
       "        vertical-align: top;\n",
       "    }\n",
       "</style>\n",
       "<table border=\"1\" class=\"dataframe\">\n",
       "  <thead>\n",
       "    <tr style=\"text-align: right;\">\n",
       "      <th></th>\n",
       "      <th>Married</th>\n",
       "      <th>Dependents</th>\n",
       "      <th>Self_Employed</th>\n",
       "      <th>ApplicantIncome</th>\n",
       "      <th>CoapplicantIncome</th>\n",
       "      <th>LoanAmount</th>\n",
       "      <th>Loan_Amount_Term</th>\n",
       "      <th>Credit_History</th>\n",
       "      <th>Property_Area</th>\n",
       "    </tr>\n",
       "  </thead>\n",
       "  <tbody>\n",
       "    <tr>\n",
       "      <th>count</th>\n",
       "      <td>367.000000</td>\n",
       "      <td>367.000000</td>\n",
       "      <td>367.000000</td>\n",
       "      <td>367.000000</td>\n",
       "      <td>367.000000</td>\n",
       "      <td>367.000000</td>\n",
       "      <td>367.000000</td>\n",
       "      <td>367.000000</td>\n",
       "      <td>367.000000</td>\n",
       "    </tr>\n",
       "    <tr>\n",
       "      <th>mean</th>\n",
       "      <td>0.634877</td>\n",
       "      <td>0.806540</td>\n",
       "      <td>0.100817</td>\n",
       "      <td>4805.599455</td>\n",
       "      <td>1569.577657</td>\n",
       "      <td>136.132597</td>\n",
       "      <td>342.822888</td>\n",
       "      <td>0.839237</td>\n",
       "      <td>1.079019</td>\n",
       "    </tr>\n",
       "    <tr>\n",
       "      <th>std</th>\n",
       "      <td>0.482122</td>\n",
       "      <td>1.065177</td>\n",
       "      <td>0.301498</td>\n",
       "      <td>4910.685399</td>\n",
       "      <td>2334.232099</td>\n",
       "      <td>60.946040</td>\n",
       "      <td>64.658402</td>\n",
       "      <td>0.367814</td>\n",
       "      <td>0.824337</td>\n",
       "    </tr>\n",
       "    <tr>\n",
       "      <th>min</th>\n",
       "      <td>0.000000</td>\n",
       "      <td>0.000000</td>\n",
       "      <td>0.000000</td>\n",
       "      <td>0.000000</td>\n",
       "      <td>0.000000</td>\n",
       "      <td>28.000000</td>\n",
       "      <td>6.000000</td>\n",
       "      <td>0.000000</td>\n",
       "      <td>0.000000</td>\n",
       "    </tr>\n",
       "    <tr>\n",
       "      <th>25%</th>\n",
       "      <td>0.000000</td>\n",
       "      <td>0.000000</td>\n",
       "      <td>0.000000</td>\n",
       "      <td>2864.000000</td>\n",
       "      <td>0.000000</td>\n",
       "      <td>101.000000</td>\n",
       "      <td>360.000000</td>\n",
       "      <td>1.000000</td>\n",
       "      <td>0.000000</td>\n",
       "    </tr>\n",
       "    <tr>\n",
       "      <th>50%</th>\n",
       "      <td>1.000000</td>\n",
       "      <td>0.000000</td>\n",
       "      <td>0.000000</td>\n",
       "      <td>3786.000000</td>\n",
       "      <td>1025.000000</td>\n",
       "      <td>126.000000</td>\n",
       "      <td>360.000000</td>\n",
       "      <td>1.000000</td>\n",
       "      <td>1.000000</td>\n",
       "    </tr>\n",
       "    <tr>\n",
       "      <th>75%</th>\n",
       "      <td>1.000000</td>\n",
       "      <td>2.000000</td>\n",
       "      <td>0.000000</td>\n",
       "      <td>5060.000000</td>\n",
       "      <td>2430.500000</td>\n",
       "      <td>157.500000</td>\n",
       "      <td>360.000000</td>\n",
       "      <td>1.000000</td>\n",
       "      <td>2.000000</td>\n",
       "    </tr>\n",
       "    <tr>\n",
       "      <th>max</th>\n",
       "      <td>1.000000</td>\n",
       "      <td>3.000000</td>\n",
       "      <td>1.000000</td>\n",
       "      <td>72529.000000</td>\n",
       "      <td>24000.000000</td>\n",
       "      <td>550.000000</td>\n",
       "      <td>480.000000</td>\n",
       "      <td>1.000000</td>\n",
       "      <td>2.000000</td>\n",
       "    </tr>\n",
       "  </tbody>\n",
       "</table>\n",
       "</div>"
      ],
      "text/plain": [
       "          Married  Dependents  Self_Employed  ApplicantIncome  \\\n",
       "count  367.000000  367.000000     367.000000       367.000000   \n",
       "mean     0.634877    0.806540       0.100817      4805.599455   \n",
       "std      0.482122    1.065177       0.301498      4910.685399   \n",
       "min      0.000000    0.000000       0.000000         0.000000   \n",
       "25%      0.000000    0.000000       0.000000      2864.000000   \n",
       "50%      1.000000    0.000000       0.000000      3786.000000   \n",
       "75%      1.000000    2.000000       0.000000      5060.000000   \n",
       "max      1.000000    3.000000       1.000000     72529.000000   \n",
       "\n",
       "       CoapplicantIncome  LoanAmount  Loan_Amount_Term  Credit_History  \\\n",
       "count         367.000000  367.000000        367.000000      367.000000   \n",
       "mean         1569.577657  136.132597        342.822888        0.839237   \n",
       "std          2334.232099   60.946040         64.658402        0.367814   \n",
       "min             0.000000   28.000000          6.000000        0.000000   \n",
       "25%             0.000000  101.000000        360.000000        1.000000   \n",
       "50%          1025.000000  126.000000        360.000000        1.000000   \n",
       "75%          2430.500000  157.500000        360.000000        1.000000   \n",
       "max         24000.000000  550.000000        480.000000        1.000000   \n",
       "\n",
       "       Property_Area  \n",
       "count     367.000000  \n",
       "mean        1.079019  \n",
       "std         0.824337  \n",
       "min         0.000000  \n",
       "25%         0.000000  \n",
       "50%         1.000000  \n",
       "75%         2.000000  \n",
       "max         2.000000  "
      ]
     },
     "execution_count": 82,
     "metadata": {},
     "output_type": "execute_result"
    }
   ],
   "source": [
    "testdata = pd.DataFrame()\n",
    "testdata = testtemp.drop(['Gender', 'Education'],axis=1)\n",
    "testdata.describe()"
   ]
  },
  {
   "cell_type": "code",
   "execution_count": 83,
   "metadata": {},
   "outputs": [
    {
     "data": {
      "text/html": [
       "<div>\n",
       "<style>\n",
       "    .dataframe thead tr:only-child th {\n",
       "        text-align: right;\n",
       "    }\n",
       "\n",
       "    .dataframe thead th {\n",
       "        text-align: left;\n",
       "    }\n",
       "\n",
       "    .dataframe tbody tr th {\n",
       "        vertical-align: top;\n",
       "    }\n",
       "</style>\n",
       "<table border=\"1\" class=\"dataframe\">\n",
       "  <thead>\n",
       "    <tr style=\"text-align: right;\">\n",
       "      <th></th>\n",
       "      <th>Married</th>\n",
       "      <th>Dependents</th>\n",
       "      <th>Self_Employed</th>\n",
       "      <th>ApplicantIncome</th>\n",
       "      <th>CoapplicantIncome</th>\n",
       "      <th>LoanAmount</th>\n",
       "      <th>Loan_Amount_Term</th>\n",
       "      <th>Credit_History</th>\n",
       "      <th>Property_Area</th>\n",
       "    </tr>\n",
       "  </thead>\n",
       "  <tbody>\n",
       "    <tr>\n",
       "      <th>0</th>\n",
       "      <td>1.0</td>\n",
       "      <td>0.000000</td>\n",
       "      <td>0.0</td>\n",
       "      <td>0.078865</td>\n",
       "      <td>0.000000</td>\n",
       "      <td>0.157088</td>\n",
       "      <td>0.746835</td>\n",
       "      <td>1.0</td>\n",
       "      <td>1.0</td>\n",
       "    </tr>\n",
       "    <tr>\n",
       "      <th>1</th>\n",
       "      <td>1.0</td>\n",
       "      <td>0.333333</td>\n",
       "      <td>0.0</td>\n",
       "      <td>0.042411</td>\n",
       "      <td>0.062500</td>\n",
       "      <td>0.187739</td>\n",
       "      <td>0.746835</td>\n",
       "      <td>1.0</td>\n",
       "      <td>1.0</td>\n",
       "    </tr>\n",
       "    <tr>\n",
       "      <th>2</th>\n",
       "      <td>1.0</td>\n",
       "      <td>0.666667</td>\n",
       "      <td>0.0</td>\n",
       "      <td>0.068938</td>\n",
       "      <td>0.075000</td>\n",
       "      <td>0.344828</td>\n",
       "      <td>0.746835</td>\n",
       "      <td>1.0</td>\n",
       "      <td>1.0</td>\n",
       "    </tr>\n",
       "    <tr>\n",
       "      <th>3</th>\n",
       "      <td>1.0</td>\n",
       "      <td>0.666667</td>\n",
       "      <td>0.0</td>\n",
       "      <td>0.032263</td>\n",
       "      <td>0.106083</td>\n",
       "      <td>0.137931</td>\n",
       "      <td>0.746835</td>\n",
       "      <td>1.0</td>\n",
       "      <td>1.0</td>\n",
       "    </tr>\n",
       "    <tr>\n",
       "      <th>4</th>\n",
       "      <td>0.0</td>\n",
       "      <td>0.000000</td>\n",
       "      <td>0.0</td>\n",
       "      <td>0.045168</td>\n",
       "      <td>0.000000</td>\n",
       "      <td>0.095785</td>\n",
       "      <td>0.746835</td>\n",
       "      <td>1.0</td>\n",
       "      <td>1.0</td>\n",
       "    </tr>\n",
       "  </tbody>\n",
       "</table>\n",
       "</div>"
      ],
      "text/plain": [
       "   Married  Dependents  Self_Employed  ApplicantIncome  CoapplicantIncome  \\\n",
       "0      1.0    0.000000            0.0         0.078865           0.000000   \n",
       "1      1.0    0.333333            0.0         0.042411           0.062500   \n",
       "2      1.0    0.666667            0.0         0.068938           0.075000   \n",
       "3      1.0    0.666667            0.0         0.032263           0.106083   \n",
       "4      0.0    0.000000            0.0         0.045168           0.000000   \n",
       "\n",
       "   LoanAmount  Loan_Amount_Term  Credit_History  Property_Area  \n",
       "0    0.157088          0.746835             1.0            1.0  \n",
       "1    0.187739          0.746835             1.0            1.0  \n",
       "2    0.344828          0.746835             1.0            1.0  \n",
       "3    0.137931          0.746835             1.0            1.0  \n",
       "4    0.095785          0.746835             1.0            1.0  "
      ]
     },
     "execution_count": 83,
     "metadata": {},
     "output_type": "execute_result"
    }
   ],
   "source": [
    "from sklearn.preprocessing import MinMaxScaler\n",
    "slc= MinMaxScaler()\n",
    "\n",
    "testdata.iloc[:,0:9]= slc.fit_transform(testdata.iloc[:,0:9])\n",
    "testdata.head()"
   ]
  },
  {
   "cell_type": "code",
   "execution_count": 84,
   "metadata": {
    "collapsed": true
   },
   "outputs": [],
   "source": [
    "def input_predict(df):\n",
    "    feature_cols = {k:tf.constant(df[k].values,shape = [df[k].size,1]) for k in columns}\n",
    "    return feature_cols"
   ]
  },
  {
   "cell_type": "code",
   "execution_count": 85,
   "metadata": {},
   "outputs": [
    {
     "name": "stdout",
     "output_type": "stream",
     "text": [
      "WARNING:tensorflow:From E:\\Anaconda3\\envs\\mytensorflowgpu\\lib\\site-packages\\tensorflow\\python\\util\\deprecation.py:335: calling DNNClassifier.predict (from tensorflow.contrib.learn.python.learn.estimators.dnn) with outputs=None is deprecated and will be removed after 2017-03-01.\n",
      "Instructions for updating:\n",
      "Please switch to predict_classes, or set `outputs` argument.\n",
      "INFO:tensorflow:Restoring parameters from C:\\Users\\ansh1\\AppData\\Local\\Temp\\tmprisf_nuw\\model.ckpt-50000\n"
     ]
    }
   ],
   "source": [
    "pred = classifier.predict(input_fn=lambda: input_predict(testdata))"
   ]
  },
  {
   "cell_type": "code",
   "execution_count": 86,
   "metadata": {},
   "outputs": [
    {
     "name": "stdout",
     "output_type": "stream",
     "text": [
      "[1, 1, 0, 0, 1, 1, 1, 0, 0, 1, 1, 1, 1, 0, 1, 1, 1, 1, 1, 0, 1, 0, 1, 1, 1, 0, 1, 1, 1, 1, 1, 1, 1, 1, 1, 0, 1, 0, 1, 1, 1, 1, 1, 1, 1, 1, 1, 1, 1, 0, 1, 1, 1, 1, 1, 0, 1, 1, 1, 0, 1, 1, 1, 0, 1, 1, 0, 0, 1, 0, 1, 1, 1, 0, 1, 1, 1, 1, 1, 1, 0, 0, 0, 1, 0, 0, 0, 1, 1, 1, 1, 1, 1, 1, 1, 1, 1, 1, 1, 1, 1, 0, 1, 0, 1, 1, 0, 1, 1, 1, 1, 1, 1, 1, 1, 1, 1, 0, 0, 0, 1, 0, 1, 0, 0, 1, 0, 1, 1, 1, 1, 0, 1, 1, 1, 1, 1, 0, 1, 1, 0, 0, 0, 1, 1, 1, 1, 0, 1, 1, 1, 1, 1, 0, 1, 1, 1, 1, 1, 1, 1, 0, 1, 1, 0, 0, 0, 1, 0, 0, 1, 1, 1, 0, 0, 1, 1, 1, 1, 1, 1, 1, 1, 1, 1, 1, 1, 1, 0, 0, 1, 1, 0, 0, 1, 1, 0, 1, 0, 1, 0, 1, 1, 1, 1, 1, 1, 1, 1, 0, 1, 0, 1, 1, 0, 1, 1, 0, 1, 1, 1, 1, 1, 1, 0, 1, 1, 0, 0, 0, 0, 1, 0, 1, 1, 0, 1, 0, 1, 1, 1, 0, 1, 0, 1, 1, 1, 1, 1, 0, 0, 1, 1, 1, 0, 0, 0, 1, 1, 0, 1, 1, 1, 1, 0, 1, 0, 0, 0, 1, 0, 1, 1, 0, 0, 1, 1, 1, 0, 0, 1, 1, 1, 0, 1, 0, 1, 0, 1, 0, 1, 1, 0, 0, 1, 1, 1, 0, 1, 1, 1, 0, 1, 0, 1, 1, 1, 1, 1, 1, 1, 0, 1, 1, 0, 0, 1, 0, 1, 0, 0, 1, 1, 0, 0, 0, 1, 1, 0, 1, 1, 0, 1, 1, 1, 1, 0, 1, 0, 0, 1, 1, 0, 1, 1, 1, 0, 1, 1, 0, 1, 0, 1, 1, 0, 1, 1, 1, 0, 1, 0, 1, 1, 1, 1, 1, 0]\n"
     ]
    }
   ],
   "source": [
    "print(list(pred))"
   ]
  },
  {
   "cell_type": "code",
   "execution_count": 188,
   "metadata": {},
   "outputs": [
    {
     "name": "stdout",
     "output_type": "stream",
     "text": [
      "[1, 1, 1, 1, 1, 1, 0, 1, 1, 1, 1, 1, 0, 1, 1, 1, 1, 1, 1, 0, 1, 0, 1, 1, 1, 1, 1, 1, 0, 1, 1, 1, 1, 1, 1, 1, 1, 0, 1, 1, 1, 1, 1, 1, 1, 1, 1, 1, 1, 1, 1, 1, 1, 1, 1, 1, 1, 1, 0, 1, 1, 1, 1, 0, 1, 1, 0, 0, 1, 1, 1, 1, 1, 1, 1, 1, 1, 0, 1, 1, 1, 0, 1, 1, 0, 0, 1, 1, 1, 1, 1, 1, 1, 1, 0, 1, 1, 1, 1, 1, 1, 0, 1, 1, 1, 0, 0, 1, 1, 1, 1, 0, 1, 1, 1, 1, 1, 0, 0, 0, 1, 1, 1, 1, 0, 1, 0, 1, 1, 1, 1, 1, 0, 1, 1, 1, 1, 0, 1, 1, 1, 1, 1, 1, 0, 0, 1, 0, 1, 1, 1, 1, 1, 0, 1, 1, 1, 1, 1, 1, 1, 0, 1, 1, 1, 1, 0, 1, 0, 1, 1, 1, 1, 0, 0, 1, 1, 1, 1, 1, 1, 1, 1, 1, 1, 0, 1, 1, 1, 1, 1, 1, 0, 0, 1, 1, 0, 1, 0, 0, 1, 1, 1, 1, 1, 1, 1, 1, 1, 1, 1, 1, 0, 1, 1, 1, 0, 1, 1, 0, 1, 1, 1, 1, 0, 1, 1, 1, 1, 1, 1, 1, 1, 1, 1, 1, 1, 1, 1, 1, 1, 0, 1, 0, 1, 0, 1, 1, 1, 1, 1, 1, 0, 1, 0, 1, 1, 1, 1, 1, 1, 1, 1, 0, 1, 1, 0, 1, 0, 1, 1, 1, 0, 1, 0, 1, 1, 1, 1, 1, 1, 1, 1, 0, 1, 1, 1, 1, 1, 1, 1, 1, 1, 0, 0, 1, 1, 1, 1, 1, 1, 0, 1, 0, 1, 1, 1, 1, 1, 1, 1, 0, 1, 1, 0, 1, 1, 0, 1, 1, 1, 0, 1, 1, 0, 0, 1, 1, 1, 0, 1, 1, 1, 0, 1, 1, 1, 1, 0, 1, 0, 1, 1, 1, 1, 1, 0, 1, 1, 0, 1, 1, 1, 1, 0, 1, 1, 1, 1, 1, 1, 0, 1, 1, 1, 1, 0]\n"
     ]
    }
   ],
   "source": [
    "x=\n",
    "print(x)"
   ]
  },
  {
   "cell_type": "code",
   "execution_count": 189,
   "metadata": {
    "collapsed": true
   },
   "outputs": [],
   "source": [
    "submit = pd.DataFrame()\n",
    "submit['Loan_ID'] = test['Loan_ID']\n",
    "submit['Loan_Status'] = x\n",
    "submit['Loan_Status'] = submit['Loan_Status'].map({0:'N', 1:'Y'})\n",
    "submit.to_csv('my_submission4.csv', index=False)"
   ]
  },
  {
   "cell_type": "code",
   "execution_count": null,
   "metadata": {
    "collapsed": true
   },
   "outputs": [],
   "source": []
  }
 ],
 "metadata": {
  "kernelspec": {
   "display_name": "Python 3",
   "language": "python",
   "name": "python3"
  },
  "language_info": {
   "codemirror_mode": {
    "name": "ipython",
    "version": 3
   },
   "file_extension": ".py",
   "mimetype": "text/x-python",
   "name": "python",
   "nbconvert_exporter": "python",
   "pygments_lexer": "ipython3",
   "version": "3.6.1"
  }
 },
 "nbformat": 4,
 "nbformat_minor": 2
}
