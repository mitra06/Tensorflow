{
 "cells": [
  {
   "cell_type": "code",
   "execution_count": 1,
   "metadata": {
    "collapsed": true
   },
   "outputs": [],
   "source": [
    "import tensorflow as tf\n",
    "import numpy as np\n",
    "import matplotlib.pyplot as plt"
   ]
  },
  {
   "cell_type": "code",
   "execution_count": 2,
   "metadata": {
    "collapsed": true
   },
   "outputs": [],
   "source": [
    "# parameter\n",
    "learning_rate=0.01\n",
    "training_epochs = 1000\n",
    "display_step = 50\n",
    "initial_accumulator_value=0.1\n",
    "use_locking=False"
   ]
  },
  {
   "cell_type": "code",
   "execution_count": 13,
   "metadata": {},
   "outputs": [],
   "source": [
    "# Training Data\n",
    "train_x=np.asarray([3.3,4.4,5.5,6.6,7.7,8.8,9.9,2.3,4.5])\n",
    "train_y=np.asarray([1.3,2.4,3.5,4.6,5.7,6.8,7.9,.3,2.5])\n",
    "n_samples=train_x.shape[0]\n"
   ]
  },
  {
   "cell_type": "code",
   "execution_count": 14,
   "metadata": {
    "collapsed": true
   },
   "outputs": [],
   "source": [
    "# tf graph Input\n",
    "X=tf.placeholder(\"float\")\n",
    "Y=tf.placeholder(\"float\")"
   ]
  },
  {
   "cell_type": "code",
   "execution_count": 15,
   "metadata": {},
   "outputs": [],
   "source": [
    "#set model weight\n",
    "W=tf.Variable(np.random.randn(), name=\"weight\")\n",
    "b=tf.Variable(np.random.randn(), name=\"bias\")"
   ]
  },
  {
   "cell_type": "code",
   "execution_count": 16,
   "metadata": {
    "collapsed": true
   },
   "outputs": [],
   "source": [
    "#construct linear model\n",
    "pred=tf.add(tf.multiply(X,W),b)"
   ]
  },
  {
   "cell_type": "code",
   "execution_count": 17,
   "metadata": {
    "collapsed": true
   },
   "outputs": [],
   "source": [
    "#Mean Squared error\n",
    "cost=tf.reduce_sum(tf.pow(pred-Y,2))/(2*n_samples)"
   ]
  },
  {
   "cell_type": "code",
   "execution_count": 20,
   "metadata": {},
   "outputs": [],
   "source": [
    "# optimizer=tf.train.AdagradOptimize\n",
    "optimizer=tf.train.AdagradOptimizer(learning_rate, initial_accumulator_value, use_locking, name='Adagrad').minimize(cost)"
   ]
  },
  {
   "cell_type": "code",
   "execution_count": 21,
   "metadata": {
    "collapsed": true
   },
   "outputs": [],
   "source": [
    "# assign the variable(ie assign their default value)\n",
    "init = tf.global_variables_initializer()"
   ]
  },
  {
   "cell_type": "code",
   "execution_count": 28,
   "metadata": {},
   "outputs": [
    {
     "name": "stdout",
     "output_type": "stream",
     "text": [
      "Epoch: 0050 cost= 0.997470975 W= 0.414324 b= 1.51491\n",
      "Epoch: 0100 cost= 0.910852134 W= 0.449861 b= 1.49534\n",
      "Epoch: 0150 cost= 0.877241969 W= 0.468034 b= 1.46772\n",
      "Epoch: 0200 cost= 0.856169522 W= 0.479392 b= 1.43927\n",
      "Epoch: 0250 cost= 0.839664578 W= 0.487433 b= 1.41175\n",
      "Epoch: 0300 cost= 0.825444460 W= 0.493649 b= 1.38557\n",
      "Epoch: 0350 cost= 0.812656999 W= 0.498768 b= 1.36079\n",
      "Epoch: 0400 cost= 0.800905764 W= 0.503177 b= 1.3373\n",
      "Epoch: 0450 cost= 0.789966881 W= 0.5071 b= 1.31499\n",
      "Epoch: 0500 cost= 0.779697657 W= 0.510672 b= 1.29374\n",
      "Epoch: 0550 cost= 0.769997239 W= 0.513979 b= 1.27344\n",
      "Epoch: 0600 cost= 0.760788858 W= 0.517077 b= 1.25398\n",
      "Epoch: 0650 cost= 0.752013206 W= 0.520006 b= 1.23529\n",
      "Epoch: 0700 cost= 0.743620276 W= 0.522794 b= 1.21728\n",
      "Epoch: 0750 cost= 0.735574007 W= 0.525462 b= 1.1999\n",
      "Epoch: 0800 cost= 0.727839053 W= 0.528026 b= 1.18308\n",
      "Epoch: 0850 cost= 0.720387101 W= 0.530498 b= 1.16679\n",
      "Epoch: 0900 cost= 0.713195562 W= 0.532889 b= 1.15098\n",
      "Epoch: 0950 cost= 0.706241906 W= 0.535205 b= 1.13561\n",
      "Epoch: 1000 cost= 0.699509203 W= 0.537455 b= 1.12066\n",
      "optimization finished!\n",
      "Training cost= 0.699509 W= 0.537455 b= 1.12066 \n",
      "\n"
     ]
    },
    {
     "data": {
      "image/png": "[encoded data removed]",
      "text/plain": [
       "<matplotlib.figure.Figure at 0xc7c87f43c8>"
      ]
     },
     "metadata": {},
     "output_type": "display_data"
    }
   ],
   "source": [
    "# start training\n",
    "with tf.Session() as sess:\n",
    "    sess.run(init)\n",
    "    \n",
    "    # fit all training data\n",
    "    for epochs in range(training_epochs):\n",
    "        for(x,y) in zip(train_x,train_y):\n",
    "            sess.run(optimizer,feed_dict={X:x,Y:y})\n",
    "            \n",
    "        # Display epoch per steps\n",
    "        \n",
    "        if(epochs+1)%display_step==0:\n",
    "            c=sess.run(cost,feed_dict={X:train_x,Y:train_y})\n",
    "            print(\"Epoch:\", '%04d' % (epochs+1), \"cost=\", \"{:.9f}\".format(c), \\\n",
    "                \"W=\", sess.run(W), \"b=\", sess.run(b))\n",
    "    \n",
    "    print(\"optimization finished!\")\n",
    "    training_cost = sess.run(cost, feed_dict={X: train_x, Y: train_y})\n",
    "    print(\"Training cost=\", training_cost, \"W=\", sess.run(W), \"b=\", sess.run(b), '\\n')\n",
    "    #Graphic display\n",
    "    plt.plot(train_x, train_y, 'ro', label='Original data')\n",
    "    plt.plot(train_x, sess.run(W) * train_y + sess.run(b), label='Fitted line')\n",
    "    plt.legend()\n",
    "    plt.show()      "
   ]
  },
  {
   "cell_type": "code",
   "execution_count": null,
   "metadata": {
    "collapsed": true
   },
   "outputs": [],
   "source": []
  }
 ],
 "metadata": {
  "kernelspec": {
   "display_name": "Python 3",
   "language": "python",
   "name": "python3"
  },
  "language_info": {
   "codemirror_mode": {
    "name": "ipython",
    "version": 3
   },
   "file_extension": ".py",
   "mimetype": "text/x-python",
   "name": "python",
   "nbconvert_exporter": "python",
   "pygments_lexer": "ipython3",
   "version": "3.6.1"
  }
 },
 "nbformat": 4,
 "nbformat_minor": 2
}
