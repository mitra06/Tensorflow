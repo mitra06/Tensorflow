{
 "cells": [
  {
   "cell_type": "code",
   "execution_count": 3,
   "metadata": {
    "collapsed": true
   },
   "outputs": [],
   "source": [
    "\"\"\"\n",
    "        Simple Linear Regression using Tensorflow\n",
    "        Author--Mitra Nand Mishra\n",
    "        Date--30-8-17\n",
    "\"\"\"\n",
    "# import required library\n",
    "\n",
    "import numpy as np\n",
    "import tensorflow as tf\n",
    "import matplotlib.pyplot as plt\n"
   ]
  },
  {
   "cell_type": "code",
   "execution_count": 5,
   "metadata": {},
   "outputs": [
    {
     "name": "stdout",
     "output_type": "stream",
     "text": [
      "<module 'numpy.random' from 'F:\\\\Anaconda\\\\lib\\\\site-packages\\\\numpy\\\\random\\\\__init__.py'>\n"
     ]
    }
   ],
   "source": [
    "rng=np.random\n",
    "print(rng)"
   ]
  },
  {
   "cell_type": "code",
   "execution_count": 6,
   "metadata": {
    "collapsed": true
   },
   "outputs": [],
   "source": [
    "#parameters\n",
    "\n",
    "learning_rate=0.01\n",
    "training_epochs=1000\n",
    "display_step=50"
   ]
  },
  {
   "cell_type": "code",
   "execution_count": 23,
   "metadata": {},
   "outputs": [
    {
     "name": "stdout",
     "output_type": "stream",
     "text": [
      "[  2.    3.4   4.   10.    6.    7.6   4.7   8.5   9.   11.3]\n",
      "10\n"
     ]
    }
   ],
   "source": [
    "# Training Data\n",
    "\n",
    "train_x=np.array([2,3.4,4,10,6,7.6,4.7,8.5,9,11.3])\n",
    "print(train_x)\n",
    "\n",
    "#length of sample\n",
    "n_samples = train_x.shape[0]\n",
    "print(n_samples)"
   ]
  },
  {
   "cell_type": "code",
   "execution_count": 24,
   "metadata": {},
   "outputs": [
    {
     "name": "stdout",
     "output_type": "stream",
     "text": [
      "[  6.    7.4   4.   13.   16.   17.6  14.7  18.5  19.    1.3]\n",
      "10\n"
     ]
    }
   ],
   "source": [
    "train_y=np.array([6,7.4,4,13,16,17.6,14.7,18.5,19,1.3])\n",
    "print(train_y)\n",
    "print(train_y.shape[0])"
   ]
  },
  {
   "cell_type": "code",
   "execution_count": 25,
   "metadata": {
    "collapsed": true
   },
   "outputs": [],
   "source": [
    "# tf graph input placeholder\n",
    "\n",
    "X=tf.placeholder(\"float\")\n",
    "Y=tf.placeholder(\"float\")"
   ]
  },
  {
   "cell_type": "code",
   "execution_count": 26,
   "metadata": {},
   "outputs": [],
   "source": [
    "# set model weight\n",
    "\n",
    "W=tf.Variable(rng.random(),name=\"weight\")\n",
    "b=tf.Variable(rng.random(),name=\"bias\")\n",
    "\n"
   ]
  },
  {
   "cell_type": "code",
   "execution_count": 27,
   "metadata": {},
   "outputs": [
    {
     "data": {
      "text/plain": [
       "<tf.Tensor 'Add_1:0' shape=<unknown> dtype=float32>"
      ]
     },
     "execution_count": 27,
     "metadata": {},
     "output_type": "execute_result"
    }
   ],
   "source": [
    "# construct a linear model\n",
    "\n",
    "pred=tf.add(tf.multiply(X,W),b)\n",
    "pred"
   ]
  },
  {
   "cell_type": "code",
   "execution_count": 28,
   "metadata": {},
   "outputs": [
    {
     "data": {
      "text/plain": [
       "<tf.Tensor 'truediv:0' shape=<unknown> dtype=float32>"
      ]
     },
     "execution_count": 28,
     "metadata": {},
     "output_type": "execute_result"
    }
   ],
   "source": [
    "# Mean Squared Error\n",
    "\n",
    "cost=tf.reduce_sum(tf.pow(pred-Y,2))/(2*n_samples)\n",
    "cost"
   ]
  },
  {
   "cell_type": "code",
   "execution_count": 31,
   "metadata": {},
   "outputs": [
    {
     "data": {
      "text/plain": [
       "<tf.Operation 'GradientDescent_1' type=NoOp>"
      ]
     },
     "execution_count": 31,
     "metadata": {},
     "output_type": "execute_result"
    }
   ],
   "source": [
    "# Gradient Descent\n",
    "optimizer=tf.train.GradientDescentOptimizer(learning_rate).minimize(cost)\n",
    "# minimize() knows to modify W and b because Variable objects are trainable\n",
    "optimizer"
   ]
  },
  {
   "cell_type": "code",
   "execution_count": 33,
   "metadata": {},
   "outputs": [
    {
     "data": {
      "text/plain": [
       "<tf.Operation 'init' type=NoOp>"
      ]
     },
     "execution_count": 33,
     "metadata": {},
     "output_type": "execute_result"
    }
   ],
   "source": [
    "# Initialize the variable assign their default value\n",
    "\n",
    "init=tf.global_variables_initializer()\n",
    "init"
   ]
  },
  {
   "cell_type": "code",
   "execution_count": 44,
   "metadata": {},
   "outputs": [
    {
     "name": "stdout",
     "output_type": "stream",
     "text": [
      "Epoch: 0050 cost= 21.923130035 W= 1.27182 b= 1.61706\n",
      "Epoch: 0100 cost= 21.309150696 W= 1.2029 b= 2.18641\n",
      "Epoch: 0150 cost= 20.790340424 W= 1.13937 b= 2.71123\n",
      "Epoch: 0200 cost= 20.352169037 W= 1.0808 b= 3.19501\n",
      "Epoch: 0250 cost= 19.982309341 W= 1.02682 b= 3.64096\n",
      "Epoch: 0300 cost= 19.670297623 W= 0.977053 b= 4.05204\n",
      "Epoch: 0350 cost= 19.407268524 W= 0.931182 b= 4.43097\n",
      "Epoch: 0400 cost= 19.185693741 W= 0.888897 b= 4.78027\n",
      "Epoch: 0450 cost= 18.999195099 W= 0.849918 b= 5.10226\n",
      "Epoch: 0500 cost= 18.842361450 W= 0.813988 b= 5.39906\n",
      "Epoch: 0550 cost= 18.710605621 W= 0.780867 b= 5.67266\n",
      "Epoch: 0600 cost= 18.600042343 W= 0.750337 b= 5.92486\n",
      "Epoch: 0650 cost= 18.507381439 W= 0.722194 b= 6.15734\n",
      "Epoch: 0700 cost= 18.429824829 W= 0.696252 b= 6.37164\n",
      "Epoch: 0750 cost= 18.365015030 W= 0.672338 b= 6.56918\n",
      "Epoch: 0800 cost= 18.310947418 W= 0.650294 b= 6.75128\n",
      "Epoch: 0850 cost= 18.265933990 W= 0.629975 b= 6.91913\n",
      "Epoch: 0900 cost= 18.228536606 W= 0.611245 b= 7.07385\n",
      "Epoch: 0950 cost= 18.197549820 W= 0.593979 b= 7.21648\n",
      "Epoch: 1000 cost= 18.171941757 W= 0.578063 b= 7.34796\n",
      "optimzations Finished!\n",
      "Training cost= 18.1719 W= 0.578063 b= 7.34796 \n",
      "\n"
     ]
    },
    {
     "data": {
      "image/png": "[encoded data removed]",
      "text/plain": [
       "<matplotlib.figure.Figure at 0x78e4caec18>"
      ]
     },
     "metadata": {},
     "output_type": "display_data"
    }
   ],
   "source": [
    "#start Training\n",
    "with tf.Session() as sess:\n",
    "    sess.run(init)\n",
    "    \n",
    "    # fit all training data\n",
    "    for epoch in range(training_epochs):\n",
    "        for(x,y) in zip(train_x,train_y):\n",
    "            sess.run(optimizer,feed_dict={X:x,Y:y})\n",
    "            \n",
    "        # Display log per epochs\n",
    "        if(epoch+1)%display_step==0:\n",
    "            c=sess.run(cost,feed_dict={X:train_x,Y:train_y})\n",
    "            print(\"Epoch:\", '%04d' % (epoch+1), \"cost=\", \"{:.9f}\".format(c), \\\n",
    "                 \"W=\", sess.run(W), \"b=\", sess.run(b))\n",
    "    \n",
    "    print(\"optimzations Finished!\")\n",
    "    training_cost=sess.run(cost,feed_dict={X:train_x,Y:train_y})\n",
    "    print(\"Training cost=\", training_cost, \"W=\", sess.run(W), \"b=\", sess.run(b), '\\n')\n",
    "    # graph display\n",
    "\n",
    "    plt.plot(train_x,train_y, 'ro', label='Original data')\n",
    "    plt.plot(train_x, sess.run(W) * train_x + sess.run(b), label='Fitted line')\n",
    "    plt.legend()\n",
    "    plt.show()"
   ]
  },
  {
   "cell_type": "code",
   "execution_count": null,
   "metadata": {
    "collapsed": true
   },
   "outputs": [],
   "source": []
  },
  {
   "cell_type": "code",
   "execution_count": null,
   "metadata": {
    "collapsed": true
   },
   "outputs": [],
   "source": []
  }
 ],
 "metadata": {
  "kernelspec": {
   "display_name": "Python 3",
   "language": "python",
   "name": "python3"
  },
  "language_info": {
   "codemirror_mode": {
    "name": "ipython",
    "version": 3
   },
   "file_extension": ".py",
   "mimetype": "text/x-python",
   "name": "python",
   "nbconvert_exporter": "python",
   "pygments_lexer": "ipython3",
   "version": "3.6.1"
  }
 },
 "nbformat": 4,
 "nbformat_minor": 2
}
