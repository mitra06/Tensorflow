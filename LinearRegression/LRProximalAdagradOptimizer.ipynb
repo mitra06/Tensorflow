{
 "cells": [
  {
   "cell_type": "code",
   "execution_count": 1,
   "metadata": {
    "collapsed": true
   },
   "outputs": [],
   "source": [
    "import tensorflow as tf\n",
    "import numpy as np\n",
    "import matplotlib.pyplot as plt"
   ]
  },
  {
   "cell_type": "code",
   "execution_count": 2,
   "metadata": {
    "collapsed": true
   },
   "outputs": [],
   "source": [
    "# parameter\n",
    "\"\"\"\n",
    "    # Parameter Details:\n",
    "    learning_rate=A tensor or floating point value\n",
    "    training_epochs=This is the epochs or intervals\n",
    "    display_step=How much interval we want to acheive epochs values\n",
    "    initial_accumulator_value= A floating point value. Starting value for the accumulators, must be positive.\n",
    "    l1_regularization_strength=A float value, must be greater than or equal to zero\n",
    "    l2_regularization_strength=A float value, must be greater than or equal to zero\n",
    "\n",
    "\"\"\"\n",
    "learning_rate=0.01\n",
    "training_epochs=1000\n",
    "display_step=50\n",
    "initial_accumulator_value=0.1\n",
    "l1_regularization_strength=0.0\n",
    "l2_regularization_strength=0.0\n",
    "use_locking=False\n",
    "name='ProximalAdagrad'"
   ]
  },
  {
   "cell_type": "code",
   "execution_count": 3,
   "metadata": {
    "collapsed": true
   },
   "outputs": [],
   "source": [
    "# Training Data\n",
    "train_x=np.asarray([3.3,4.4,5.5,6.6,7.7,8.8,9.9,2.3,4.5])\n",
    "train_y=np.asarray([1.3,2.4,3.5,4.6,5.7,6.8,7.9,.3,2.5])\n",
    "n_samples=train_x.shape[0]"
   ]
  },
  {
   "cell_type": "code",
   "execution_count": 4,
   "metadata": {
    "collapsed": true
   },
   "outputs": [],
   "source": [
    "# tf graph Input\n",
    "X=tf.placeholder(\"float\")\n",
    "Y=tf.placeholder(\"float\")"
   ]
  },
  {
   "cell_type": "code",
   "execution_count": 5,
   "metadata": {
    "collapsed": true
   },
   "outputs": [],
   "source": [
    "#set model weight\n",
    "W=tf.Variable(np.random.randn(), name=\"weight\")\n",
    "b=tf.Variable(np.random.randn(), name=\"bias\")"
   ]
  },
  {
   "cell_type": "code",
   "execution_count": 6,
   "metadata": {
    "collapsed": true
   },
   "outputs": [],
   "source": [
    "#construct linear model\n",
    "pred=tf.add(tf.multiply(X,W),b)"
   ]
  },
  {
   "cell_type": "code",
   "execution_count": 7,
   "metadata": {
    "collapsed": true
   },
   "outputs": [],
   "source": [
    "#Mean Squared error\n",
    "cost=tf.reduce_sum(tf.pow(pred-Y,2))/(2*n_samples)"
   ]
  },
  {
   "cell_type": "code",
   "execution_count": 10,
   "metadata": {
    "collapsed": true
   },
   "outputs": [],
   "source": [
    "# optimizer=tf.train.AdagradOptimize\n",
    "optimizer=tf.train.ProximalAdagradOptimizer(learning_rate,initial_accumulator_value, l1_regularization_strength, l2_regularization_strength, use_locking, name).minimize(cost)"
   ]
  },
  {
   "cell_type": "code",
   "execution_count": 11,
   "metadata": {
    "collapsed": true
   },
   "outputs": [],
   "source": [
    "# assign the variable(ie assign their default value)\n",
    "init = tf.global_variables_initializer()"
   ]
  },
  {
   "cell_type": "code",
   "execution_count": 12,
   "metadata": {},
   "outputs": [
    {
     "name": "stdout",
     "output_type": "stream",
     "text": [
      "Epoch: 0050 cost= 0.486764967 W= 0.626584 b= 0.604386\n",
      "Epoch: 0100 cost= 0.463974953 W= 0.626948 b= 0.543748\n",
      "Epoch: 0150 cost= 0.448281646 W= 0.631618 b= 0.499568\n",
      "Epoch: 0200 cost= 0.435329318 W= 0.636408 b= 0.462835\n",
      "Epoch: 0250 cost= 0.424094260 W= 0.640877 b= 0.430672\n",
      "Epoch: 0300 cost= 0.414083093 W= 0.645005 b= 0.401713\n",
      "Epoch: 0350 cost= 0.405003011 W= 0.648836 b= 0.375173\n",
      "Epoch: 0400 cost= 0.396663040 W= 0.652414 b= 0.350549\n",
      "Epoch: 0450 cost= 0.388929218 W= 0.655778 b= 0.32749\n",
      "Epoch: 0500 cost= 0.381703794 W= 0.658959 b= 0.305745\n",
      "Epoch: 0550 cost= 0.374912679 W= 0.661982 b= 0.285123\n",
      "Epoch: 0600 cost= 0.368498385 W= 0.664865 b= 0.265474\n",
      "Epoch: 0650 cost= 0.362414449 W= 0.667627 b= 0.246682\n",
      "Epoch: 0700 cost= 0.356623501 W= 0.670278 b= 0.228649\n",
      "Epoch: 0750 cost= 0.351094842 W= 0.672832 b= 0.211297\n",
      "Epoch: 0800 cost= 0.345802426 W= 0.675297 b= 0.194559\n",
      "Epoch: 0850 cost= 0.340724587 W= 0.67768 b= 0.178379\n",
      "Epoch: 0900 cost= 0.335842460 W= 0.679989 b= 0.162709\n",
      "Epoch: 0950 cost= 0.331139892 W= 0.68223 b= 0.147509\n",
      "Epoch: 1000 cost= 0.326602817 W= 0.684408 b= 0.13274\n",
      "optimization finished!\n",
      "Training cost= 0.326603 W= 0.684408 b= 0.13274 \n",
      "\n"
     ]
    },
    {
     "data": {
      "image/png": "[encoded data removed]",
      "text/plain": [
       "<matplotlib.figure.Figure at 0x55ab81cba8>"
      ]
     },
     "metadata": {},
     "output_type": "display_data"
    }
   ],
   "source": [
    "# start training\n",
    "with tf.Session() as sess:\n",
    "    sess.run(init)\n",
    "    \n",
    "    # fit all training data\n",
    "    for epochs in range(training_epochs):\n",
    "        for(x,y) in zip(train_x,train_y):\n",
    "            sess.run(optimizer,feed_dict={X:x,Y:y})\n",
    "            \n",
    "        # Display epoch per steps\n",
    "        \n",
    "        if(epochs+1)%display_step==0:\n",
    "            c=sess.run(cost,feed_dict={X:train_x,Y:train_y})\n",
    "            print(\"Epoch:\", '%04d' % (epochs+1), \"cost=\", \"{:.9f}\".format(c), \\\n",
    "                \"W=\", sess.run(W), \"b=\", sess.run(b))\n",
    "    \n",
    "    print(\"optimization finished!\")\n",
    "    training_cost = sess.run(cost, feed_dict={X: train_x, Y: train_y})\n",
    "    print(\"Training cost=\", training_cost, \"W=\", sess.run(W), \"b=\", sess.run(b), '\\n')\n",
    "    #Graphic display\n",
    "    plt.plot(train_x, train_y, 'ro', label='Original data')\n",
    "    plt.plot(train_x, sess.run(W) * train_y + sess.run(b), label='Fitted line')\n",
    "    plt.legend()\n",
    "    plt.show()      "
   ]
  },
  {
   "cell_type": "code",
   "execution_count": null,
   "metadata": {
    "collapsed": true
   },
   "outputs": [],
   "source": []
  }
 ],
 "metadata": {
  "kernelspec": {
   "display_name": "Python 3",
   "language": "python",
   "name": "python3"
  },
  "language_info": {
   "codemirror_mode": {
    "name": "ipython",
    "version": 3
   },
   "file_extension": ".py",
   "mimetype": "text/x-python",
   "name": "python",
   "nbconvert_exporter": "python",
   "pygments_lexer": "ipython3",
   "version": "3.6.1"
  }
 },
 "nbformat": 4,
 "nbformat_minor": 2
}
