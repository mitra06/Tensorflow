{
 "cells": [
  {
   "cell_type": "code",
   "execution_count": 1,
   "metadata": {
    "collapsed": true
   },
   "outputs": [],
   "source": [
    "import pandas as pd\n",
    "import numpy as np\n",
    "import matplotlib.pyplot as plt\n",
    "import scipy.stats as stats"
   ]
  },
  {
   "cell_type": "code",
   "execution_count": 3,
   "metadata": {},
   "outputs": [
    {
     "name": "stdout",
     "output_type": "stream",
     "text": [
      "Table Missing Values\n"
     ]
    },
    {
     "data": {
      "text/plain": [
       "Loan_ID               0\n",
       "Gender               13\n",
       "Married               3\n",
       "Dependents           15\n",
       "Education             0\n",
       "Self_Employed        32\n",
       "ApplicantIncome       0\n",
       "CoapplicantIncome     0\n",
       "LoanAmount           22\n",
       "Loan_Amount_Term     14\n",
       "Credit_History       50\n",
       "Property_Area         0\n",
       "Loan_Status           0\n",
       "dtype: int64"
      ]
     },
     "execution_count": 3,
     "metadata": {},
     "output_type": "execute_result"
    }
   ],
   "source": [
    "train=pd.read_csv('E:/myAnacondaProj/train.csv')\n",
    "\n",
    "print(\"Table Missing Values\")\n",
    "train.apply(lambda x: sum(x.isnull()),axis=0)"
   ]
  },
  {
   "cell_type": "raw",
   "metadata": {},
   "source": [
    "import matplotlib.patches as mpatches\n",
    "trainnoNA = train.dropna()\n",
    "trainnoNA['Total_Income'] = trainnoNA['ApplicantIncome'] + trainnoNA['CoapplicantIncome']\n",
    "df = pd.DataFrame(trainnoNA)\n",
    "print(df.shape)\n",
    "\n",
    "def predictCon_IV(feature,min,max,bin,m):\n",
    "    bins = np.linspace(min, max, bin)\n",
    "    df['bin'] = pd.cut(feature[0:m],bins=bins)\n",
    "    melted = pd.melt(df, id_vars = 'bin' , value_vars = ['Loan_Status'])\n",
    "    \n",
    "    df4 = pd.crosstab(melted.bin , melted.value)\n",
    "    df4['%N'] = ((df4['N'])/df4['N'].sum())\n",
    "    df4['%Y'] = ((df4['Y'])/df4['Y'].sum())\n",
    "    df4['WOE'] = np.log(df4['%N']/df4['%Y'])\n",
    "    df4['AWOE'] = np.log(((df4['N']+0.5)/df4['N'].sum())/((df4['Y']+0.5)/df4['Y'].sum()))\n",
    "    df4['IV'] = np.where(isinstance(df4['WOE'],float),(df4['%N'] - df4['%Y'])*df4['WOE'],(df4['%N'] - df4['%Y'])*df4['AWOE'])\n",
    "    return df4['IV'].sum()\n",
    "\n",
    "def predictDis_IV(feature,m):\n",
    "    df4 = pd.crosstab(feature[0:m],df['Loan_Status'])\n",
    "    df4.columns = ['N','Y']\n",
    "    df4['%N'] = ((df4['N'])/(df4['N'].sum()))\n",
    "    df4['%Y'] = ((df4['Y'])/(df4['Y'].sum()))\n",
    "    df4['WOE'] = np.log(df4['%N']/df4['%Y'])\n",
    "    df4['AWOE'] = np.log(((df4['N']+0.5)/df4['N'].sum())/((df4['Y']+0.5)/df4['Y'].sum()))\n",
    "    df4['IV'] = np.where(isinstance(df4['WOE'],float),(df4['%N'] - df4['%Y'])*df4['WOE'],(df4['%N'] - df4['%Y'])*df4['AWOE'])\n",
    "\n",
    "    return df4['IV'].sum()\n",
    "    \n",
    "\n",
    "m =  trainnoNA.shape[0] #no. of rows\n",
    "binn=200\n",
    " \n",
    "Applicant_Income = predictCon_IV(df.ApplicantIncome,df.ApplicantIncome.min(),df.ApplicantIncome.max(),binn,m)\n",
    "Coapplicant_Income = predictCon_IV(df.CoapplicantIncome,df.CoapplicantIncome.min(),df.CoapplicantIncome.max(),binn,m)\n",
    "LoanAmount = predictCon_IV(df.LoanAmount,df.LoanAmount.min(),df.LoanAmount.max(),binn,m)\n",
    "Total_Income = predictCon_IV(df.Total_Income,df.Total_Income.min(),df.Total_Income.max(),binn,m)\n",
    "Credit_History = predictDis_IV(df.Credit_History,m)\n",
    "Gender = predictDis_IV(df.Gender,m)\n",
    "Married = predictDis_IV(df.Married,m)\n",
    "Dependents = predictDis_IV(df.Dependents,m)\n",
    "Education = predictDis_IV(df.Education,m)    \n",
    "Self_Employed = predictDis_IV(df.Self_Employed,m)                        \n",
    "Property_Area = predictDis_IV(df.Property_Area,m)\n",
    "LoanAmountTerm = predictDis_IV(df.Loan_Amount_Term, m)\n",
    "\n",
    "names = ('Gender','Married','Dependents','Education','Self_Employed','Applicant_Income','Coapplicant_Income',\n",
    "         'LoanAmount','Loan_Amount_Term','Credit_History','Property_Area', 'Total_Income',)\n",
    "\n",
    "objects = (Gender,Married,Dependents,Education,Self_Employed,Applicant_Income,Coapplicant_Income,\n",
    "           LoanAmount,LoanAmountTerm,Credit_History,Property_Area,Total_Income,)\n",
    "\n",
    "X = np.arange(len(objects))\n",
    "\n",
    "\n",
    "colors = []\n",
    "for value in objects: \n",
    "    if  value < 0.02:\n",
    "        colors.append('k')\n",
    "    elif 0.02 <= value < 0.1:\n",
    "        colors.append('b')\n",
    "    elif 0.1 <= value < 0.3:\n",
    "        colors.append('y')\n",
    "    elif 0.3 <= value < 0.5:\n",
    "        colors.append('g')\n",
    "    else:\n",
    "        colors.append('r')\n",
    "    \n",
    "\n",
    "black_patch = mpatches.Patch(color='k', label='useless for prediction')\n",
    "blue_patch = mpatches.Patch(color='b', label='Weak predictor')\n",
    "yellow_patch = mpatches.Patch(color='y', label='Medium predictor')\n",
    "green_patch = mpatches.Patch(color='g', label='Strong predictor')\n",
    "red_patch = mpatches.Patch(color='r', label='Suspicious or too good to be true')\n",
    "\n",
    "plt.legend(handles=[black_patch,blue_patch,yellow_patch,green_patch,red_patch,])\n",
    "plt.title('No. of rows ' + str(m))\n",
    "plt.xticks(X,names,rotation=45)\n",
    "plt.bar(X, objects, color = colors, width=0.5)\n",
    "plt.show()\n",
    "\n",
    "del names\n",
    "del objects"
   ]
  },
  {
   "cell_type": "code",
   "execution_count": 4,
   "metadata": {
    "collapsed": true
   },
   "outputs": [],
   "source": [
    "train['Gender'].fillna('Male', inplace=True)\n",
    "train['Married'].fillna('Yes', inplace=True)\n",
    "train['Self_Employed'].fillna('No', inplace=True)\n",
    "\n",
    "impute = train.pivot_table(values=['LoanAmount'], \n",
    "                           index=['Property_Area','Education','Self_Employed','Married'],\n",
    "                           aggfunc=np.mean)\n",
    "\n",
    "for i,row in train.loc[train['LoanAmount'].isnull(),:].iterrows():\n",
    "    ind = tuple([row['Property_Area'],row['Education'],row['Self_Employed']])\n",
    "    train.loc[i,'LoanAmount'] = impute.loc[ind].values[0]\n"
   ]
  },
  {
   "cell_type": "code",
   "execution_count": 5,
   "metadata": {
    "scrolled": false
   },
   "outputs": [
    {
     "name": "stdout",
     "output_type": "stream",
     "text": [
      "1.0    475\n",
      "0.0     89\n",
      "Name: Credit_History, dtype: int64\n",
      "1    509\n",
      "0    105\n",
      "Name: Credit_History, dtype: int64\n"
     ]
    }
   ],
   "source": [
    "print(train['Credit_History'].value_counts())\n",
    "\n",
    "impute = train.pivot_table(values=['Credit_History'], \n",
    "                           index=['Self_Employed','Married','Property_Area','Education','Gender'],\n",
    "                           aggfunc=np.mean)\n",
    "\n",
    "#,'ApplicantIncome','CoapplicantIncome','Property_Area'\n",
    "#,row['ApplicantIncome'],row['CoapplicantIncome'],row['Property_Area']\n",
    "for i,row in train.loc[train['Credit_History'].isnull(),:].iterrows():\n",
    "    ind = tuple([row['Self_Employed'],row['Married'],row['Property_Area'],row['Education'],row['Gender']])\n",
    "    train.loc[i,'Credit_History'] = impute.loc[ind].values[0]\n",
    "\n",
    "train['Credit_History'] = np.where(train['Credit_History'] < 0.85, 0, 1)  \n",
    "print(train['Credit_History'].value_counts())"
   ]
  },
  {
   "cell_type": "code",
   "execution_count": 6,
   "metadata": {},
   "outputs": [
    {
     "data": {
      "text/plain": [
       "Loan_ID               0\n",
       "Gender                0\n",
       "Married               0\n",
       "Dependents           15\n",
       "Education             0\n",
       "Self_Employed         0\n",
       "ApplicantIncome       0\n",
       "CoapplicantIncome     0\n",
       "LoanAmount            0\n",
       "Loan_Amount_Term     14\n",
       "Credit_History        0\n",
       "Property_Area         0\n",
       "Loan_Status           0\n",
       "dtype: int64"
      ]
     },
     "execution_count": 6,
     "metadata": {},
     "output_type": "execute_result"
    }
   ],
   "source": [
    "train.apply(lambda x: sum(x.isnull()),axis=0)"
   ]
  },
  {
   "cell_type": "code",
   "execution_count": 7,
   "metadata": {
    "collapsed": true
   },
   "outputs": [],
   "source": [
    "train['Gender'] = train['Gender'].map({'Female': 1, 'Male': 0})\n",
    "\n",
    "train['Married'] = train['Married'].map({'Yes': 1, 'No': 0})\n",
    "\n",
    "train['Dependents'] = train['Dependents'].str.replace('+', '')\n",
    "train['Dependents'] = train['Dependents'].map({'0': 0, '1': 1, '2' : 2, '3' : 3})\n",
    "\n",
    "train['Education'] = train['Education'].map({'Graduate': 1, 'Not Graduate': 0})\n",
    "\n",
    "train['Self_Employed'] = train['Self_Employed'].map({'No': 0, 'Yes': 1})\n",
    "\n",
    "train['Property_Area'] = train['Property_Area'].map({'Rural': 0, 'Semiurban': 1, 'Urban' : 2})\n",
    "\n",
    "train['Loan_Status'] = train['Loan_Status'].map({'Y': 1, 'N': 0})"
   ]
  },
  {
   "cell_type": "code",
   "execution_count": 8,
   "metadata": {
    "collapsed": true
   },
   "outputs": [],
   "source": [
    "impute = train.pivot_table(values=['Dependents'], \n",
    "                           index=['Married', 'Property_Area', 'Gender','Self_Employed'],\n",
    "                           aggfunc=np.median)\n",
    "\n",
    "for i,row in train.loc[train['Dependents'].isnull(),:].iterrows():\n",
    "    ind = tuple([row['Married'],row['Property_Area'],row['Gender'],row['Self_Employed']])\n",
    "    train.loc[i,'Dependents'] = impute.loc[ind].values[0]"
   ]
  },
  {
   "cell_type": "code",
   "execution_count": 12,
   "metadata": {
    "collapsed": true
   },
   "outputs": [],
   "source": [
    "temp = pd.DataFrame()\n",
    "temp = train\n",
    "del temp['Loan_ID']"
   ]
  },
  {
   "cell_type": "code",
   "execution_count": 13,
   "metadata": {
    "collapsed": true
   },
   "outputs": [],
   "source": [
    "temp['Total_Income'] = temp['ApplicantIncome'] + temp['CoapplicantIncome']"
   ]
  },
  {
   "cell_type": "code",
   "execution_count": 14,
   "metadata": {
    "collapsed": true
   },
   "outputs": [],
   "source": [
    "temp['ApplicantIncome'] = np.log(temp['ApplicantIncome'])\n",
    "temp['LoanAmount'] = np.log(temp['LoanAmount'])\n",
    "temp['Total_Income'] = np.log(temp['Total_Income'])"
   ]
  },
  {
   "cell_type": "code",
   "execution_count": 15,
   "metadata": {},
   "outputs": [
    {
     "name": "stdout",
     "output_type": "stream",
     "text": [
      "Populating the interactive namespace from numpy and matplotlib\n"
     ]
    },
    {
     "data": {
      "image/png": "[encoded data removed]",
      "text/plain": [
       "<matplotlib.figure.Figure at 0x272a11232e8>"
      ]
     },
     "metadata": {},
     "output_type": "display_data"
    }
   ],
   "source": [
    "rets = temp.pct_change()\n",
    "\n",
    "#Compute Correlation\n",
    "corr = rets.corr(method='pearson')\n",
    "\n",
    "%pylab inline\n",
    "plt.figure(figsize=(10, 10))\n",
    "\n",
    "plt.imshow(corr, cmap=matplotlib.cm.Reds, interpolation='none', aspect='auto',)\n",
    "#cmap=matplotlib.cm.get_cmap('jet',10)\n",
    "\n",
    "plt.colorbar()\n",
    "plt.xticks(range(len(corr)), corr.columns, rotation='vertical')\n",
    "plt.yticks(range(len(corr)), corr.columns);\n",
    "plt.suptitle('Correlations Heat Map', fontsize=15, fontweight='bold')\n",
    "plt.show()"
   ]
  },
  {
   "cell_type": "code",
   "execution_count": 16,
   "metadata": {},
   "outputs": [
    {
     "name": "stderr",
     "output_type": "stream",
     "text": [
      "E:\\Anaconda3\\lib\\site-packages\\matplotlib\\colors.py:496: RuntimeWarning: invalid value encountered in less\n",
      "  cbook._putmask(xa, xa < 0.0, -1)\n"
     ]
    },
    {
     "data": {
      "text/html": [
       "<style  type=\"text/css\" >\n",
       "    #T_3d3a635e_8bda_11e7_a762_704d7b691ac3row0_col0 {\n",
       "            background-color:  #00441b;\n",
       "        }    #T_3d3a635e_8bda_11e7_a762_704d7b691ac3row0_col1 {\n",
       "            background-color:  #f7fcf5;\n",
       "        }    #T_3d3a635e_8bda_11e7_a762_704d7b691ac3row0_col2 {\n",
       "            background-color:  #f7fcf5;\n",
       "        }    #T_3d3a635e_8bda_11e7_a762_704d7b691ac3row0_col3 {\n",
       "            background-color:  #c0e6b9;\n",
       "        }    #T_3d3a635e_8bda_11e7_a762_704d7b691ac3row0_col4 {\n",
       "            background-color:  #f7fcf5;\n",
       "        }    #T_3d3a635e_8bda_11e7_a762_704d7b691ac3row0_col5 {\n",
       "            background-color:  #e7f6e3;\n",
       "        }    #T_3d3a635e_8bda_11e7_a762_704d7b691ac3row0_col6 {\n",
       "            background-color:  #f7fcf5;\n",
       "        }    #T_3d3a635e_8bda_11e7_a762_704d7b691ac3row0_col7 {\n",
       "            background-color:  #f7fcf5;\n",
       "        }    #T_3d3a635e_8bda_11e7_a762_704d7b691ac3row0_col8 {\n",
       "            background-color:  #caeac3;\n",
       "        }    #T_3d3a635e_8bda_11e7_a762_704d7b691ac3row0_col9 {\n",
       "            background-color:  #edf8e9;\n",
       "        }    #T_3d3a635e_8bda_11e7_a762_704d7b691ac3row0_col10 {\n",
       "            background-color:  #d2edcc;\n",
       "        }    #T_3d3a635e_8bda_11e7_a762_704d7b691ac3row0_col11 {\n",
       "            background-color:  #f7fcf5;\n",
       "        }    #T_3d3a635e_8bda_11e7_a762_704d7b691ac3row0_col12 {\n",
       "            background-color:  #f7fcf5;\n",
       "        }    #T_3d3a635e_8bda_11e7_a762_704d7b691ac3row1_col0 {\n",
       "            background-color:  #f7fcf5;\n",
       "        }    #T_3d3a635e_8bda_11e7_a762_704d7b691ac3row1_col1 {\n",
       "            background-color:  #00441b;\n",
       "        }    #T_3d3a635e_8bda_11e7_a762_704d7b691ac3row1_col2 {\n",
       "            background-color:  #87cd86;\n",
       "        }    #T_3d3a635e_8bda_11e7_a762_704d7b691ac3row1_col3 {\n",
       "            background-color:  #edf8ea;\n",
       "        }    #T_3d3a635e_8bda_11e7_a762_704d7b691ac3row1_col4 {\n",
       "            background-color:  #caeac3;\n",
       "        }    #T_3d3a635e_8bda_11e7_a762_704d7b691ac3row1_col5 {\n",
       "            background-color:  #edf8e9;\n",
       "        }    #T_3d3a635e_8bda_11e7_a762_704d7b691ac3row1_col6 {\n",
       "            background-color:  #9ed798;\n",
       "        }    #T_3d3a635e_8bda_11e7_a762_704d7b691ac3row1_col7 {\n",
       "            background-color:  #d4eece;\n",
       "        }    #T_3d3a635e_8bda_11e7_a762_704d7b691ac3row1_col8 {\n",
       "            background-color:  #e6f5e1;\n",
       "        }    #T_3d3a635e_8bda_11e7_a762_704d7b691ac3row1_col9 {\n",
       "            background-color:  #e7f6e3;\n",
       "        }    #T_3d3a635e_8bda_11e7_a762_704d7b691ac3row1_col10 {\n",
       "            background-color:  #e5f5e0;\n",
       "        }    #T_3d3a635e_8bda_11e7_a762_704d7b691ac3row1_col11 {\n",
       "            background-color:  #dbf1d6;\n",
       "        }    #T_3d3a635e_8bda_11e7_a762_704d7b691ac3row1_col12 {\n",
       "            background-color:  #dbf1d5;\n",
       "        }    #T_3d3a635e_8bda_11e7_a762_704d7b691ac3row2_col0 {\n",
       "            background-color:  #ddf2d8;\n",
       "        }    #T_3d3a635e_8bda_11e7_a762_704d7b691ac3row2_col1 {\n",
       "            background-color:  #65bd6f;\n",
       "        }    #T_3d3a635e_8bda_11e7_a762_704d7b691ac3row2_col2 {\n",
       "            background-color:  #00441b;\n",
       "        }    #T_3d3a635e_8bda_11e7_a762_704d7b691ac3row2_col3 {\n",
       "            background-color:  #f1faee;\n",
       "        }    #T_3d3a635e_8bda_11e7_a762_704d7b691ac3row2_col4 {\n",
       "            background-color:  #8bcf89;\n",
       "        }    #T_3d3a635e_8bda_11e7_a762_704d7b691ac3row2_col5 {\n",
       "            background-color:  #e8f6e4;\n",
       "        }    #T_3d3a635e_8bda_11e7_a762_704d7b691ac3row2_col6 {\n",
       "            background-color:  #bee5b8;\n",
       "        }    #T_3d3a635e_8bda_11e7_a762_704d7b691ac3row2_col7 {\n",
       "            background-color:  #dff3da;\n",
       "        }    #T_3d3a635e_8bda_11e7_a762_704d7b691ac3row2_col8 {\n",
       "            background-color:  #f7fcf5;\n",
       "        }    #T_3d3a635e_8bda_11e7_a762_704d7b691ac3row2_col9 {\n",
       "            background-color:  #f4fbf2;\n",
       "        }    #T_3d3a635e_8bda_11e7_a762_704d7b691ac3row2_col10 {\n",
       "            background-color:  #d2edcc;\n",
       "        }    #T_3d3a635e_8bda_11e7_a762_704d7b691ac3row2_col11 {\n",
       "            background-color:  #dbf1d6;\n",
       "        }    #T_3d3a635e_8bda_11e7_a762_704d7b691ac3row2_col12 {\n",
       "            background-color:  #dbf1d5;\n",
       "        }    #T_3d3a635e_8bda_11e7_a762_704d7b691ac3row3_col0 {\n",
       "            background-color:  #80ca80;\n",
       "        }    #T_3d3a635e_8bda_11e7_a762_704d7b691ac3row3_col1 {\n",
       "            background-color:  #b4e1ad;\n",
       "        }    #T_3d3a635e_8bda_11e7_a762_704d7b691ac3row3_col2 {\n",
       "            background-color:  #dcf2d7;\n",
       "        }    #T_3d3a635e_8bda_11e7_a762_704d7b691ac3row3_col3 {\n",
       "            background-color:  #00441b;\n",
       "        }    #T_3d3a635e_8bda_11e7_a762_704d7b691ac3row3_col4 {\n",
       "            background-color:  #f0f9ec;\n",
       "        }    #T_3d3a635e_8bda_11e7_a762_704d7b691ac3row3_col5 {\n",
       "            background-color:  #cdecc7;\n",
       "        }    #T_3d3a635e_8bda_11e7_a762_704d7b691ac3row3_col6 {\n",
       "            background-color:  #cfecc9;\n",
       "        }    #T_3d3a635e_8bda_11e7_a762_704d7b691ac3row3_col7 {\n",
       "            background-color:  #c2e7bb;\n",
       "        }    #T_3d3a635e_8bda_11e7_a762_704d7b691ac3row3_col8 {\n",
       "            background-color:  #e1f3dc;\n",
       "        }    #T_3d3a635e_8bda_11e7_a762_704d7b691ac3row3_col9 {\n",
       "            background-color:  #d9f0d3;\n",
       "        }    #T_3d3a635e_8bda_11e7_a762_704d7b691ac3row3_col10 {\n",
       "            background-color:  #d0edca;\n",
       "        }    #T_3d3a635e_8bda_11e7_a762_704d7b691ac3row3_col11 {\n",
       "            background-color:  #e1f3dc;\n",
       "        }    #T_3d3a635e_8bda_11e7_a762_704d7b691ac3row3_col12 {\n",
       "            background-color:  #c4e8bd;\n",
       "        }    #T_3d3a635e_8bda_11e7_a762_704d7b691ac3row4_col0 {\n",
       "            background-color:  #f7fcf5;\n",
       "        }    #T_3d3a635e_8bda_11e7_a762_704d7b691ac3row4_col1 {\n",
       "            background-color:  #95d391;\n",
       "        }    #T_3d3a635e_8bda_11e7_a762_704d7b691ac3row4_col2 {\n",
       "            background-color:  #7cc87c;\n",
       "        }    #T_3d3a635e_8bda_11e7_a762_704d7b691ac3row4_col3 {\n",
       "            background-color:  #f7fcf5;\n",
       "        }    #T_3d3a635e_8bda_11e7_a762_704d7b691ac3row4_col4 {\n",
       "            background-color:  #00441b;\n",
       "        }    #T_3d3a635e_8bda_11e7_a762_704d7b691ac3row4_col5 {\n",
       "            background-color:  #f4fbf2;\n",
       "        }    #T_3d3a635e_8bda_11e7_a762_704d7b691ac3row4_col6 {\n",
       "            background-color:  #5bb86a;\n",
       "        }    #T_3d3a635e_8bda_11e7_a762_704d7b691ac3row4_col7 {\n",
       "            background-color:  #e5f5e1;\n",
       "        }    #T_3d3a635e_8bda_11e7_a762_704d7b691ac3row4_col8 {\n",
       "            background-color:  #edf8e9;\n",
       "        }    #T_3d3a635e_8bda_11e7_a762_704d7b691ac3row4_col9 {\n",
       "            background-color:  #f1faee;\n",
       "        }    #T_3d3a635e_8bda_11e7_a762_704d7b691ac3row4_col10 {\n",
       "            background-color:  #f7fcf5;\n",
       "        }    #T_3d3a635e_8bda_11e7_a762_704d7b691ac3row4_col11 {\n",
       "            background-color:  #e7f6e2;\n",
       "        }    #T_3d3a635e_8bda_11e7_a762_704d7b691ac3row4_col12 {\n",
       "            background-color:  #f0f9ec;\n",
       "        }    #T_3d3a635e_8bda_11e7_a762_704d7b691ac3row5_col0 {\n",
       "            background-color:  #a3da9d;\n",
       "        }    #T_3d3a635e_8bda_11e7_a762_704d7b691ac3row5_col1 {\n",
       "            background-color:  #aadda4;\n",
       "        }    #T_3d3a635e_8bda_11e7_a762_704d7b691ac3row5_col2 {\n",
       "            background-color:  #c8e9c1;\n",
       "        }    #T_3d3a635e_8bda_11e7_a762_704d7b691ac3row5_col3 {\n",
       "            background-color:  #c6e8bf;\n",
       "        }    #T_3d3a635e_8bda_11e7_a762_704d7b691ac3row5_col4 {\n",
       "            background-color:  #e8f6e3;\n",
       "        }    #T_3d3a635e_8bda_11e7_a762_704d7b691ac3row5_col5 {\n",
       "            background-color:  #00441b;\n",
       "        }    #T_3d3a635e_8bda_11e7_a762_704d7b691ac3row5_col6 {\n",
       "            background-color:  #dff3da;\n",
       "        }    #T_3d3a635e_8bda_11e7_a762_704d7b691ac3row5_col7 {\n",
       "            background-color:  #70c274;\n",
       "        }    #T_3d3a635e_8bda_11e7_a762_704d7b691ac3row5_col8 {\n",
       "            background-color:  #ebf7e7;\n",
       "        }    #T_3d3a635e_8bda_11e7_a762_704d7b691ac3row5_col9 {\n",
       "            background-color:  #f1faee;\n",
       "        }    #T_3d3a635e_8bda_11e7_a762_704d7b691ac3row5_col10 {\n",
       "            background-color:  #d6efd0;\n",
       "        }    #T_3d3a635e_8bda_11e7_a762_704d7b691ac3row5_col11 {\n",
       "            background-color:  #eff9eb;\n",
       "        }    #T_3d3a635e_8bda_11e7_a762_704d7b691ac3row5_col12 {\n",
       "            background-color:  #289049;\n",
       "        }    #T_3d3a635e_8bda_11e7_a762_704d7b691ac3row6_col0 {\n",
       "            background-color:  #dbf1d5;\n",
       "        }    #T_3d3a635e_8bda_11e7_a762_704d7b691ac3row6_col1 {\n",
       "            background-color:  #79c67a;\n",
       "        }    #T_3d3a635e_8bda_11e7_a762_704d7b691ac3row6_col2 {\n",
       "            background-color:  #bce4b5;\n",
       "        }    #T_3d3a635e_8bda_11e7_a762_704d7b691ac3row6_col3 {\n",
       "            background-color:  #e7f6e2;\n",
       "        }    #T_3d3a635e_8bda_11e7_a762_704d7b691ac3row6_col4 {\n",
       "            background-color:  #68be70;\n",
       "        }    #T_3d3a635e_8bda_11e7_a762_704d7b691ac3row6_col5 {\n",
       "            background-color:  #f7fcf5;\n",
       "        }    #T_3d3a635e_8bda_11e7_a762_704d7b691ac3row6_col6 {\n",
       "            background-color:  #00441b;\n",
       "        }    #T_3d3a635e_8bda_11e7_a762_704d7b691ac3row6_col7 {\n",
       "            background-color:  #afdfa8;\n",
       "        }    #T_3d3a635e_8bda_11e7_a762_704d7b691ac3row6_col8 {\n",
       "            background-color:  #edf8e9;\n",
       "        }    #T_3d3a635e_8bda_11e7_a762_704d7b691ac3row6_col9 {\n",
       "            background-color:  #f4fbf1;\n",
       "        }    #T_3d3a635e_8bda_11e7_a762_704d7b691ac3row6_col10 {\n",
       "            background-color:  #f2faf0;\n",
       "        }    #T_3d3a635e_8bda_11e7_a762_704d7b691ac3row6_col11 {\n",
       "            background-color:  #f0f9ed;\n",
       "        }    #T_3d3a635e_8bda_11e7_a762_704d7b691ac3row6_col12 {\n",
       "            background-color:  #9cd797;\n",
       "        }    #T_3d3a635e_8bda_11e7_a762_704d7b691ac3row7_col0 {\n",
       "            background-color:  #c4e8bd;\n",
       "        }    #T_3d3a635e_8bda_11e7_a762_704d7b691ac3row7_col1 {\n",
       "            background-color:  #95d391;\n",
       "        }    #T_3d3a635e_8bda_11e7_a762_704d7b691ac3row7_col2 {\n",
       "            background-color:  #c7e9c0;\n",
       "        }    #T_3d3a635e_8bda_11e7_a762_704d7b691ac3row7_col3 {\n",
       "            background-color:  #c3e7bc;\n",
       "        }    #T_3d3a635e_8bda_11e7_a762_704d7b691ac3row7_col4 {\n",
       "            background-color:  #dbf1d6;\n",
       "        }    #T_3d3a635e_8bda_11e7_a762_704d7b691ac3row7_col5 {\n",
       "            background-color:  #78c679;\n",
       "        }    #T_3d3a635e_8bda_11e7_a762_704d7b691ac3row7_col6 {\n",
       "            background-color:  #97d492;\n",
       "        }    #T_3d3a635e_8bda_11e7_a762_704d7b691ac3row7_col7 {\n",
       "            background-color:  #00441b;\n",
       "        }    #T_3d3a635e_8bda_11e7_a762_704d7b691ac3row7_col8 {\n",
       "            background-color:  #e5f5e1;\n",
       "        }    #T_3d3a635e_8bda_11e7_a762_704d7b691ac3row7_col9 {\n",
       "            background-color:  #f7fcf5;\n",
       "        }    #T_3d3a635e_8bda_11e7_a762_704d7b691ac3row7_col10 {\n",
       "            background-color:  #edf8ea;\n",
       "        }    #T_3d3a635e_8bda_11e7_a762_704d7b691ac3row7_col11 {\n",
       "            background-color:  #f0f9ec;\n",
       "        }    #T_3d3a635e_8bda_11e7_a762_704d7b691ac3row7_col12 {\n",
       "            background-color:  #349d53;\n",
       "        }    #T_3d3a635e_8bda_11e7_a762_704d7b691ac3row8_col0 {\n",
       "            background-color:  #87cd86;\n",
       "        }    #T_3d3a635e_8bda_11e7_a762_704d7b691ac3row8_col1 {\n",
       "            background-color:  #a7dba0;\n",
       "        }    #T_3d3a635e_8bda_11e7_a762_704d7b691ac3row8_col2 {\n",
       "            background-color:  #e3f4de;\n",
       "        }    #T_3d3a635e_8bda_11e7_a762_704d7b691ac3row8_col3 {\n",
       "            background-color:  #def2d9;\n",
       "        }    #T_3d3a635e_8bda_11e7_a762_704d7b691ac3row8_col4 {\n",
       "            background-color:  #e5f5e0;\n",
       "        }    #T_3d3a635e_8bda_11e7_a762_704d7b691ac3row8_col5 {\n",
       "            background-color:  #f0f9ec;\n",
       "        }    #T_3d3a635e_8bda_11e7_a762_704d7b691ac3row8_col6 {\n",
       "            background-color:  #d6efd0;\n",
       "        }    #T_3d3a635e_8bda_11e7_a762_704d7b691ac3row8_col7 {\n",
       "            background-color:  #e3f4de;\n",
       "        }    #T_3d3a635e_8bda_11e7_a762_704d7b691ac3row8_col8 {\n",
       "            background-color:  #00441b;\n",
       "        }    #T_3d3a635e_8bda_11e7_a762_704d7b691ac3row8_col9 {\n",
       "            background-color:  #ecf8e8;\n",
       "        }    #T_3d3a635e_8bda_11e7_a762_704d7b691ac3row8_col10 {\n",
       "            background-color:  #ebf7e7;\n",
       "        }    #T_3d3a635e_8bda_11e7_a762_704d7b691ac3row8_col11 {\n",
       "            background-color:  #ecf8e8;\n",
       "        }    #T_3d3a635e_8bda_11e7_a762_704d7b691ac3row8_col12 {\n",
       "            background-color:  #f1faee;\n",
       "        }    #T_3d3a635e_8bda_11e7_a762_704d7b691ac3row9_col0 {\n",
       "            background-color:  #a7dba0;\n",
       "        }    #T_3d3a635e_8bda_11e7_a762_704d7b691ac3row9_col1 {\n",
       "            background-color:  #9ed798;\n",
       "        }    #T_3d3a635e_8bda_11e7_a762_704d7b691ac3row9_col2 {\n",
       "            background-color:  #d5efcf;\n",
       "        }    #T_3d3a635e_8bda_11e7_a762_704d7b691ac3row9_col3 {\n",
       "            background-color:  #cdecc7;\n",
       "        }    #T_3d3a635e_8bda_11e7_a762_704d7b691ac3row9_col4 {\n",
       "            background-color:  #e0f3db;\n",
       "        }    #T_3d3a635e_8bda_11e7_a762_704d7b691ac3row9_col5 {\n",
       "            background-color:  #eff9eb;\n",
       "        }    #T_3d3a635e_8bda_11e7_a762_704d7b691ac3row9_col6 {\n",
       "            background-color:  #d6efd0;\n",
       "        }    #T_3d3a635e_8bda_11e7_a762_704d7b691ac3row9_col7 {\n",
       "            background-color:  #eef8ea;\n",
       "        }    #T_3d3a635e_8bda_11e7_a762_704d7b691ac3row9_col8 {\n",
       "            background-color:  #e6f5e1;\n",
       "        }    #T_3d3a635e_8bda_11e7_a762_704d7b691ac3row9_col9 {\n",
       "            background-color:  #00441b;\n",
       "        }    #T_3d3a635e_8bda_11e7_a762_704d7b691ac3row9_col10 {\n",
       "            background-color:  #e1f3dc;\n",
       "        }    #T_3d3a635e_8bda_11e7_a762_704d7b691ac3row9_col11 {\n",
       "            background-color:  #5eb96b;\n",
       "        }    #T_3d3a635e_8bda_11e7_a762_704d7b691ac3row9_col12 {\n",
       "            background-color:  #f0f9ec;\n",
       "        }    #T_3d3a635e_8bda_11e7_a762_704d7b691ac3row10_col0 {\n",
       "            background-color:  #9ed798;\n",
       "        }    #T_3d3a635e_8bda_11e7_a762_704d7b691ac3row10_col1 {\n",
       "            background-color:  #b1e0ab;\n",
       "        }    #T_3d3a635e_8bda_11e7_a762_704d7b691ac3row10_col2 {\n",
       "            background-color:  #c2e7bb;\n",
       "        }    #T_3d3a635e_8bda_11e7_a762_704d7b691ac3row10_col3 {\n",
       "            background-color:  #dbf1d5;\n",
       "        }    #T_3d3a635e_8bda_11e7_a762_704d7b691ac3row10_col4 {\n",
       "            background-color:  #f7fcf5;\n",
       "        }    #T_3d3a635e_8bda_11e7_a762_704d7b691ac3row10_col5 {\n",
       "            background-color:  #e8f6e3;\n",
       "        }    #T_3d3a635e_8bda_11e7_a762_704d7b691ac3row10_col6 {\n",
       "            background-color:  #e9f7e5;\n",
       "        }    #T_3d3a635e_8bda_11e7_a762_704d7b691ac3row10_col7 {\n",
       "            background-color:  #f4fbf2;\n",
       "        }    #T_3d3a635e_8bda_11e7_a762_704d7b691ac3row10_col8 {\n",
       "            background-color:  #f4fbf1;\n",
       "        }    #T_3d3a635e_8bda_11e7_a762_704d7b691ac3row10_col9 {\n",
       "            background-color:  #f2faef;\n",
       "        }    #T_3d3a635e_8bda_11e7_a762_704d7b691ac3row10_col10 {\n",
       "            background-color:  #00441b;\n",
       "        }    #T_3d3a635e_8bda_11e7_a762_704d7b691ac3row10_col11 {\n",
       "            background-color:  #eef8ea;\n",
       "        }    #T_3d3a635e_8bda_11e7_a762_704d7b691ac3row10_col12 {\n",
       "            background-color:  #eff9eb;\n",
       "        }    #T_3d3a635e_8bda_11e7_a762_704d7b691ac3row11_col0 {\n",
       "            background-color:  #b7e2b1;\n",
       "        }    #T_3d3a635e_8bda_11e7_a762_704d7b691ac3row11_col1 {\n",
       "            background-color:  #91d28e;\n",
       "        }    #T_3d3a635e_8bda_11e7_a762_704d7b691ac3row11_col2 {\n",
       "            background-color:  #b5e1ae;\n",
       "        }    #T_3d3a635e_8bda_11e7_a762_704d7b691ac3row11_col3 {\n",
       "            background-color:  #d7efd1;\n",
       "        }    #T_3d3a635e_8bda_11e7_a762_704d7b691ac3row11_col4 {\n",
       "            background-color:  #d2edcc;\n",
       "        }    #T_3d3a635e_8bda_11e7_a762_704d7b691ac3row11_col5 {\n",
       "            background-color:  #edf8e9;\n",
       "        }    #T_3d3a635e_8bda_11e7_a762_704d7b691ac3row11_col6 {\n",
       "            background-color:  #d2edcc;\n",
       "        }    #T_3d3a635e_8bda_11e7_a762_704d7b691ac3row11_col7 {\n",
       "            background-color:  #e8f6e3;\n",
       "        }    #T_3d3a635e_8bda_11e7_a762_704d7b691ac3row11_col8 {\n",
       "            background-color:  #e6f5e1;\n",
       "        }    #T_3d3a635e_8bda_11e7_a762_704d7b691ac3row11_col9 {\n",
       "            background-color:  #5eb96b;\n",
       "        }    #T_3d3a635e_8bda_11e7_a762_704d7b691ac3row11_col10 {\n",
       "            background-color:  #ddf2d8;\n",
       "        }    #T_3d3a635e_8bda_11e7_a762_704d7b691ac3row11_col11 {\n",
       "            background-color:  #00441b;\n",
       "        }    #T_3d3a635e_8bda_11e7_a762_704d7b691ac3row11_col12 {\n",
       "            background-color:  #edf8e9;\n",
       "        }    #T_3d3a635e_8bda_11e7_a762_704d7b691ac3row12_col0 {\n",
       "            background-color:  #bde5b6;\n",
       "        }    #T_3d3a635e_8bda_11e7_a762_704d7b691ac3row12_col1 {\n",
       "            background-color:  #95d391;\n",
       "        }    #T_3d3a635e_8bda_11e7_a762_704d7b691ac3row12_col2 {\n",
       "            background-color:  #bae3b3;\n",
       "        }    #T_3d3a635e_8bda_11e7_a762_704d7b691ac3row12_col3 {\n",
       "            background-color:  #bde5b6;\n",
       "        }    #T_3d3a635e_8bda_11e7_a762_704d7b691ac3row12_col4 {\n",
       "            background-color:  #e5f5e0;\n",
       "        }    #T_3d3a635e_8bda_11e7_a762_704d7b691ac3row12_col5 {\n",
       "            background-color:  #29914a;\n",
       "        }    #T_3d3a635e_8bda_11e7_a762_704d7b691ac3row12_col6 {\n",
       "            background-color:  #7dc87e;\n",
       "        }    #T_3d3a635e_8bda_11e7_a762_704d7b691ac3row12_col7 {\n",
       "            background-color:  #329b51;\n",
       "        }    #T_3d3a635e_8bda_11e7_a762_704d7b691ac3row12_col8 {\n",
       "            background-color:  #eff9eb;\n",
       "        }    #T_3d3a635e_8bda_11e7_a762_704d7b691ac3row12_col9 {\n",
       "            background-color:  #f4fbf1;\n",
       "        }    #T_3d3a635e_8bda_11e7_a762_704d7b691ac3row12_col10 {\n",
       "            background-color:  #e3f4de;\n",
       "        }    #T_3d3a635e_8bda_11e7_a762_704d7b691ac3row12_col11 {\n",
       "            background-color:  #f0f9ed;\n",
       "        }    #T_3d3a635e_8bda_11e7_a762_704d7b691ac3row12_col12 {\n",
       "            background-color:  #00441b;\n",
       "        }</style>  \n",
       "<table id=\"T_3d3a635e_8bda_11e7_a762_704d7b691ac3\" > \n",
       "<thead>    <tr> \n",
       "        <th class=\"blank level0\" ></th> \n",
       "        <th class=\"col_heading level0 col0\" >Gender</th> \n",
       "        <th class=\"col_heading level0 col1\" >Married</th> \n",
       "        <th class=\"col_heading level0 col2\" >Dependents</th> \n",
       "        <th class=\"col_heading level0 col3\" >Education</th> \n",
       "        <th class=\"col_heading level0 col4\" >Self_Employed</th> \n",
       "        <th class=\"col_heading level0 col5\" >ApplicantIncome</th> \n",
       "        <th class=\"col_heading level0 col6\" >CoapplicantIncome</th> \n",
       "        <th class=\"col_heading level0 col7\" >LoanAmount</th> \n",
       "        <th class=\"col_heading level0 col8\" >Loan_Amount_Term</th> \n",
       "        <th class=\"col_heading level0 col9\" >Credit_History</th> \n",
       "        <th class=\"col_heading level0 col10\" >Property_Area</th> \n",
       "        <th class=\"col_heading level0 col11\" >Loan_Status</th> \n",
       "        <th class=\"col_heading level0 col12\" >Total_Income</th> \n",
       "    </tr></thead> \n",
       "<tbody>    <tr> \n",
       "        <th id=\"T_3d3a635e_8bda_11e7_a762_704d7b691ac3level0_row0\" class=\"row_heading level0 row0\" >Gender</th> \n",
       "        <td id=\"T_3d3a635e_8bda_11e7_a762_704d7b691ac3row0_col0\" class=\"data row0 col0\" >1</td> \n",
       "        <td id=\"T_3d3a635e_8bda_11e7_a762_704d7b691ac3row0_col1\" class=\"data row0 col1\" >-0.520436</td> \n",
       "        <td id=\"T_3d3a635e_8bda_11e7_a762_704d7b691ac3row0_col2\" class=\"data row0 col2\" >-0.279564</td> \n",
       "        <td id=\"T_3d3a635e_8bda_11e7_a762_704d7b691ac3row0_col3\" class=\"data row0 col3\" >0.187212</td> \n",
       "        <td id=\"T_3d3a635e_8bda_11e7_a762_704d7b691ac3row0_col4\" class=\"data row0 col4\" >nan</td> \n",
       "        <td id=\"T_3d3a635e_8bda_11e7_a762_704d7b691ac3row0_col5\" class=\"data row0 col5\" >0.0436184</td> \n",
       "        <td id=\"T_3d3a635e_8bda_11e7_a762_704d7b691ac3row0_col6\" class=\"data row0 col6\" >-0.264868</td> \n",
       "        <td id=\"T_3d3a635e_8bda_11e7_a762_704d7b691ac3row0_col7\" class=\"data row0 col7\" >-0.125117</td> \n",
       "        <td id=\"T_3d3a635e_8bda_11e7_a762_704d7b691ac3row0_col8\" class=\"data row0 col8\" >0.159784</td> \n",
       "        <td id=\"T_3d3a635e_8bda_11e7_a762_704d7b691ac3row0_col9\" class=\"data row0 col9\" >0.0212211</td> \n",
       "        <td id=\"T_3d3a635e_8bda_11e7_a762_704d7b691ac3row0_col10\" class=\"data row0 col10\" >0.0618364</td> \n",
       "        <td id=\"T_3d3a635e_8bda_11e7_a762_704d7b691ac3row0_col11\" class=\"data row0 col11\" >-0.0613998</td> \n",
       "        <td id=\"T_3d3a635e_8bda_11e7_a762_704d7b691ac3row0_col12\" class=\"data row0 col12\" >-0.0871665</td> \n",
       "    </tr>    <tr> \n",
       "        <th id=\"T_3d3a635e_8bda_11e7_a762_704d7b691ac3level0_row1\" class=\"row_heading level0 row1\" >Married</th> \n",
       "        <td id=\"T_3d3a635e_8bda_11e7_a762_704d7b691ac3row1_col0\" class=\"data row1 col0\" >-0.520436</td> \n",
       "        <td id=\"T_3d3a635e_8bda_11e7_a762_704d7b691ac3row1_col1\" class=\"data row1 col1\" >1</td> \n",
       "        <td id=\"T_3d3a635e_8bda_11e7_a762_704d7b691ac3row1_col2\" class=\"data row1 col2\" >0.293895</td> \n",
       "        <td id=\"T_3d3a635e_8bda_11e7_a762_704d7b691ac3row1_col3\" class=\"data row1 col3\" >-0.0435003</td> \n",
       "        <td id=\"T_3d3a635e_8bda_11e7_a762_704d7b691ac3row1_col4\" class=\"data row1 col4\" >0.101576</td> \n",
       "        <td id=\"T_3d3a635e_8bda_11e7_a762_704d7b691ac3row1_col5\" class=\"data row1 col5\" >0.00442128</td> \n",
       "        <td id=\"T_3d3a635e_8bda_11e7_a762_704d7b691ac3row1_col6\" class=\"data row1 col6\" >0.220437</td> \n",
       "        <td id=\"T_3d3a635e_8bda_11e7_a762_704d7b691ac3row1_col7\" class=\"data row1 col7\" >0.0974474</td> \n",
       "        <td id=\"T_3d3a635e_8bda_11e7_a762_704d7b691ac3row1_col8\" class=\"data row1 col8\" >0.023755</td> \n",
       "        <td id=\"T_3d3a635e_8bda_11e7_a762_704d7b691ac3row1_col9\" class=\"data row1 col9\" >0.0637571</td> \n",
       "        <td id=\"T_3d3a635e_8bda_11e7_a762_704d7b691ac3row1_col10\" class=\"data row1 col10\" >-0.0286271</td> \n",
       "        <td id=\"T_3d3a635e_8bda_11e7_a762_704d7b691ac3row1_col11\" class=\"data row1 col11\" >0.11526</td> \n",
       "        <td id=\"T_3d3a635e_8bda_11e7_a762_704d7b691ac3row1_col12\" class=\"data row1 col12\" >0.0992107</td> \n",
       "    </tr>    <tr> \n",
       "        <th id=\"T_3d3a635e_8bda_11e7_a762_704d7b691ac3level0_row2\" class=\"row_heading level0 row2\" >Dependents</th> \n",
       "        <td id=\"T_3d3a635e_8bda_11e7_a762_704d7b691ac3row2_col0\" class=\"data row2 col0\" >-0.279564</td> \n",
       "        <td id=\"T_3d3a635e_8bda_11e7_a762_704d7b691ac3row2_col1\" class=\"data row2 col1\" >0.293895</td> \n",
       "        <td id=\"T_3d3a635e_8bda_11e7_a762_704d7b691ac3row2_col2\" class=\"data row2 col2\" >1</td> \n",
       "        <td id=\"T_3d3a635e_8bda_11e7_a762_704d7b691ac3row2_col3\" class=\"data row2 col3\" >-0.0725774</td> \n",
       "        <td id=\"T_3d3a635e_8bda_11e7_a762_704d7b691ac3row2_col4\" class=\"data row2 col4\" >0.333092</td> \n",
       "        <td id=\"T_3d3a635e_8bda_11e7_a762_704d7b691ac3row2_col5\" class=\"data row2 col5\" >0.0365602</td> \n",
       "        <td id=\"T_3d3a635e_8bda_11e7_a762_704d7b691ac3row2_col6\" class=\"data row2 col6\" >0.0900417</td> \n",
       "        <td id=\"T_3d3a635e_8bda_11e7_a762_704d7b691ac3row2_col7\" class=\"data row2 col7\" >0.042179</td> \n",
       "        <td id=\"T_3d3a635e_8bda_11e7_a762_704d7b691ac3row2_col8\" class=\"data row2 col8\" >-0.108327</td> \n",
       "        <td id=\"T_3d3a635e_8bda_11e7_a762_704d7b691ac3row2_col9\" class=\"data row2 col9\" >-0.0310381</td> \n",
       "        <td id=\"T_3d3a635e_8bda_11e7_a762_704d7b691ac3row2_col10\" class=\"data row2 col10\" >0.0603881</td> \n",
       "        <td id=\"T_3d3a635e_8bda_11e7_a762_704d7b691ac3row2_col11\" class=\"data row2 col11\" >0.11575</td> \n",
       "        <td id=\"T_3d3a635e_8bda_11e7_a762_704d7b691ac3row2_col12\" class=\"data row2 col12\" >0.0973472</td> \n",
       "    </tr>    <tr> \n",
       "        <th id=\"T_3d3a635e_8bda_11e7_a762_704d7b691ac3level0_row3\" class=\"row_heading level0 row3\" >Education</th> \n",
       "        <td id=\"T_3d3a635e_8bda_11e7_a762_704d7b691ac3row3_col0\" class=\"data row3 col0\" >0.187212</td> \n",
       "        <td id=\"T_3d3a635e_8bda_11e7_a762_704d7b691ac3row3_col1\" class=\"data row3 col1\" >-0.0435003</td> \n",
       "        <td id=\"T_3d3a635e_8bda_11e7_a762_704d7b691ac3row3_col2\" class=\"data row3 col2\" >-0.0725774</td> \n",
       "        <td id=\"T_3d3a635e_8bda_11e7_a762_704d7b691ac3row3_col3\" class=\"data row3 col3\" >1</td> \n",
       "        <td id=\"T_3d3a635e_8bda_11e7_a762_704d7b691ac3row3_col4\" class=\"data row3 col4\" >-0.120173</td> \n",
       "        <td id=\"T_3d3a635e_8bda_11e7_a762_704d7b691ac3row3_col5\" class=\"data row3 col5\" >0.168223</td> \n",
       "        <td id=\"T_3d3a635e_8bda_11e7_a762_704d7b691ac3row3_col6\" class=\"data row3 col6\" >0.0105617</td> \n",
       "        <td id=\"T_3d3a635e_8bda_11e7_a762_704d7b691ac3row3_col7\" class=\"data row3 col7\" >0.176279</td> \n",
       "        <td id=\"T_3d3a635e_8bda_11e7_a762_704d7b691ac3row3_col8\" class=\"data row3 col8\" >0.0507906</td> \n",
       "        <td id=\"T_3d3a635e_8bda_11e7_a762_704d7b691ac3row3_col9\" class=\"data row3 col9\" >0.132685</td> \n",
       "        <td id=\"T_3d3a635e_8bda_11e7_a762_704d7b691ac3row3_col10\" class=\"data row3 col10\" >0.068951</td> \n",
       "        <td id=\"T_3d3a635e_8bda_11e7_a762_704d7b691ac3row3_col11\" class=\"data row3 col11\" >0.0883434</td> \n",
       "        <td id=\"T_3d3a635e_8bda_11e7_a762_704d7b691ac3row3_col12\" class=\"data row3 col12\" >0.196298</td> \n",
       "    </tr>    <tr> \n",
       "        <th id=\"T_3d3a635e_8bda_11e7_a762_704d7b691ac3level0_row4\" class=\"row_heading level0 row4\" >Self_Employed</th> \n",
       "        <td id=\"T_3d3a635e_8bda_11e7_a762_704d7b691ac3row4_col0\" class=\"data row4 col0\" >nan</td> \n",
       "        <td id=\"T_3d3a635e_8bda_11e7_a762_704d7b691ac3row4_col1\" class=\"data row4 col1\" >0.101576</td> \n",
       "        <td id=\"T_3d3a635e_8bda_11e7_a762_704d7b691ac3row4_col2\" class=\"data row4 col2\" >0.333092</td> \n",
       "        <td id=\"T_3d3a635e_8bda_11e7_a762_704d7b691ac3row4_col3\" class=\"data row4 col3\" >-0.120173</td> \n",
       "        <td id=\"T_3d3a635e_8bda_11e7_a762_704d7b691ac3row4_col4\" class=\"data row4 col4\" >1</td> \n",
       "        <td id=\"T_3d3a635e_8bda_11e7_a762_704d7b691ac3row4_col5\" class=\"data row4 col5\" >-0.0519703</td> \n",
       "        <td id=\"T_3d3a635e_8bda_11e7_a762_704d7b691ac3row4_col6\" class=\"data row4 col6\" >0.442185</td> \n",
       "        <td id=\"T_3d3a635e_8bda_11e7_a762_704d7b691ac3row4_col7\" class=\"data row4 col7\" >0.0137467</td> \n",
       "        <td id=\"T_3d3a635e_8bda_11e7_a762_704d7b691ac3row4_col8\" class=\"data row4 col8\" >-0.0301749</td> \n",
       "        <td id=\"T_3d3a635e_8bda_11e7_a762_704d7b691ac3row4_col9\" class=\"data row4 col9\" >-0.0063214</td> \n",
       "        <td id=\"T_3d3a635e_8bda_11e7_a762_704d7b691ac3row4_col10\" class=\"data row4 col10\" >-0.180679</td> \n",
       "        <td id=\"T_3d3a635e_8bda_11e7_a762_704d7b691ac3row4_col11\" class=\"data row4 col11\" >0.0620174</td> \n",
       "        <td id=\"T_3d3a635e_8bda_11e7_a762_704d7b691ac3row4_col12\" class=\"data row4 col12\" >-0.03043</td> \n",
       "    </tr>    <tr> \n",
       "        <th id=\"T_3d3a635e_8bda_11e7_a762_704d7b691ac3level0_row5\" class=\"row_heading level0 row5\" >ApplicantIncome</th> \n",
       "        <td id=\"T_3d3a635e_8bda_11e7_a762_704d7b691ac3row5_col0\" class=\"data row5 col0\" >0.0436184</td> \n",
       "        <td id=\"T_3d3a635e_8bda_11e7_a762_704d7b691ac3row5_col1\" class=\"data row5 col1\" >0.00442128</td> \n",
       "        <td id=\"T_3d3a635e_8bda_11e7_a762_704d7b691ac3row5_col2\" class=\"data row5 col2\" >0.0365602</td> \n",
       "        <td id=\"T_3d3a635e_8bda_11e7_a762_704d7b691ac3row5_col3\" class=\"data row5 col3\" >0.168223</td> \n",
       "        <td id=\"T_3d3a635e_8bda_11e7_a762_704d7b691ac3row5_col4\" class=\"data row5 col4\" >-0.0519703</td> \n",
       "        <td id=\"T_3d3a635e_8bda_11e7_a762_704d7b691ac3row5_col5\" class=\"data row5 col5\" >1</td> \n",
       "        <td id=\"T_3d3a635e_8bda_11e7_a762_704d7b691ac3row5_col6\" class=\"data row5 col6\" >-0.0749021</td> \n",
       "        <td id=\"T_3d3a635e_8bda_11e7_a762_704d7b691ac3row5_col7\" class=\"data row5 col7\" >0.450111</td> \n",
       "        <td id=\"T_3d3a635e_8bda_11e7_a762_704d7b691ac3row5_col8\" class=\"data row5 col8\" >-0.0173542</td> \n",
       "        <td id=\"T_3d3a635e_8bda_11e7_a762_704d7b691ac3row5_col9\" class=\"data row5 col9\" >-0.0100709</td> \n",
       "        <td id=\"T_3d3a635e_8bda_11e7_a762_704d7b691ac3row5_col10\" class=\"data row5 col10\" >0.0425839</td> \n",
       "        <td id=\"T_3d3a635e_8bda_11e7_a762_704d7b691ac3row5_col11\" class=\"data row5 col11\" >0.00168315</td> \n",
       "        <td id=\"T_3d3a635e_8bda_11e7_a762_704d7b691ac3row5_col12\" class=\"data row5 col12\" >0.705724</td> \n",
       "    </tr>    <tr> \n",
       "        <th id=\"T_3d3a635e_8bda_11e7_a762_704d7b691ac3level0_row6\" class=\"row_heading level0 row6\" >CoapplicantIncome</th> \n",
       "        <td id=\"T_3d3a635e_8bda_11e7_a762_704d7b691ac3row6_col0\" class=\"data row6 col0\" >-0.264868</td> \n",
       "        <td id=\"T_3d3a635e_8bda_11e7_a762_704d7b691ac3row6_col1\" class=\"data row6 col1\" >0.220437</td> \n",
       "        <td id=\"T_3d3a635e_8bda_11e7_a762_704d7b691ac3row6_col2\" class=\"data row6 col2\" >0.0900417</td> \n",
       "        <td id=\"T_3d3a635e_8bda_11e7_a762_704d7b691ac3row6_col3\" class=\"data row6 col3\" >0.0105617</td> \n",
       "        <td id=\"T_3d3a635e_8bda_11e7_a762_704d7b691ac3row6_col4\" class=\"data row6 col4\" >0.442185</td> \n",
       "        <td id=\"T_3d3a635e_8bda_11e7_a762_704d7b691ac3row6_col5\" class=\"data row6 col5\" >-0.0749021</td> \n",
       "        <td id=\"T_3d3a635e_8bda_11e7_a762_704d7b691ac3row6_col6\" class=\"data row6 col6\" >1</td> \n",
       "        <td id=\"T_3d3a635e_8bda_11e7_a762_704d7b691ac3row6_col7\" class=\"data row6 col7\" >0.247666</td> \n",
       "        <td id=\"T_3d3a635e_8bda_11e7_a762_704d7b691ac3row6_col8\" class=\"data row6 col8\" >-0.026884</td> \n",
       "        <td id=\"T_3d3a635e_8bda_11e7_a762_704d7b691ac3row6_col9\" class=\"data row6 col9\" >-0.0256634</td> \n",
       "        <td id=\"T_3d3a635e_8bda_11e7_a762_704d7b691ac3row6_col10\" class=\"data row6 col10\" >-0.140427</td> \n",
       "        <td id=\"T_3d3a635e_8bda_11e7_a762_704d7b691ac3row6_col11\" class=\"data row6 col11\" >-0.0076139</td> \n",
       "        <td id=\"T_3d3a635e_8bda_11e7_a762_704d7b691ac3row6_col12\" class=\"data row6 col12\" >0.336745</td> \n",
       "    </tr>    <tr> \n",
       "        <th id=\"T_3d3a635e_8bda_11e7_a762_704d7b691ac3level0_row7\" class=\"row_heading level0 row7\" >LoanAmount</th> \n",
       "        <td id=\"T_3d3a635e_8bda_11e7_a762_704d7b691ac3row7_col0\" class=\"data row7 col0\" >-0.125117</td> \n",
       "        <td id=\"T_3d3a635e_8bda_11e7_a762_704d7b691ac3row7_col1\" class=\"data row7 col1\" >0.0974474</td> \n",
       "        <td id=\"T_3d3a635e_8bda_11e7_a762_704d7b691ac3row7_col2\" class=\"data row7 col2\" >0.042179</td> \n",
       "        <td id=\"T_3d3a635e_8bda_11e7_a762_704d7b691ac3row7_col3\" class=\"data row7 col3\" >0.176279</td> \n",
       "        <td id=\"T_3d3a635e_8bda_11e7_a762_704d7b691ac3row7_col4\" class=\"data row7 col4\" >0.0137467</td> \n",
       "        <td id=\"T_3d3a635e_8bda_11e7_a762_704d7b691ac3row7_col5\" class=\"data row7 col5\" >0.450111</td> \n",
       "        <td id=\"T_3d3a635e_8bda_11e7_a762_704d7b691ac3row7_col6\" class=\"data row7 col6\" >0.247666</td> \n",
       "        <td id=\"T_3d3a635e_8bda_11e7_a762_704d7b691ac3row7_col7\" class=\"data row7 col7\" >1</td> \n",
       "        <td id=\"T_3d3a635e_8bda_11e7_a762_704d7b691ac3row7_col8\" class=\"data row7 col8\" >0.0282126</td> \n",
       "        <td id=\"T_3d3a635e_8bda_11e7_a762_704d7b691ac3row7_col9\" class=\"data row7 col9\" >-0.0539913</td> \n",
       "        <td id=\"T_3d3a635e_8bda_11e7_a762_704d7b691ac3row7_col10\" class=\"data row7 col10\" >-0.0993089</td> \n",
       "        <td id=\"T_3d3a635e_8bda_11e7_a762_704d7b691ac3row7_col11\" class=\"data row7 col11\" >-0.0044075</td> \n",
       "        <td id=\"T_3d3a635e_8bda_11e7_a762_704d7b691ac3row7_col12\" class=\"data row7 col12\" >0.648015</td> \n",
       "    </tr>    <tr> \n",
       "        <th id=\"T_3d3a635e_8bda_11e7_a762_704d7b691ac3level0_row8\" class=\"row_heading level0 row8\" >Loan_Amount_Term</th> \n",
       "        <td id=\"T_3d3a635e_8bda_11e7_a762_704d7b691ac3row8_col0\" class=\"data row8 col0\" >0.159784</td> \n",
       "        <td id=\"T_3d3a635e_8bda_11e7_a762_704d7b691ac3row8_col1\" class=\"data row8 col1\" >0.023755</td> \n",
       "        <td id=\"T_3d3a635e_8bda_11e7_a762_704d7b691ac3row8_col2\" class=\"data row8 col2\" >-0.108327</td> \n",
       "        <td id=\"T_3d3a635e_8bda_11e7_a762_704d7b691ac3row8_col3\" class=\"data row8 col3\" >0.0507906</td> \n",
       "        <td id=\"T_3d3a635e_8bda_11e7_a762_704d7b691ac3row8_col4\" class=\"data row8 col4\" >-0.0301749</td> \n",
       "        <td id=\"T_3d3a635e_8bda_11e7_a762_704d7b691ac3row8_col5\" class=\"data row8 col5\" >-0.0173542</td> \n",
       "        <td id=\"T_3d3a635e_8bda_11e7_a762_704d7b691ac3row8_col6\" class=\"data row8 col6\" >-0.026884</td> \n",
       "        <td id=\"T_3d3a635e_8bda_11e7_a762_704d7b691ac3row8_col7\" class=\"data row8 col7\" >0.0282126</td> \n",
       "        <td id=\"T_3d3a635e_8bda_11e7_a762_704d7b691ac3row8_col8\" class=\"data row8 col8\" >1</td> \n",
       "        <td id=\"T_3d3a635e_8bda_11e7_a762_704d7b691ac3row8_col9\" class=\"data row8 col9\" >0.0249261</td> \n",
       "        <td id=\"T_3d3a635e_8bda_11e7_a762_704d7b691ac3row8_col10\" class=\"data row8 col10\" >-0.0813216</td> \n",
       "        <td id=\"T_3d3a635e_8bda_11e7_a762_704d7b691ac3row8_col11\" class=\"data row8 col11\" >0.0221496</td> \n",
       "        <td id=\"T_3d3a635e_8bda_11e7_a762_704d7b691ac3row8_col12\" class=\"data row8 col12\" >-0.0430769</td> \n",
       "    </tr>    <tr> \n",
       "        <th id=\"T_3d3a635e_8bda_11e7_a762_704d7b691ac3level0_row9\" class=\"row_heading level0 row9\" >Credit_History</th> \n",
       "        <td id=\"T_3d3a635e_8bda_11e7_a762_704d7b691ac3row9_col0\" class=\"data row9 col0\" >0.0212211</td> \n",
       "        <td id=\"T_3d3a635e_8bda_11e7_a762_704d7b691ac3row9_col1\" class=\"data row9 col1\" >0.0637571</td> \n",
       "        <td id=\"T_3d3a635e_8bda_11e7_a762_704d7b691ac3row9_col2\" class=\"data row9 col2\" >-0.0310381</td> \n",
       "        <td id=\"T_3d3a635e_8bda_11e7_a762_704d7b691ac3row9_col3\" class=\"data row9 col3\" >0.132685</td> \n",
       "        <td id=\"T_3d3a635e_8bda_11e7_a762_704d7b691ac3row9_col4\" class=\"data row9 col4\" >-0.0063214</td> \n",
       "        <td id=\"T_3d3a635e_8bda_11e7_a762_704d7b691ac3row9_col5\" class=\"data row9 col5\" >-0.0100709</td> \n",
       "        <td id=\"T_3d3a635e_8bda_11e7_a762_704d7b691ac3row9_col6\" class=\"data row9 col6\" >-0.0256634</td> \n",
       "        <td id=\"T_3d3a635e_8bda_11e7_a762_704d7b691ac3row9_col7\" class=\"data row9 col7\" >-0.0539913</td> \n",
       "        <td id=\"T_3d3a635e_8bda_11e7_a762_704d7b691ac3row9_col8\" class=\"data row9 col8\" >0.0249261</td> \n",
       "        <td id=\"T_3d3a635e_8bda_11e7_a762_704d7b691ac3row9_col9\" class=\"data row9 col9\" >1</td> \n",
       "        <td id=\"T_3d3a635e_8bda_11e7_a762_704d7b691ac3row9_col10\" class=\"data row9 col10\" >-0.0132281</td> \n",
       "        <td id=\"T_3d3a635e_8bda_11e7_a762_704d7b691ac3row9_col11\" class=\"data row9 col11\" >0.52728</td> \n",
       "        <td id=\"T_3d3a635e_8bda_11e7_a762_704d7b691ac3row9_col12\" class=\"data row9 col12\" >-0.0279217</td> \n",
       "    </tr>    <tr> \n",
       "        <th id=\"T_3d3a635e_8bda_11e7_a762_704d7b691ac3level0_row10\" class=\"row_heading level0 row10\" >Property_Area</th> \n",
       "        <td id=\"T_3d3a635e_8bda_11e7_a762_704d7b691ac3row10_col0\" class=\"data row10 col0\" >0.0618364</td> \n",
       "        <td id=\"T_3d3a635e_8bda_11e7_a762_704d7b691ac3row10_col1\" class=\"data row10 col1\" >-0.0286271</td> \n",
       "        <td id=\"T_3d3a635e_8bda_11e7_a762_704d7b691ac3row10_col2\" class=\"data row10 col2\" >0.0603881</td> \n",
       "        <td id=\"T_3d3a635e_8bda_11e7_a762_704d7b691ac3row10_col3\" class=\"data row10 col3\" >0.068951</td> \n",
       "        <td id=\"T_3d3a635e_8bda_11e7_a762_704d7b691ac3row10_col4\" class=\"data row10 col4\" >-0.180679</td> \n",
       "        <td id=\"T_3d3a635e_8bda_11e7_a762_704d7b691ac3row10_col5\" class=\"data row10 col5\" >0.0425839</td> \n",
       "        <td id=\"T_3d3a635e_8bda_11e7_a762_704d7b691ac3row10_col6\" class=\"data row10 col6\" >-0.140427</td> \n",
       "        <td id=\"T_3d3a635e_8bda_11e7_a762_704d7b691ac3row10_col7\" class=\"data row10 col7\" >-0.0993089</td> \n",
       "        <td id=\"T_3d3a635e_8bda_11e7_a762_704d7b691ac3row10_col8\" class=\"data row10 col8\" >-0.0813216</td> \n",
       "        <td id=\"T_3d3a635e_8bda_11e7_a762_704d7b691ac3row10_col9\" class=\"data row10 col9\" >-0.0132281</td> \n",
       "        <td id=\"T_3d3a635e_8bda_11e7_a762_704d7b691ac3row10_col10\" class=\"data row10 col10\" >1</td> \n",
       "        <td id=\"T_3d3a635e_8bda_11e7_a762_704d7b691ac3row10_col11\" class=\"data row10 col11\" >0.00625389</td> \n",
       "        <td id=\"T_3d3a635e_8bda_11e7_a762_704d7b691ac3row10_col12\" class=\"data row10 col12\" >-0.0201476</td> \n",
       "    </tr>    <tr> \n",
       "        <th id=\"T_3d3a635e_8bda_11e7_a762_704d7b691ac3level0_row11\" class=\"row_heading level0 row11\" >Loan_Status</th> \n",
       "        <td id=\"T_3d3a635e_8bda_11e7_a762_704d7b691ac3row11_col0\" class=\"data row11 col0\" >-0.0613998</td> \n",
       "        <td id=\"T_3d3a635e_8bda_11e7_a762_704d7b691ac3row11_col1\" class=\"data row11 col1\" >0.11526</td> \n",
       "        <td id=\"T_3d3a635e_8bda_11e7_a762_704d7b691ac3row11_col2\" class=\"data row11 col2\" >0.11575</td> \n",
       "        <td id=\"T_3d3a635e_8bda_11e7_a762_704d7b691ac3row11_col3\" class=\"data row11 col3\" >0.0883434</td> \n",
       "        <td id=\"T_3d3a635e_8bda_11e7_a762_704d7b691ac3row11_col4\" class=\"data row11 col4\" >0.0620174</td> \n",
       "        <td id=\"T_3d3a635e_8bda_11e7_a762_704d7b691ac3row11_col5\" class=\"data row11 col5\" >0.00168315</td> \n",
       "        <td id=\"T_3d3a635e_8bda_11e7_a762_704d7b691ac3row11_col6\" class=\"data row11 col6\" >-0.0076139</td> \n",
       "        <td id=\"T_3d3a635e_8bda_11e7_a762_704d7b691ac3row11_col7\" class=\"data row11 col7\" >-0.0044075</td> \n",
       "        <td id=\"T_3d3a635e_8bda_11e7_a762_704d7b691ac3row11_col8\" class=\"data row11 col8\" >0.0221496</td> \n",
       "        <td id=\"T_3d3a635e_8bda_11e7_a762_704d7b691ac3row11_col9\" class=\"data row11 col9\" >0.52728</td> \n",
       "        <td id=\"T_3d3a635e_8bda_11e7_a762_704d7b691ac3row11_col10\" class=\"data row11 col10\" >0.00625389</td> \n",
       "        <td id=\"T_3d3a635e_8bda_11e7_a762_704d7b691ac3row11_col11\" class=\"data row11 col11\" >1</td> \n",
       "        <td id=\"T_3d3a635e_8bda_11e7_a762_704d7b691ac3row11_col12\" class=\"data row11 col12\" >-0.010017</td> \n",
       "    </tr>    <tr> \n",
       "        <th id=\"T_3d3a635e_8bda_11e7_a762_704d7b691ac3level0_row12\" class=\"row_heading level0 row12\" >Total_Income</th> \n",
       "        <td id=\"T_3d3a635e_8bda_11e7_a762_704d7b691ac3row12_col0\" class=\"data row12 col0\" >-0.0871665</td> \n",
       "        <td id=\"T_3d3a635e_8bda_11e7_a762_704d7b691ac3row12_col1\" class=\"data row12 col1\" >0.0992107</td> \n",
       "        <td id=\"T_3d3a635e_8bda_11e7_a762_704d7b691ac3row12_col2\" class=\"data row12 col2\" >0.0973472</td> \n",
       "        <td id=\"T_3d3a635e_8bda_11e7_a762_704d7b691ac3row12_col3\" class=\"data row12 col3\" >0.196298</td> \n",
       "        <td id=\"T_3d3a635e_8bda_11e7_a762_704d7b691ac3row12_col4\" class=\"data row12 col4\" >-0.03043</td> \n",
       "        <td id=\"T_3d3a635e_8bda_11e7_a762_704d7b691ac3row12_col5\" class=\"data row12 col5\" >0.705724</td> \n",
       "        <td id=\"T_3d3a635e_8bda_11e7_a762_704d7b691ac3row12_col6\" class=\"data row12 col6\" >0.336745</td> \n",
       "        <td id=\"T_3d3a635e_8bda_11e7_a762_704d7b691ac3row12_col7\" class=\"data row12 col7\" >0.648015</td> \n",
       "        <td id=\"T_3d3a635e_8bda_11e7_a762_704d7b691ac3row12_col8\" class=\"data row12 col8\" >-0.0430769</td> \n",
       "        <td id=\"T_3d3a635e_8bda_11e7_a762_704d7b691ac3row12_col9\" class=\"data row12 col9\" >-0.0279217</td> \n",
       "        <td id=\"T_3d3a635e_8bda_11e7_a762_704d7b691ac3row12_col10\" class=\"data row12 col10\" >-0.0201476</td> \n",
       "        <td id=\"T_3d3a635e_8bda_11e7_a762_704d7b691ac3row12_col11\" class=\"data row12 col11\" >-0.010017</td> \n",
       "        <td id=\"T_3d3a635e_8bda_11e7_a762_704d7b691ac3row12_col12\" class=\"data row12 col12\" >1</td> \n",
       "    </tr></tbody> \n",
       "</table> "
      ],
      "text/plain": [
       "<pandas.io.formats.style.Styler at 0x272a11377b8>"
      ]
     },
     "execution_count": 16,
     "metadata": {},
     "output_type": "execute_result"
    }
   ],
   "source": [
    "(corr.style.background_gradient(cmap=cm.Greens))"
   ]
  },
  {
   "cell_type": "code",
   "execution_count": 17,
   "metadata": {
    "collapsed": true
   },
   "outputs": [],
   "source": [
    "#data = temp.drop(['Gender','Married','Dependents','Education','Self_Employed','ApplicantIncome',\n",
    "#                  'CoapplicantIncome','LoanAmount','Loan_Amount_Term','Credit_History','Property_Area',\n",
    "#                  'Loan_Status','Total_Income'], axis=1)\n",
    "\n",
    "data = temp.drop(['Gender','Education','Self_Employed','Married','Loan_Amount_Term',\n",
    "                  'Dependents', 'CoapplicantIncome'], axis=1)\n"
   ]
  },
  {
   "cell_type": "code",
   "execution_count": 18,
   "metadata": {
    "collapsed": true
   },
   "outputs": [],
   "source": [
    "target = pd.DataFrame() \n",
    "target = data['Loan_Status']\n",
    "del data['Loan_Status']"
   ]
  },
  {
   "cell_type": "code",
   "execution_count": 20,
   "metadata": {
    "collapsed": true
   },
   "outputs": [],
   "source": [
    "from sklearn.model_selection import train_test_split\n",
    "from sklearn.model_selection import cross_val_score\n",
    "from sklearn import metrics\n",
    "import itertools\n",
    "\n",
    "from sklearn.model_selection import StratifiedKFold\n",
    "from sklearn.tree import DecisionTreeClassifier\n",
    "from sklearn.ensemble import RandomForestClassifier\n",
    "from sklearn.naive_bayes import GaussianNB\n",
    "from sklearn.linear_model import LogisticRegression\n",
    "\n",
    "from sklearn.ensemble import AdaBoostClassifier\n",
    "from sklearn.ensemble import GradientBoostingRegressor\n",
    "\n",
    "from sklearn.neural_network import MLPClassifier"
   ]
  },
  {
   "cell_type": "code",
   "execution_count": 21,
   "metadata": {
    "collapsed": true
   },
   "outputs": [],
   "source": [
    "def plot_confusion_matrix(cm, classes = ['0','1'],\n",
    "                          normalize=False,\n",
    "                          title='Confusion matrix',\n",
    "                          cmap=plt.cm.Blues):\n",
    "\n",
    "    plt.imshow(cm, interpolation='nearest', cmap=cmap)\n",
    "    plt.title(title)\n",
    "    plt.colorbar()\n",
    "    tick_marks = np.arange(len(classes))\n",
    "    plt.xticks(tick_marks, classes, rotation=45)\n",
    "    plt.yticks(tick_marks, classes)\n",
    "\n",
    "    fmt = '.2f' if normalize else 'd'\n",
    "    thresh = cm.max() / 2.\n",
    "    for i, j in itertools.product(range(cm.shape[0]), range(cm.shape[1])):\n",
    "        plt.text(j, i, format(cm[i, j], fmt),\n",
    "                 horizontalalignment=\"center\",\n",
    "                 color=\"white\" if cm[i, j] > thresh else \"black\")\n",
    "\n",
    "    plt.tight_layout()\n",
    "    plt.ylabel('True label')\n",
    "    plt.xlabel('Predicted label')\n"
   ]
  },
  {
   "cell_type": "code",
   "execution_count": null,
   "metadata": {
    "collapsed": true
   },
   "outputs": [],
   "source": []
  },
  {
   "cell_type": "code",
   "execution_count": null,
   "metadata": {
    "collapsed": true
   },
   "outputs": [],
   "source": []
  },
  {
   "cell_type": "code",
   "execution_count": 51,
   "metadata": {
    "collapsed": true
   },
   "outputs": [],
   "source": [
    "X_train, X_test, y_train, y_test = train_test_split(data, target, test_size=0.25, random_state=0)\n",
    "kf = StratifiedKFold(n_splits=25, shuffle=True, random_state=0)"
   ]
  },
  {
   "cell_type": "code",
   "execution_count": 53,
   "metadata": {},
   "outputs": [
    {
     "data": {
      "text/plain": [
       "1    111\n",
       "0     43\n",
       "Name: Loan_Status, dtype: int64"
      ]
     },
     "execution_count": 53,
     "metadata": {},
     "output_type": "execute_result"
    }
   ],
   "source": [
    "y_test.value_counts()"
   ]
  },
  {
   "cell_type": "code",
   "execution_count": 54,
   "metadata": {},
   "outputs": [
    {
     "name": "stdout",
     "output_type": "stream",
     "text": [
      "cross_val_score 0.7579704162366702\n",
      "\n",
      "classification_report\n",
      "              precision    recall  f1-score   support\n",
      "\n",
      "          0       0.81      0.49      0.61        43\n",
      "          1       0.83      0.95      0.89       111\n",
      "\n",
      "avg / total       0.82      0.82      0.81       154\n",
      "\n",
      "accuracy_score 0.8246753246753247\n",
      "\n"
     ]
    },
    {
     "data": {
      "image/png": "[encoded data removed]",
      "text/plain": [
       "<matplotlib.figure.Figure at 0x272a199ae48>"
      ]
     },
     "metadata": {},
     "output_type": "display_data"
    }
   ],
   "source": [
    "modelDT = DecisionTreeClassifier(criterion='entropy',\n",
    "                                 max_depth=3,\n",
    "                                 min_samples_split=40,\n",
    "                                 max_features=2)\n",
    "modelDT.fit(X_train,y_train)\n",
    "score_val = np.mean(cross_val_score(modelDT, X_train, y_train, cv=kf, scoring='accuracy') )\n",
    "predicted = modelDT.predict(X_test)\n",
    "\n",
    "print('cross_val_score {}\\n'.format(score_val))\n",
    "print('classification_report\\n', metrics.classification_report(y_test, predicted))\n",
    "print('accuracy_score {}\\n'.format(metrics.accuracy_score(y_test, predicted)))\n",
    "\n",
    "cm = metrics.confusion_matrix(y_test, predicted)\n",
    "plot_confusion_matrix(cm)"
   ]
  },
  {
   "cell_type": "code",
   "execution_count": 55,
   "metadata": {},
   "outputs": [
    {
     "name": "stdout",
     "output_type": "stream",
     "text": [
      "cross_val_score 0.7885104919160648\n",
      "\n",
      "classification_report\n",
      "              precision    recall  f1-score   support\n",
      "\n",
      "          0       0.78      0.49      0.60        43\n",
      "          1       0.83      0.95      0.88       111\n",
      "\n",
      "avg / total       0.81      0.82      0.80       154\n",
      "\n",
      "accuracy_score 0.8181818181818182\n",
      "\n"
     ]
    },
    {
     "data": {
      "image/png": "[encoded data removed]",
      "text/plain": [
       "<matplotlib.figure.Figure at 0x272a192bf98>"
      ]
     },
     "metadata": {},
     "output_type": "display_data"
    }
   ],
   "source": [
    "modelRF = RandomForestClassifier(n_estimators=30, \n",
    "                                 min_samples_split=30, \n",
    "                                 max_depth=5, \n",
    "                                 max_features=2)\n",
    "\n",
    "#modelRF = RandomForestClassifier(n_estimators=30, \n",
    "#                                 min_samples_split=30, \n",
    "#                                 max_depth=5, \n",
    "#                                 max_features=4)\n",
    "modelRF.fit(X_train,y_train)\n",
    "\n",
    "score_val = np.mean(cross_val_score(modelRF, X_train, y_train, cv=kf, scoring='accuracy') )\n",
    "predicted = modelRF.predict(X_test)\n",
    "\n",
    "print('cross_val_score {}\\n'.format(score_val))\n",
    "print('classification_report\\n', metrics.classification_report(y_test, predicted))\n",
    "print('accuracy_score {}\\n'.format(metrics.accuracy_score(y_test, predicted)))\n",
    "\n",
    "cm = metrics.confusion_matrix(y_test, predicted)\n",
    "plot_confusion_matrix(cm)"
   ]
  },
  {
   "cell_type": "code",
   "execution_count": 56,
   "metadata": {},
   "outputs": [
    {
     "name": "stdout",
     "output_type": "stream",
     "text": [
      "cross_val_score 0.7883797729618162\n",
      "\n",
      "classification_report\n",
      "              precision    recall  f1-score   support\n",
      "\n",
      "          0       0.84      0.49      0.62        43\n",
      "          1       0.83      0.96      0.89       111\n",
      "\n",
      "avg / total       0.83      0.83      0.82       154\n",
      "\n",
      "accuracy_score 0.8311688311688312\n",
      "\n"
     ]
    },
    {
     "data": {
      "image/png": "[encoded data removed]",
      "text/plain": [
       "<matplotlib.figure.Figure at 0x272a1f319b0>"
      ]
     },
     "metadata": {},
     "output_type": "display_data"
    }
   ],
   "source": [
    "modelLR = LogisticRegression(warm_start=True,\n",
    "                             max_iter=200,\n",
    "                             fit_intercept=True)\n",
    "modelLR.fit(X_train,y_train)\n",
    "\n",
    "score_val = np.mean(cross_val_score(modelLR, X_train, y_train, cv=kf, scoring='accuracy') )\n",
    "predicted = modelLR.predict(X_test)\n",
    "\n",
    "print('cross_val_score {}\\n'.format(score_val))\n",
    "print('classification_report\\n', metrics.classification_report(y_test, predicted))\n",
    "print('accuracy_score {}\\n'.format(metrics.accuracy_score(y_test, predicted)))\n",
    "\n",
    "\n",
    "cm = metrics.confusion_matrix(y_test, predicted)\n",
    "plot_confusion_matrix(cm)"
   ]
  },
  {
   "cell_type": "code",
   "execution_count": 57,
   "metadata": {},
   "outputs": [
    {
     "name": "stdout",
     "output_type": "stream",
     "text": [
      "cross_val_score 0.7796078431372548\n",
      "\n",
      "classification_report\n",
      "              precision    recall  f1-score   support\n",
      "\n",
      "          0       0.81      0.49      0.61        43\n",
      "          1       0.83      0.95      0.89       111\n",
      "\n",
      "avg / total       0.82      0.82      0.81       154\n",
      "\n",
      "accuracy_score 0.8246753246753247\n",
      "\n"
     ]
    },
    {
     "data": {
      "image/png": "[encoded data removed]",
      "text/plain": [
       "<matplotlib.figure.Figure at 0x272a1632ba8>"
      ]
     },
     "metadata": {},
     "output_type": "display_data"
    }
   ],
   "source": [
    "modelGNB = GaussianNB()\n",
    "modelGNB.fit(X_train,y_train)\n",
    "\n",
    "score_val = np.mean(cross_val_score(modelGNB, X_train, y_train, cv=kf, scoring='accuracy') )\n",
    "predicted = modelGNB.predict(X_test)\n",
    "\n",
    "print('cross_val_score {}\\n'.format(score_val))\n",
    "print('classification_report\\n', metrics.classification_report(y_test, predicted))\n",
    "print('accuracy_score {}\\n'.format(metrics.accuracy_score(y_test, predicted)))\n",
    "\n",
    "\n",
    "cm = metrics.confusion_matrix(y_test, predicted)\n",
    "plot_confusion_matrix(cm)"
   ]
  },
  {
   "cell_type": "code",
   "execution_count": 61,
   "metadata": {},
   "outputs": [
    {
     "name": "stdout",
     "output_type": "stream",
     "text": [
      "cross_val_score 0.7907327141382869\n",
      "\n",
      "classification_report\n",
      "              precision    recall  f1-score   support\n",
      "\n",
      "          0       0.81      0.49      0.61        43\n",
      "          1       0.83      0.95      0.89       111\n",
      "\n",
      "avg / total       0.82      0.82      0.81       154\n",
      "\n",
      "accuracy_score 0.8246753246753247\n",
      "\n"
     ]
    },
    {
     "data": {
      "image/png": "[encoded data removed]",
      "text/plain": [
       "<matplotlib.figure.Figure at 0x272a1d9d7f0>"
      ]
     },
     "metadata": {},
     "output_type": "display_data"
    }
   ],
   "source": [
    "ADARF = RandomForestClassifier(n_estimators=50,\n",
    "                               oob_score=True,\n",
    "                               min_samples_split=50, \n",
    "                               max_depth=5, \n",
    "                               max_features=2,\n",
    "                               warm_start=True)\n",
    "modelABC = AdaBoostClassifier(base_estimator=modelRF, n_estimators=50, learning_rate=.01, algorithm=\"SAMME\")\n",
    "modelABC.fit(X_train,y_train)\n",
    "\n",
    "score_val = np.mean(cross_val_score(modelABC, X_train, y_train, cv=kf, scoring='accuracy') )\n",
    "predicted = modelABC.predict(X_test)\n",
    "\n",
    "print('cross_val_score {}\\n'.format(score_val))\n",
    "print('classification_report\\n', metrics.classification_report(y_test, predicted))\n",
    "print('accuracy_score {}\\n'.format(metrics.accuracy_score(y_test, predicted)))\n",
    "\n",
    "\n",
    "cm = metrics.confusion_matrix(y_test, predicted)\n",
    "plot_confusion_matrix(cm)"
   ]
  },
  {
   "cell_type": "code",
   "execution_count": 62,
   "metadata": {},
   "outputs": [
    {
     "name": "stdout",
     "output_type": "stream",
     "text": [
      "cross_val_score 0.7883797729618162\n",
      "\n",
      "classification_report\n",
      "              precision    recall  f1-score   support\n",
      "\n",
      "          0       0.84      0.49      0.62        43\n",
      "          1       0.83      0.96      0.89       111\n",
      "\n",
      "avg / total       0.83      0.83      0.82       154\n",
      "\n",
      "accuracy_score 0.8311688311688312\n",
      "\n"
     ]
    },
    {
     "data": {
      "image/png": "[encoded data removed]",
      "text/plain": [
       "<matplotlib.figure.Figure at 0x272a1137470>"
      ]
     },
     "metadata": {},
     "output_type": "display_data"
    }
   ],
   "source": [
    "modelNN = MLPClassifier(hidden_layer_sizes=(6,6),\n",
    "                        learning_rate_init=0.1,\n",
    "                        solver='lbfgs',\n",
    "                        learning_rate='adaptive',\n",
    "                        activation='relu',\n",
    "                        random_state=1, \n",
    "                        max_iter=300,\n",
    "                        alpha=1e-5)\n",
    "modelNN.fit(X_train,y_train)\n",
    "\n",
    "score_val = np.mean(cross_val_score(modelNN, X_train, y_train, cv=kf, scoring='accuracy') )\n",
    "predicted = modelNN.predict(X_test)\n",
    "\n",
    "print('cross_val_score {}\\n'.format(score_val))\n",
    "print('classification_report\\n', metrics.classification_report(y_test, predicted))\n",
    "print('accuracy_score {}\\n'.format(metrics.accuracy_score(y_test, predicted)))\n",
    "\n",
    "\n",
    "cm = metrics.confusion_matrix(y_test, predicted)\n",
    "plot_confusion_matrix(cm)"
   ]
  },
  {
   "cell_type": "code",
   "execution_count": 63,
   "metadata": {},
   "outputs": [
    {
     "name": "stdout",
     "output_type": "stream",
     "text": [
      "cross_val_score 0.7796078431372548\n",
      "\n",
      "classification_report\n",
      "              precision    recall  f1-score   support\n",
      "\n",
      "          0       0.79      0.51      0.62        43\n",
      "          1       0.83      0.95      0.89       111\n",
      "\n",
      "avg / total       0.82      0.82      0.81       154\n",
      "\n",
      "accuracy_score 0.8246753246753247\n",
      "\n"
     ]
    },
    {
     "data": {
      "image/png": "[encoded data removed]",
      "text/plain": [
       "<matplotlib.figure.Figure at 0x272a12efc50>"
      ]
     },
     "metadata": {},
     "output_type": "display_data"
    }
   ],
   "source": [
    "from sklearn.discriminant_analysis import QuadraticDiscriminantAnalysis\n",
    "\n",
    "modelQuadDisAna = QuadraticDiscriminantAnalysis()\n",
    "modelQuadDisAna.fit(X_train,y_train)\n",
    "\n",
    "score_val = np.mean(cross_val_score(modelQuadDisAna, X_train, y_train, cv=kf, scoring='accuracy') )\n",
    "predicted = modelQuadDisAna.predict(X_test)\n",
    "\n",
    "print('cross_val_score {}\\n'.format(score_val))\n",
    "print('classification_report\\n', metrics.classification_report(y_test, predicted))\n",
    "print('accuracy_score {}\\n'.format(metrics.accuracy_score(y_test, predicted)))\n",
    "\n",
    "\n",
    "cm = metrics.confusion_matrix(y_test, predicted)\n",
    "plot_confusion_matrix(cm)\n",
    "\n"
   ]
  },
  {
   "cell_type": "code",
   "execution_count": null,
   "metadata": {
    "collapsed": true
   },
   "outputs": [],
   "source": []
  },
  {
   "cell_type": "raw",
   "metadata": {},
   "source": [
    "SUBMISSION###############################################\n",
    "\n",
    "\n",
    "\n",
    "\n"
   ]
  },
  {
   "cell_type": "code",
   "execution_count": 64,
   "metadata": {},
   "outputs": [
    {
     "name": "stdout",
     "output_type": "stream",
     "text": [
      "Table Missing Values\n"
     ]
    },
    {
     "data": {
      "text/plain": [
       "Loan_ID               0\n",
       "Gender               11\n",
       "Married               0\n",
       "Dependents           10\n",
       "Education             0\n",
       "Self_Employed        23\n",
       "ApplicantIncome       0\n",
       "CoapplicantIncome     0\n",
       "LoanAmount            5\n",
       "Loan_Amount_Term      6\n",
       "Credit_History       29\n",
       "Property_Area         0\n",
       "dtype: int64"
      ]
     },
     "execution_count": 64,
     "metadata": {},
     "output_type": "execute_result"
    }
   ],
   "source": [
    "test=pd.read_csv('E:/myAnacondaProj/test.csv')\n",
    "print(\"Table Missing Values\")\n",
    "test.apply(lambda x: sum(x.isnull()),axis=0)"
   ]
  },
  {
   "cell_type": "code",
   "execution_count": 65,
   "metadata": {
    "collapsed": true
   },
   "outputs": [],
   "source": [
    "test['Gender'].fillna('Male', inplace=True)\n",
    "test['Married'].fillna('Yes', inplace=True)\n",
    "test['Self_Employed'].fillna('No', inplace=True)"
   ]
  },
  {
   "cell_type": "code",
   "execution_count": 66,
   "metadata": {
    "collapsed": true
   },
   "outputs": [],
   "source": [
    "impute = test.pivot_table(values=['LoanAmount'], \n",
    "                           index=['Property_Area','Education','Self_Employed','Married'],\n",
    "                           aggfunc=np.mean)\n",
    "\n",
    "for i,row in test.loc[test['LoanAmount'].isnull(),:].iterrows():\n",
    "    ind = tuple([row['Property_Area'],row['Education'],row['Self_Employed'],row['Married']])\n",
    "    test.loc[i,'LoanAmount'] = impute.loc[ind].values[0]"
   ]
  },
  {
   "cell_type": "code",
   "execution_count": 67,
   "metadata": {},
   "outputs": [
    {
     "name": "stdout",
     "output_type": "stream",
     "text": [
      "1.0    279\n",
      "0.0     59\n",
      "Name: Credit_History, dtype: int64\n",
      "1.0    308\n",
      "0.0     59\n",
      "Name: Credit_History, dtype: int64\n"
     ]
    }
   ],
   "source": [
    "print(test['Credit_History'].value_counts())\n",
    "\n",
    "impute = test.pivot_table(values=['Credit_History'], \n",
    "                           index=['Gender','Education','Self_Employed','Property_Area'],\n",
    "                           aggfunc=np.median)\n",
    "\n",
    "#,'ApplicantIncome','CoapplicantIncome','Property_Area'\n",
    "#,row['ApplicantIncome'],row['CoapplicantIncome'],row['Property_Area']\n",
    "for i,row in test.loc[test['Credit_History'].isnull(),:].iterrows():\n",
    "    ind = tuple([row['Gender'],row['Education'],row['Self_Employed'],row['Property_Area']])\n",
    "    test.loc[i,'Credit_History'] = impute.loc[ind].values[0]\n",
    "    \n",
    "print(test['Credit_History'].value_counts())"
   ]
  },
  {
   "cell_type": "code",
   "execution_count": 68,
   "metadata": {
    "collapsed": true
   },
   "outputs": [],
   "source": [
    "test['Gender'] = test['Gender'].map({'Female': 1, 'Male': 0})\n",
    "\n",
    "test['Married'] = test['Married'].map({'Yes': 1, 'No': 0})\n",
    "\n",
    "test['Dependents'] = test['Dependents'].str.replace('+', '')\n",
    "test['Dependents'] = test['Dependents'].map({'0': 0, '1': 1, '2' : 2, '3' : 3})\n",
    "\n",
    "test['Education'] = test['Education'].map({'Graduate': 1, 'Not Graduate': 0})\n",
    "\n",
    "test['Self_Employed'] = test['Self_Employed'].map({'No': 0, 'Yes': 1})\n",
    "\n",
    "test['Property_Area'] = test['Property_Area'].map({'Rural': 0, 'Semiurban': 1, 'Urban' : 2})"
   ]
  },
  {
   "cell_type": "code",
   "execution_count": 69,
   "metadata": {},
   "outputs": [
    {
     "name": "stdout",
     "output_type": "stream",
     "text": [
      "0.0    200\n",
      "2.0     59\n",
      "1.0     58\n",
      "3.0     40\n",
      "Name: Dependents, dtype: int64\n",
      "0.0    205\n",
      "1.0     63\n",
      "2.0     59\n",
      "3.0     40\n",
      "Name: Dependents, dtype: int64\n",
      "[ 0.  1.  2.  3.]\n"
     ]
    }
   ],
   "source": [
    "print(test['Dependents'].value_counts())\n",
    "\n",
    "impute = test.pivot_table(values=['Dependents'], \n",
    "                           index=['Married'],\n",
    "                           aggfunc=np.median)\n",
    "\n",
    "#,'ApplicantIncome','CoapplicantIncome','Property_Area'\n",
    "#,row['ApplicantIncome'],row['CoapplicantIncome'],row['Property_Area']\n",
    "\n",
    "for i,row in test.loc[test['Dependents'].isnull(),:].iterrows():\n",
    "    ind = tuple([row['Married']])\n",
    "    test.loc[i,'Dependents'] = impute.loc[ind].values[0]\n",
    "    \n",
    "print(test['Dependents'].value_counts())\n",
    "#test['Dependents'].fillna(0, inplace=True)\n",
    "print(test['Dependents'].unique())\n"
   ]
  },
  {
   "cell_type": "code",
   "execution_count": 70,
   "metadata": {},
   "outputs": [
    {
     "data": {
      "text/plain": [
       "Loan_ID              0\n",
       "Gender               0\n",
       "Married              0\n",
       "Dependents           0\n",
       "Education            0\n",
       "Self_Employed        0\n",
       "ApplicantIncome      0\n",
       "CoapplicantIncome    0\n",
       "LoanAmount           0\n",
       "Loan_Amount_Term     6\n",
       "Credit_History       0\n",
       "Property_Area        0\n",
       "dtype: int64"
      ]
     },
     "execution_count": 70,
     "metadata": {},
     "output_type": "execute_result"
    }
   ],
   "source": [
    "test.apply(lambda x: sum(x.isnull()),axis=0)"
   ]
  },
  {
   "cell_type": "code",
   "execution_count": 71,
   "metadata": {},
   "outputs": [
    {
     "data": {
      "text/html": [
       "<div>\n",
       "<style>\n",
       "    .dataframe thead tr:only-child th {\n",
       "        text-align: right;\n",
       "    }\n",
       "\n",
       "    .dataframe thead th {\n",
       "        text-align: left;\n",
       "    }\n",
       "\n",
       "    .dataframe tbody tr th {\n",
       "        vertical-align: top;\n",
       "    }\n",
       "</style>\n",
       "<table border=\"1\" class=\"dataframe\">\n",
       "  <thead>\n",
       "    <tr style=\"text-align: right;\">\n",
       "      <th></th>\n",
       "      <th>Gender</th>\n",
       "      <th>Married</th>\n",
       "      <th>Dependents</th>\n",
       "      <th>Education</th>\n",
       "      <th>Self_Employed</th>\n",
       "      <th>ApplicantIncome</th>\n",
       "      <th>CoapplicantIncome</th>\n",
       "      <th>LoanAmount</th>\n",
       "      <th>Loan_Amount_Term</th>\n",
       "      <th>Credit_History</th>\n",
       "      <th>Property_Area</th>\n",
       "    </tr>\n",
       "  </thead>\n",
       "  <tbody>\n",
       "    <tr>\n",
       "      <th>count</th>\n",
       "      <td>367.000000</td>\n",
       "      <td>367.000000</td>\n",
       "      <td>367.000000</td>\n",
       "      <td>367.000000</td>\n",
       "      <td>367.000000</td>\n",
       "      <td>367.000000</td>\n",
       "      <td>367.000000</td>\n",
       "      <td>367.000000</td>\n",
       "      <td>361.000000</td>\n",
       "      <td>367.000000</td>\n",
       "      <td>367.000000</td>\n",
       "    </tr>\n",
       "    <tr>\n",
       "      <th>mean</th>\n",
       "      <td>0.190736</td>\n",
       "      <td>0.634877</td>\n",
       "      <td>0.820163</td>\n",
       "      <td>0.771117</td>\n",
       "      <td>0.100817</td>\n",
       "      <td>4805.599455</td>\n",
       "      <td>1569.577657</td>\n",
       "      <td>136.227691</td>\n",
       "      <td>342.537396</td>\n",
       "      <td>0.839237</td>\n",
       "      <td>1.079019</td>\n",
       "    </tr>\n",
       "    <tr>\n",
       "      <th>std</th>\n",
       "      <td>0.393417</td>\n",
       "      <td>0.482122</td>\n",
       "      <td>1.061151</td>\n",
       "      <td>0.420687</td>\n",
       "      <td>0.301498</td>\n",
       "      <td>4910.685399</td>\n",
       "      <td>2334.232099</td>\n",
       "      <td>60.975229</td>\n",
       "      <td>65.156643</td>\n",
       "      <td>0.367814</td>\n",
       "      <td>0.824337</td>\n",
       "    </tr>\n",
       "    <tr>\n",
       "      <th>min</th>\n",
       "      <td>0.000000</td>\n",
       "      <td>0.000000</td>\n",
       "      <td>0.000000</td>\n",
       "      <td>0.000000</td>\n",
       "      <td>0.000000</td>\n",
       "      <td>0.000000</td>\n",
       "      <td>0.000000</td>\n",
       "      <td>28.000000</td>\n",
       "      <td>6.000000</td>\n",
       "      <td>0.000000</td>\n",
       "      <td>0.000000</td>\n",
       "    </tr>\n",
       "    <tr>\n",
       "      <th>25%</th>\n",
       "      <td>0.000000</td>\n",
       "      <td>0.000000</td>\n",
       "      <td>0.000000</td>\n",
       "      <td>1.000000</td>\n",
       "      <td>0.000000</td>\n",
       "      <td>2864.000000</td>\n",
       "      <td>0.000000</td>\n",
       "      <td>101.000000</td>\n",
       "      <td>360.000000</td>\n",
       "      <td>1.000000</td>\n",
       "      <td>0.000000</td>\n",
       "    </tr>\n",
       "    <tr>\n",
       "      <th>50%</th>\n",
       "      <td>0.000000</td>\n",
       "      <td>1.000000</td>\n",
       "      <td>0.000000</td>\n",
       "      <td>1.000000</td>\n",
       "      <td>0.000000</td>\n",
       "      <td>3786.000000</td>\n",
       "      <td>1025.000000</td>\n",
       "      <td>125.000000</td>\n",
       "      <td>360.000000</td>\n",
       "      <td>1.000000</td>\n",
       "      <td>1.000000</td>\n",
       "    </tr>\n",
       "    <tr>\n",
       "      <th>75%</th>\n",
       "      <td>0.000000</td>\n",
       "      <td>1.000000</td>\n",
       "      <td>2.000000</td>\n",
       "      <td>1.000000</td>\n",
       "      <td>0.000000</td>\n",
       "      <td>5060.000000</td>\n",
       "      <td>2430.500000</td>\n",
       "      <td>158.000000</td>\n",
       "      <td>360.000000</td>\n",
       "      <td>1.000000</td>\n",
       "      <td>2.000000</td>\n",
       "    </tr>\n",
       "    <tr>\n",
       "      <th>max</th>\n",
       "      <td>1.000000</td>\n",
       "      <td>1.000000</td>\n",
       "      <td>3.000000</td>\n",
       "      <td>1.000000</td>\n",
       "      <td>1.000000</td>\n",
       "      <td>72529.000000</td>\n",
       "      <td>24000.000000</td>\n",
       "      <td>550.000000</td>\n",
       "      <td>480.000000</td>\n",
       "      <td>1.000000</td>\n",
       "      <td>2.000000</td>\n",
       "    </tr>\n",
       "  </tbody>\n",
       "</table>\n",
       "</div>"
      ],
      "text/plain": [
       "           Gender     Married  Dependents   Education  Self_Employed  \\\n",
       "count  367.000000  367.000000  367.000000  367.000000     367.000000   \n",
       "mean     0.190736    0.634877    0.820163    0.771117       0.100817   \n",
       "std      0.393417    0.482122    1.061151    0.420687       0.301498   \n",
       "min      0.000000    0.000000    0.000000    0.000000       0.000000   \n",
       "25%      0.000000    0.000000    0.000000    1.000000       0.000000   \n",
       "50%      0.000000    1.000000    0.000000    1.000000       0.000000   \n",
       "75%      0.000000    1.000000    2.000000    1.000000       0.000000   \n",
       "max      1.000000    1.000000    3.000000    1.000000       1.000000   \n",
       "\n",
       "       ApplicantIncome  CoapplicantIncome  LoanAmount  Loan_Amount_Term  \\\n",
       "count       367.000000         367.000000  367.000000        361.000000   \n",
       "mean       4805.599455        1569.577657  136.227691        342.537396   \n",
       "std        4910.685399        2334.232099   60.975229         65.156643   \n",
       "min           0.000000           0.000000   28.000000          6.000000   \n",
       "25%        2864.000000           0.000000  101.000000        360.000000   \n",
       "50%        3786.000000        1025.000000  125.000000        360.000000   \n",
       "75%        5060.000000        2430.500000  158.000000        360.000000   \n",
       "max       72529.000000       24000.000000  550.000000        480.000000   \n",
       "\n",
       "       Credit_History  Property_Area  \n",
       "count      367.000000     367.000000  \n",
       "mean         0.839237       1.079019  \n",
       "std          0.367814       0.824337  \n",
       "min          0.000000       0.000000  \n",
       "25%          1.000000       0.000000  \n",
       "50%          1.000000       1.000000  \n",
       "75%          1.000000       2.000000  \n",
       "max          1.000000       2.000000  "
      ]
     },
     "execution_count": 71,
     "metadata": {},
     "output_type": "execute_result"
    }
   ],
   "source": [
    "sub_pred = test.copy()\n",
    "sub_pred.describe()"
   ]
  },
  {
   "cell_type": "code",
   "execution_count": 72,
   "metadata": {
    "collapsed": true
   },
   "outputs": [],
   "source": [
    "sub_pred['Total_Income'] = sub_pred['ApplicantIncome'] + sub_pred['CoapplicantIncome']"
   ]
  },
  {
   "cell_type": "code",
   "execution_count": 73,
   "metadata": {
    "collapsed": true
   },
   "outputs": [],
   "source": [
    "sub_pred['LoanAmount'] = np.log(sub_pred['LoanAmount'])"
   ]
  },
  {
   "cell_type": "code",
   "execution_count": 74,
   "metadata": {
    "collapsed": true
   },
   "outputs": [],
   "source": [
    "sub_pred['Total_Income'] = np.log(sub_pred['Total_Income'])"
   ]
  },
  {
   "cell_type": "code",
   "execution_count": 75,
   "metadata": {},
   "outputs": [
    {
     "data": {
      "text/html": [
       "<div>\n",
       "<style>\n",
       "    .dataframe thead tr:only-child th {\n",
       "        text-align: right;\n",
       "    }\n",
       "\n",
       "    .dataframe thead th {\n",
       "        text-align: left;\n",
       "    }\n",
       "\n",
       "    .dataframe tbody tr th {\n",
       "        vertical-align: top;\n",
       "    }\n",
       "</style>\n",
       "<table border=\"1\" class=\"dataframe\">\n",
       "  <thead>\n",
       "    <tr style=\"text-align: right;\">\n",
       "      <th></th>\n",
       "      <th>Gender</th>\n",
       "      <th>Married</th>\n",
       "      <th>Dependents</th>\n",
       "      <th>Education</th>\n",
       "      <th>Self_Employed</th>\n",
       "      <th>ApplicantIncome</th>\n",
       "      <th>CoapplicantIncome</th>\n",
       "      <th>LoanAmount</th>\n",
       "      <th>Loan_Amount_Term</th>\n",
       "      <th>Credit_History</th>\n",
       "      <th>Property_Area</th>\n",
       "      <th>Total_Income</th>\n",
       "    </tr>\n",
       "  </thead>\n",
       "  <tbody>\n",
       "    <tr>\n",
       "      <th>count</th>\n",
       "      <td>367.000000</td>\n",
       "      <td>367.000000</td>\n",
       "      <td>367.000000</td>\n",
       "      <td>367.000000</td>\n",
       "      <td>367.000000</td>\n",
       "      <td>367.000000</td>\n",
       "      <td>367.000000</td>\n",
       "      <td>367.000000</td>\n",
       "      <td>361.000000</td>\n",
       "      <td>367.000000</td>\n",
       "      <td>367.000000</td>\n",
       "      <td>367.000000</td>\n",
       "    </tr>\n",
       "    <tr>\n",
       "      <th>mean</th>\n",
       "      <td>0.190736</td>\n",
       "      <td>0.634877</td>\n",
       "      <td>0.820163</td>\n",
       "      <td>0.771117</td>\n",
       "      <td>0.100817</td>\n",
       "      <td>4805.599455</td>\n",
       "      <td>1569.577657</td>\n",
       "      <td>4.828790</td>\n",
       "      <td>342.537396</td>\n",
       "      <td>0.839237</td>\n",
       "      <td>1.079019</td>\n",
       "      <td>8.617263</td>\n",
       "    </tr>\n",
       "    <tr>\n",
       "      <th>std</th>\n",
       "      <td>0.393417</td>\n",
       "      <td>0.482122</td>\n",
       "      <td>1.061151</td>\n",
       "      <td>0.420687</td>\n",
       "      <td>0.301498</td>\n",
       "      <td>4910.685399</td>\n",
       "      <td>2334.232099</td>\n",
       "      <td>0.416643</td>\n",
       "      <td>65.156643</td>\n",
       "      <td>0.367814</td>\n",
       "      <td>0.824337</td>\n",
       "      <td>0.475716</td>\n",
       "    </tr>\n",
       "    <tr>\n",
       "      <th>min</th>\n",
       "      <td>0.000000</td>\n",
       "      <td>0.000000</td>\n",
       "      <td>0.000000</td>\n",
       "      <td>0.000000</td>\n",
       "      <td>0.000000</td>\n",
       "      <td>0.000000</td>\n",
       "      <td>0.000000</td>\n",
       "      <td>3.332205</td>\n",
       "      <td>6.000000</td>\n",
       "      <td>0.000000</td>\n",
       "      <td>0.000000</td>\n",
       "      <td>7.473069</td>\n",
       "    </tr>\n",
       "    <tr>\n",
       "      <th>25%</th>\n",
       "      <td>0.000000</td>\n",
       "      <td>0.000000</td>\n",
       "      <td>0.000000</td>\n",
       "      <td>1.000000</td>\n",
       "      <td>0.000000</td>\n",
       "      <td>2864.000000</td>\n",
       "      <td>0.000000</td>\n",
       "      <td>4.615121</td>\n",
       "      <td>360.000000</td>\n",
       "      <td>1.000000</td>\n",
       "      <td>0.000000</td>\n",
       "      <td>8.332308</td>\n",
       "    </tr>\n",
       "    <tr>\n",
       "      <th>50%</th>\n",
       "      <td>0.000000</td>\n",
       "      <td>1.000000</td>\n",
       "      <td>0.000000</td>\n",
       "      <td>1.000000</td>\n",
       "      <td>0.000000</td>\n",
       "      <td>3786.000000</td>\n",
       "      <td>1025.000000</td>\n",
       "      <td>4.828314</td>\n",
       "      <td>360.000000</td>\n",
       "      <td>1.000000</td>\n",
       "      <td>1.000000</td>\n",
       "      <td>8.557375</td>\n",
       "    </tr>\n",
       "    <tr>\n",
       "      <th>75%</th>\n",
       "      <td>0.000000</td>\n",
       "      <td>1.000000</td>\n",
       "      <td>2.000000</td>\n",
       "      <td>1.000000</td>\n",
       "      <td>0.000000</td>\n",
       "      <td>5060.000000</td>\n",
       "      <td>2430.500000</td>\n",
       "      <td>5.062595</td>\n",
       "      <td>360.000000</td>\n",
       "      <td>1.000000</td>\n",
       "      <td>2.000000</td>\n",
       "      <td>8.850789</td>\n",
       "    </tr>\n",
       "    <tr>\n",
       "      <th>max</th>\n",
       "      <td>1.000000</td>\n",
       "      <td>1.000000</td>\n",
       "      <td>3.000000</td>\n",
       "      <td>1.000000</td>\n",
       "      <td>1.000000</td>\n",
       "      <td>72529.000000</td>\n",
       "      <td>24000.000000</td>\n",
       "      <td>6.309918</td>\n",
       "      <td>480.000000</td>\n",
       "      <td>1.000000</td>\n",
       "      <td>2.000000</td>\n",
       "      <td>11.191742</td>\n",
       "    </tr>\n",
       "  </tbody>\n",
       "</table>\n",
       "</div>"
      ],
      "text/plain": [
       "           Gender     Married  Dependents   Education  Self_Employed  \\\n",
       "count  367.000000  367.000000  367.000000  367.000000     367.000000   \n",
       "mean     0.190736    0.634877    0.820163    0.771117       0.100817   \n",
       "std      0.393417    0.482122    1.061151    0.420687       0.301498   \n",
       "min      0.000000    0.000000    0.000000    0.000000       0.000000   \n",
       "25%      0.000000    0.000000    0.000000    1.000000       0.000000   \n",
       "50%      0.000000    1.000000    0.000000    1.000000       0.000000   \n",
       "75%      0.000000    1.000000    2.000000    1.000000       0.000000   \n",
       "max      1.000000    1.000000    3.000000    1.000000       1.000000   \n",
       "\n",
       "       ApplicantIncome  CoapplicantIncome  LoanAmount  Loan_Amount_Term  \\\n",
       "count       367.000000         367.000000  367.000000        361.000000   \n",
       "mean       4805.599455        1569.577657    4.828790        342.537396   \n",
       "std        4910.685399        2334.232099    0.416643         65.156643   \n",
       "min           0.000000           0.000000    3.332205          6.000000   \n",
       "25%        2864.000000           0.000000    4.615121        360.000000   \n",
       "50%        3786.000000        1025.000000    4.828314        360.000000   \n",
       "75%        5060.000000        2430.500000    5.062595        360.000000   \n",
       "max       72529.000000       24000.000000    6.309918        480.000000   \n",
       "\n",
       "       Credit_History  Property_Area  Total_Income  \n",
       "count      367.000000     367.000000    367.000000  \n",
       "mean         0.839237       1.079019      8.617263  \n",
       "std          0.367814       0.824337      0.475716  \n",
       "min          0.000000       0.000000      7.473069  \n",
       "25%          1.000000       0.000000      8.332308  \n",
       "50%          1.000000       1.000000      8.557375  \n",
       "75%          1.000000       2.000000      8.850789  \n",
       "max          1.000000       2.000000     11.191742  "
      ]
     },
     "execution_count": 75,
     "metadata": {},
     "output_type": "execute_result"
    }
   ],
   "source": [
    "sub_pred.describe()"
   ]
  },
  {
   "cell_type": "code",
   "execution_count": 76,
   "metadata": {},
   "outputs": [
    {
     "name": "stdout",
     "output_type": "stream",
     "text": [
      "5\n"
     ]
    },
    {
     "data": {
      "text/plain": [
       "ApplicantIncome    0\n",
       "LoanAmount         0\n",
       "Credit_History     0\n",
       "Property_Area      0\n",
       "Total_Income       0\n",
       "dtype: int64"
      ]
     },
     "execution_count": 76,
     "metadata": {},
     "output_type": "execute_result"
    }
   ],
   "source": [
    "sub_pred_data = sub_pred.drop(['Gender','Education','Self_Employed','Married','Loan_Amount_Term',\n",
    "                               'Dependents', 'CoapplicantIncome','Loan_ID'],axis=1)\n",
    "print(len(sub_pred_data.columns))\n",
    "sub_pred_data.apply(lambda x: sum(x.isnull()),axis=0)"
   ]
  },
  {
   "cell_type": "code",
   "execution_count": 77,
   "metadata": {
    "collapsed": true
   },
   "outputs": [],
   "source": [
    "predictedRF_S = modelRF.predict(sub_pred_data)\n",
    "predictedLR_S = modelLR.predict(sub_pred_data)\n",
    "predictedNN_S = modelABC.predict(sub_pred_data)"
   ]
  },
  {
   "cell_type": "code",
   "execution_count": null,
   "metadata": {
    "collapsed": true
   },
   "outputs": [],
   "source": []
  },
  {
   "cell_type": "code",
   "execution_count": null,
   "metadata": {
    "collapsed": true
   },
   "outputs": [],
   "source": []
  }
 ],
 "metadata": {
  "celltoolbar": "Raw Cell Format",
  "kernelspec": {
   "display_name": "Python 3",
   "language": "python",
   "name": "python3"
  },
  "language_info": {
   "codemirror_mode": {
    "name": "ipython",
    "version": 3
   },
   "file_extension": ".py",
   "mimetype": "text/x-python",
   "name": "python",
   "nbconvert_exporter": "python",
   "pygments_lexer": "ipython3",
   "version": "3.6.1"
  }
 },
 "nbformat": 4,
 "nbformat_minor": 2
}
