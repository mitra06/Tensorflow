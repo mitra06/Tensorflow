{
 "cells": [
  {
   "cell_type": "code",
   "execution_count": 56,
   "metadata": {
    "collapsed": true
   },
   "outputs": [],
   "source": [
    "import numpy as np\n",
    "import pandas as pd\n",
    "from math import pow"
   ]
  },
  {
   "cell_type": "code",
   "execution_count": 57,
   "metadata": {
    "collapsed": true
   },
   "outputs": [],
   "source": [
    "'''\n",
    "        For calculating simple linear regression Y=B0+B1X\n",
    "            \n",
    "        we have finding following these formulas \n",
    "        1. Mean of number X(mean)=x1+x2+x3+x4/4\n",
    "        2.Variance Function=\n",
    "        3.Covariance Function\n",
    "        4.Function to calculate B0 and B1\n",
    "'''\n",
    "def mean_val(number):\n",
    "    total_sum=sum(number)\n",
    "    total_len=len(number)\n",
    "    mean=float(total_sum)/float(total_len)\n",
    "    return mean"
   ]
  },
  {
   "cell_type": "code",
   "execution_count": 58,
   "metadata": {},
   "outputs": [
    {
     "name": "stdout",
     "output_type": "stream",
     "text": [
      "4.5\n"
     ]
    }
   ],
   "source": [
    "x=mean_val([3,4,5,6])\n",
    "print(x)"
   ]
  },
  {
   "cell_type": "code",
   "execution_count": 59,
   "metadata": {},
   "outputs": [],
   "source": [
    "def cal_variance(readings):\n",
    "    \"\"\"\n",
    "    Calculating the variance of the readings\n",
    "    :param readings:\n",
    "    :return:\n",
    "    \"\"\"\n",
    " \n",
    "    # To calculate the variance we need the mean value\n",
    "    # Calculating the mean value from the cal_mean function\n",
    "    readings_mean = mean_val(readings)\n",
    "    # mean difference squared readings\n",
    "    mean_difference_squared_readings = [pow((reading - readings_mean), 2) for reading in readings]\n",
    "    variance = sum(mean_difference_squared_readings)\n",
    "    return variance / float(len(readings) - 1)"
   ]
  },
  {
   "cell_type": "code",
   "execution_count": 60,
   "metadata": {},
   "outputs": [
    {
     "name": "stdout",
     "output_type": "stream",
     "text": [
      "1.6666666666666667\n"
     ]
    }
   ],
   "source": [
    "x=cal_variance([3,4,5,6])\n",
    "print(x)"
   ]
  },
  {
   "cell_type": "code",
   "execution_count": 61,
   "metadata": {
    "collapsed": true
   },
   "outputs": [],
   "source": [
    "def cal_covariance(numbers_1, numbers_2):\n",
    "    \"\"\"\n",
    "    Calculate the covariance between two different list of readings\n",
    "    :param numbers_1:\n",
    "    :param numbers_2:\n",
    "    :return:\n",
    "    \"\"\"\n",
    "    numbers_1_mean = mean_val(numbers_1)\n",
    "    numbers_2_mean = mean_val(numbers_2)\n",
    "    numbers_size = len(numbers_1)\n",
    "    covariance = 0.0\n",
    "    for i in range(0, numbers_size):\n",
    "        covariance += (numbers_1[i] - numbers_1_mean) * (numbers_2[i] - numbers_2_mean)\n",
    "    return covariance / float(numbers_size - 1)"
   ]
  },
  {
   "cell_type": "code",
   "execution_count": 62,
   "metadata": {},
   "outputs": [
    {
     "name": "stdout",
     "output_type": "stream",
     "text": [
      "0.16666666666666666\n"
     ]
    }
   ],
   "source": [
    "x=cal_covariance([3,4,5,6],[5,3,4,5])\n",
    "print(x)"
   ]
  },
  {
   "cell_type": "code",
   "execution_count": 63,
   "metadata": {
    "collapsed": true
   },
   "outputs": [],
   "source": [
    "def regression_coefficients(x_numbers, y_numbers):\n",
    "    \"\"\"\n",
    "    Calculating the simple linear regression coefficients (B0, B1)\n",
    "    :param x_numbers:\n",
    "    :param y_numbers:\n",
    "    :return:\n",
    "    \"\"\"\n",
    "    # Coefficient W1 = covariance of x_readings and y_readings divided by variance of x_readings\n",
    "    # Directly calling the implemented covariance and the variance functions\n",
    "    # To calculate the coefficient W1\n",
    "    w1 = cal_covariance(x_numbers, y_numbers) / float(cal_variance(x_numbers))\n",
    " \n",
    "    # Coefficient W0 = mean of y_readings - ( W1 * the mean of the x_readings )\n",
    "    w0 = mean_val(y_numbers) - (w1 * mean_val(x_numbers))\n",
    "    return w0, w1"
   ]
  },
  {
   "cell_type": "code",
   "execution_count": 64,
   "metadata": {},
   "outputs": [
    {
     "name": "stdout",
     "output_type": "stream",
     "text": [
      "(3.8, 0.09999999999999999)\n"
     ]
    }
   ],
   "source": [
    "x=regression_coefficients([3,4,5,6],[5,3,4,5])\n",
    "print(x)"
   ]
  },
  {
   "cell_type": "code",
   "execution_count": 65,
   "metadata": {
    "collapsed": true
   },
   "outputs": [],
   "source": [
    "def get_header(dataframe):\n",
    "    \"\"\"\n",
    "        Get the header name from dataframe\n",
    "        :param dataframe\n",
    "        :return \n",
    "    \"\"\"\n",
    "    return dataframe.columns.values"
   ]
  },
  {
   "cell_type": "code",
   "execution_count": 66,
   "metadata": {
    "collapsed": true
   },
   "outputs": [],
   "source": [
    "def predict_target_value(x,b0,b1):\n",
    "    \"\"\"\n",
    "        calculate the target value y on the basis of x and coefficeints b0 and b1\n",
    "        :param x\n",
    "        :param b0\n",
    "        :param b1\n",
    "    \"\"\"\n",
    "    return b0+b1*x"
   ]
  },
  {
   "cell_type": "code",
   "execution_count": 67,
   "metadata": {
    "collapsed": true
   },
   "outputs": [],
   "source": [
    "def cal_RootMeanSquare(actual_number,predicted_number):\n",
    "    \"\"\"\n",
    "        calculate the root mean square error\n",
    "        :param actual_number\n",
    "        :param predicted_number\n",
    "        :return\n",
    "    \"\"\"\n",
    "    square_error=0.0\n",
    "    total_number=len(actual_number)\n",
    "    for i in range(0,total_number):\n",
    "        error=predicted_number[i]-actual_number[i]\n",
    "        square_error+=pow(error,2)\n",
    "        rmse=square_error/float(total_number)\n",
    "        return rmse"
   ]
  },
  {
   "cell_type": "code",
   "execution_count": 70,
   "metadata": {},
   "outputs": [
    {
     "name": "stdout",
     "output_type": "stream",
     "text": [
      "(114.44303797468355, 0.0379746835443038)\n"
     ]
    }
   ],
   "source": [
    "x=regression_coefficients([120,199],[119,122])\n",
    "print(x)"
   ]
  },
  {
   "cell_type": "code",
   "execution_count": null,
   "metadata": {
    "collapsed": true
   },
   "outputs": [],
   "source": []
  }
 ],
 "metadata": {
  "kernelspec": {
   "display_name": "Python 3",
   "language": "python",
   "name": "python3"
  },
  "language_info": {
   "codemirror_mode": {
    "name": "ipython",
    "version": 3
   },
   "file_extension": ".py",
   "mimetype": "text/x-python",
   "name": "python",
   "nbconvert_exporter": "python",
   "pygments_lexer": "ipython3",
   "version": "3.6.1"
  }
 },
 "nbformat": 4,
 "nbformat_minor": 2
}
